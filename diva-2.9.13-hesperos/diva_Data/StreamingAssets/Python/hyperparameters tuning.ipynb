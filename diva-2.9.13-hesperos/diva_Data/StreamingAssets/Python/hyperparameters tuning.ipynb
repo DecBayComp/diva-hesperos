{
 "cells": [
  {
   "cell_type": "code",
   "execution_count": 11,
   "metadata": {},
   "outputs": [],
   "source": [
    "import warnings\n",
    "warnings.filterwarnings('ignore')\n",
    " "
   ]
  },
  {
   "cell_type": "code",
   "execution_count": 12,
   "metadata": {},
   "outputs": [],
   "source": [
    "from __future__ import division\n",
    "\n",
    "import numpy as np\n",
    "import sklearn.datasets\n",
    "import sklearn.metrics\n",
    "from sklearn.model_selection import train_test_split\n",
    "import xgboost as xgb\n",
    "\n",
    "import optuna"
   ]
  },
  {
   "cell_type": "code",
   "execution_count": 13,
   "metadata": {},
   "outputs": [],
   "source": [
    "# FYI: Objective functions can take additional arguments\n",
    "# (https://optuna.readthedocs.io/en/stable/faq.html#objective-func-additional-args)."
   ]
  },
  {
   "cell_type": "code",
   "execution_count": 16,
   "metadata": {},
   "outputs": [],
   "source": [
    "def objective(trial):\n",
    "    data, target = sklearn.datasets.load_breast_cancer(return_X_y=True)\n",
    "    train_x, test_x, train_y, test_y = train_test_split(data, target, test_size=0.25)\n",
    "    dtrain = xgb.DMatrix(train_x, label=train_y)\n",
    "    dtest = xgb.DMatrix(test_x, label=test_y)\n",
    "\n",
    "    param = {\n",
    "        'silent': 1,\n",
    "        'objective': 'binary:logistic',\n",
    "        'eval_metric': 'auc',\n",
    "        'booster': trial.suggest_categorical('booster', ['gbtree', 'gblinear', 'dart']),\n",
    "        'lambda': trial.suggest_loguniform('lambda', 1e-8, 1.0),\n",
    "        'alpha': trial.suggest_loguniform('alpha', 1e-8, 1.0)\n",
    "    }\n",
    "\n",
    "    if param['booster'] == 'gbtree' or param['booster'] == 'dart':\n",
    "        param['max_depth'] = trial.suggest_int('max_depth', 1, 9)\n",
    "        param['eta'] = trial.suggest_loguniform('eta', 1e-8, 1.0)\n",
    "        param['gamma'] = trial.suggest_loguniform('gamma', 1e-8, 1.0)\n",
    "        param['grow_policy'] = trial.suggest_categorical('grow_policy', ['depthwise', 'lossguide'])\n",
    "    if param['booster'] == 'dart':\n",
    "        param['sample_type'] = trial.suggest_categorical('sample_type', ['uniform', 'weighted'])\n",
    "        param['normalize_type'] = trial.suggest_categorical('normalize_type', ['tree', 'forest'])\n",
    "        param['rate_drop'] = trial.suggest_loguniform('rate_drop', 1e-8, 1.0)\n",
    "        param['skip_drop'] = trial.suggest_loguniform('skip_drop', 1e-8, 1.0)\n",
    "\n",
    "    # Add a callback for pruning.\n",
    "    pruning_callback = optuna.integration.XGBoostPruningCallback(trial, 'validation-auc')\n",
    "    bst = xgb.train(param, dtrain, evals=[(dtest, 'validation')], callbacks=[pruning_callback])\n",
    "    preds = bst.predict(dtest)\n",
    "    pred_labels = np.rint(preds)\n",
    "    accuracy = sklearn.metrics.accuracy_score(test_y, pred_labels)\n",
    "    return accuracy"
   ]
  },
  {
   "cell_type": "code",
   "execution_count": 17,
   "metadata": {},
   "outputs": [
    {
     "name": "stdout",
     "output_type": "stream",
     "text": [
      "[0]\tvalidation-auc:0.871242\n",
      "[1]\tvalidation-auc:0.871242\n",
      "[2]\tvalidation-auc:0.871242\n",
      "[3]\tvalidation-auc:0.871242\n",
      "[4]\tvalidation-auc:0.871242\n",
      "[5]\tvalidation-auc:0.871242\n",
      "[6]\tvalidation-auc:0.871242\n",
      "[7]\tvalidation-auc:0.871242\n",
      "[8]\tvalidation-auc:0.871242\n",
      "[9]\tvalidation-auc:0.871242\n"
     ]
    },
    {
     "name": "stderr",
     "output_type": "stream",
     "text": [
      "[I 2019-11-01 16:01:05,645] Finished trial#0 resulted in value: 0.8741258741258742. Current best value is 0.8741258741258742 with parameters: {'booster': 'dart', 'lambda': 0.00019212467951018207, 'alpha': 2.411601375921556e-08, 'max_depth': 1, 'eta': 0.00018604254675013283, 'gamma': 1.4712627517184022e-05, 'grow_policy': 'depthwise', 'sample_type': 'uniform', 'normalize_type': 'forest', 'rate_drop': 4.1506713452750165e-05, 'skip_drop': 4.652548820330033e-08}.\n"
     ]
    },
    {
     "name": "stdout",
     "output_type": "stream",
     "text": [
      "[0]\tvalidation-auc:0.930419\n",
      "[1]\tvalidation-auc:0.949302\n",
      "[2]\tvalidation-auc:0.947865\n",
      "[3]\tvalidation-auc:0.952586\n",
      "[4]\tvalidation-auc:0.94725\n",
      "[5]\tvalidation-auc:0.948686\n",
      "[6]\tvalidation-auc:0.949713\n",
      "[7]\tvalidation-auc:0.952381\n",
      "[8]\tvalidation-auc:0.953202\n",
      "[9]\tvalidation-auc:0.954844\n"
     ]
    },
    {
     "name": "stderr",
     "output_type": "stream",
     "text": [
      "[I 2019-11-01 16:01:05,760] Finished trial#1 resulted in value: 0.9020979020979021. Current best value is 0.9020979020979021 with parameters: {'booster': 'gblinear', 'lambda': 1.3185031003662474e-07, 'alpha': 0.7318297293890196}.\n"
     ]
    },
    {
     "name": "stdout",
     "output_type": "stream",
     "text": [
      "[0]\tvalidation-auc:0.925803\n",
      "[1]\tvalidation-auc:0.925803\n",
      "[2]\tvalidation-auc:0.925803\n",
      "[3]\tvalidation-auc:0.925803\n",
      "[4]\tvalidation-auc:0.925803\n",
      "[5]\tvalidation-auc:0.925803\n",
      "[6]\tvalidation-auc:0.925803\n",
      "[7]\tvalidation-auc:0.925803\n",
      "[8]\tvalidation-auc:0.925803\n",
      "[9]\tvalidation-auc:0.925803\n"
     ]
    },
    {
     "name": "stderr",
     "output_type": "stream",
     "text": [
      "[I 2019-11-01 16:01:05,886] Finished trial#2 resulted in value: 0.9090909090909091. Current best value is 0.9090909090909091 with parameters: {'booster': 'dart', 'lambda': 2.770882721368448e-05, 'alpha': 0.5019165090763554, 'max_depth': 2, 'eta': 0.008081130492580193, 'gamma': 0.03808269879538313, 'grow_policy': 'lossguide', 'sample_type': 'uniform', 'normalize_type': 'forest', 'rate_drop': 0.0003488704935826756, 'skip_drop': 8.14480499269494e-06}.\n"
     ]
    },
    {
     "name": "stdout",
     "output_type": "stream",
     "text": [
      "[0]\tvalidation-auc:0.914078\n",
      "[1]\tvalidation-auc:0.946237\n",
      "[2]\tvalidation-auc:0.952509\n",
      "[3]\tvalidation-auc:0.953405\n",
      "[4]\tvalidation-auc:0.952409\n",
      "[5]\tvalidation-auc:0.952111\n",
      "[6]\tvalidation-auc:0.952609\n",
      "[7]\tvalidation-auc:0.952509\n",
      "[8]\tvalidation-auc:0.952509\n",
      "[9]\tvalidation-auc:0.952509\n"
     ]
    },
    {
     "name": "stderr",
     "output_type": "stream",
     "text": [
      "[I 2019-11-01 16:01:06,021] Finished trial#3 resulted in value: 0.9370629370629371. Current best value is 0.9370629370629371 with parameters: {'booster': 'gbtree', 'lambda': 7.360838014537827e-06, 'alpha': 9.45975037133821e-06, 'max_depth': 7, 'eta': 7.432365438024388e-08, 'gamma': 0.027295876535413523, 'grow_policy': 'lossguide'}.\n"
     ]
    },
    {
     "name": "stdout",
     "output_type": "stream",
     "text": [
      "[0]\tvalidation-auc:0.767149\n",
      "[1]\tvalidation-auc:0.791942\n",
      "[2]\tvalidation-auc:0.846488\n",
      "[3]\tvalidation-auc:0.862603\n",
      "[4]\tvalidation-auc:0.87624\n",
      "[5]\tvalidation-auc:0.908264\n",
      "[6]\tvalidation-auc:0.916322\n",
      "[7]\tvalidation-auc:0.94938\n",
      "[8]\tvalidation-auc:0.920248\n",
      "[9]\tvalidation-auc:0.934711\n"
     ]
    },
    {
     "name": "stderr",
     "output_type": "stream",
     "text": [
      "[I 2019-11-01 16:01:06,141] Finished trial#4 resulted in value: 0.8811188811188811. Current best value is 0.9370629370629371 with parameters: {'booster': 'gbtree', 'lambda': 7.360838014537827e-06, 'alpha': 9.45975037133821e-06, 'max_depth': 7, 'eta': 7.432365438024388e-08, 'gamma': 0.027295876535413523, 'grow_policy': 'lossguide'}.\n"
     ]
    },
    {
     "name": "stdout",
     "output_type": "stream",
     "text": [
      "[0]\tvalidation-auc:0.967332\n",
      "[1]\tvalidation-auc:0.964419\n",
      "[2]\tvalidation-auc:0.970454\n",
      "[3]\tvalidation-auc:0.969309\n",
      "[4]\tvalidation-auc:0.968477\n",
      "[5]\tvalidation-auc:0.968581\n",
      "[6]\tvalidation-auc:0.968893\n",
      "[7]\tvalidation-auc:0.968789\n",
      "[8]\tvalidation-auc:0.968685\n",
      "[9]\tvalidation-auc:0.968581\n"
     ]
    },
    {
     "name": "stderr",
     "output_type": "stream",
     "text": [
      "[I 2019-11-01 16:01:06,282] Finished trial#5 resulted in value: 0.951048951048951. Current best value is 0.951048951048951 with parameters: {'booster': 'gbtree', 'lambda': 2.25805972458292e-07, 'alpha': 0.006496681510804606, 'max_depth': 9, 'eta': 0.00012108025789503044, 'gamma': 9.587520359830382e-05, 'grow_policy': 'depthwise'}.\n"
     ]
    },
    {
     "name": "stdout",
     "output_type": "stream",
     "text": [
      "[0]\tvalidation-auc:0.860643\n",
      "[1]\tvalidation-auc:0.954116\n",
      "[2]\tvalidation-auc:0.976004\n",
      "[3]\tvalidation-auc:0.979116\n",
      "[4]\tvalidation-auc:0.981526\n",
      "[5]\tvalidation-auc:0.98012\n",
      "[6]\tvalidation-auc:0.983133\n",
      "[7]\tvalidation-auc:0.985241\n",
      "[8]\tvalidation-auc:0.987851\n",
      "[9]\tvalidation-auc:0.984639\n"
     ]
    },
    {
     "name": "stderr",
     "output_type": "stream",
     "text": [
      "[I 2019-11-01 16:01:06,426] Finished trial#6 resulted in value: 0.9230769230769231. Current best value is 0.951048951048951 with parameters: {'booster': 'gbtree', 'lambda': 2.25805972458292e-07, 'alpha': 0.006496681510804606, 'max_depth': 9, 'eta': 0.00012108025789503044, 'gamma': 9.587520359830382e-05, 'grow_policy': 'depthwise'}.\n"
     ]
    },
    {
     "name": "stdout",
     "output_type": "stream",
     "text": [
      "[0]\tvalidation-auc:0.958052\n",
      "[1]\tvalidation-auc:0.954459\n",
      "[2]\tvalidation-auc:0.954142\n",
      "[3]\tvalidation-auc:0.954142\n",
      "[4]\tvalidation-auc:0.954142\n",
      "[5]\tvalidation-auc:0.960799\n",
      "[6]\tvalidation-auc:0.954142\n",
      "[7]\tvalidation-auc:0.954142\n",
      "[8]\tvalidation-auc:0.954142\n",
      "[9]\tvalidation-auc:0.954142\n"
     ]
    },
    {
     "name": "stderr",
     "output_type": "stream",
     "text": [
      "[I 2019-11-01 16:01:06,592] Finished trial#7 resulted in value: 0.951048951048951. Current best value is 0.951048951048951 with parameters: {'booster': 'gbtree', 'lambda': 2.25805972458292e-07, 'alpha': 0.006496681510804606, 'max_depth': 9, 'eta': 0.00012108025789503044, 'gamma': 9.587520359830382e-05, 'grow_policy': 'depthwise'}.\n"
     ]
    },
    {
     "name": "stdout",
     "output_type": "stream",
     "text": [
      "[0]\tvalidation-auc:0.98003\n",
      "[1]\tvalidation-auc:0.991653\n",
      "[2]\tvalidation-auc:0.994294\n",
      "[3]\tvalidation-auc:0.995351\n",
      "[4]\tvalidation-auc:0.995351\n",
      "[5]\tvalidation-auc:0.995562\n",
      "[6]\tvalidation-auc:0.995139\n",
      "[7]\tvalidation-auc:0.994928\n",
      "[8]\tvalidation-auc:0.994717\n",
      "[9]\tvalidation-auc:0.995562\n"
     ]
    },
    {
     "name": "stderr",
     "output_type": "stream",
     "text": [
      "[I 2019-11-01 16:01:06,735] Finished trial#8 resulted in value: 0.972027972027972. Current best value is 0.972027972027972 with parameters: {'booster': 'gbtree', 'lambda': 3.413395266900941e-07, 'alpha': 1.295857102451433e-07, 'max_depth': 5, 'eta': 0.8556609659891082, 'gamma': 4.211119213485256e-07, 'grow_policy': 'depthwise'}.\n"
     ]
    },
    {
     "name": "stdout",
     "output_type": "stream",
     "text": [
      "[0]\tvalidation-auc:0.733469\n",
      "[1]\tvalidation-auc:0.755172\n",
      "[2]\tvalidation-auc:0.799189\n",
      "[3]\tvalidation-auc:0.81785\n",
      "[4]\tvalidation-auc:0.826978\n",
      "[5]\tvalidation-auc:0.832657\n"
     ]
    },
    {
     "name": "stderr",
     "output_type": "stream",
     "text": [
      "[I 2019-11-01 16:01:06,768] Setting status of trial#9 as TrialState.PRUNED. Trial was pruned at iteration 6.\n"
     ]
    },
    {
     "name": "stdout",
     "output_type": "stream",
     "text": [
      "[0]\tvalidation-auc:0.943145\n",
      "[1]\tvalidation-auc:0.95782\n",
      "[2]\tvalidation-auc:0.967775\n",
      "[3]\tvalidation-auc:0.969212\n",
      "[4]\tvalidation-auc:0.975883\n",
      "[5]\tvalidation-auc:0.976088\n",
      "[6]\tvalidation-auc:0.980193\n",
      "[7]\tvalidation-auc:0.981527\n",
      "[8]\tvalidation-auc:0.981835\n",
      "[9]\tvalidation-auc:0.981835\n"
     ]
    },
    {
     "name": "stderr",
     "output_type": "stream",
     "text": [
      "[I 2019-11-01 16:01:07,003] Finished trial#10 resulted in value: 0.9300699300699301. Current best value is 0.972027972027972 with parameters: {'booster': 'gbtree', 'lambda': 3.413395266900941e-07, 'alpha': 1.295857102451433e-07, 'max_depth': 5, 'eta': 0.8556609659891082, 'gamma': 4.211119213485256e-07, 'grow_policy': 'depthwise'}.\n"
     ]
    },
    {
     "name": "stdout",
     "output_type": "stream",
     "text": [
      "[0]\tvalidation-auc:0.965163\n",
      "[1]\tvalidation-auc:0.964536\n",
      "[2]\tvalidation-auc:0.964536\n",
      "[3]\tvalidation-auc:0.964536\n",
      "[4]\tvalidation-auc:0.964536\n",
      "[5]\tvalidation-auc:0.965664\n",
      "[6]\tvalidation-auc:0.965915\n",
      "[7]\tvalidation-auc:0.964286\n",
      "[8]\tvalidation-auc:0.964286\n",
      "[9]\tvalidation-auc:0.964286\n"
     ]
    },
    {
     "name": "stderr",
     "output_type": "stream",
     "text": [
      "[I 2019-11-01 16:01:07,154] Finished trial#11 resulted in value: 0.9370629370629371. Current best value is 0.972027972027972 with parameters: {'booster': 'gbtree', 'lambda': 3.413395266900941e-07, 'alpha': 1.295857102451433e-07, 'max_depth': 5, 'eta': 0.8556609659891082, 'gamma': 4.211119213485256e-07, 'grow_policy': 'depthwise'}.\n"
     ]
    },
    {
     "name": "stdout",
     "output_type": "stream",
     "text": [
      "[0]\tvalidation-auc:0.960997\n",
      "[1]\tvalidation-auc:0.961211\n",
      "[2]\tvalidation-auc:0.964727\n",
      "[3]\tvalidation-auc:0.960997\n",
      "[4]\tvalidation-auc:0.964727\n",
      "[5]\tvalidation-auc:0.964727\n",
      "[6]\tvalidation-auc:0.964727\n",
      "[7]\tvalidation-auc:0.964727\n",
      "[8]\tvalidation-auc:0.964727\n",
      "[9]\tvalidation-auc:0.964727\n"
     ]
    },
    {
     "name": "stderr",
     "output_type": "stream",
     "text": [
      "[I 2019-11-01 16:01:07,301] Finished trial#12 resulted in value: 0.9440559440559441. Current best value is 0.972027972027972 with parameters: {'booster': 'gbtree', 'lambda': 3.413395266900941e-07, 'alpha': 1.295857102451433e-07, 'max_depth': 5, 'eta': 0.8556609659891082, 'gamma': 4.211119213485256e-07, 'grow_policy': 'depthwise'}.\n"
     ]
    },
    {
     "name": "stdout",
     "output_type": "stream",
     "text": [
      "[0]\tvalidation-auc:0.950913\n",
      "[1]\tvalidation-auc:0.967951\n",
      "[2]\tvalidation-auc:0.980832\n",
      "[3]\tvalidation-auc:0.98002\n",
      "[4]\tvalidation-auc:0.980325\n",
      "[5]\tvalidation-auc:0.980325\n",
      "[6]\tvalidation-auc:0.980527\n",
      "[7]\tvalidation-auc:0.981947\n",
      "[8]\tvalidation-auc:0.981542\n",
      "[9]\tvalidation-auc:0.981744\n"
     ]
    },
    {
     "name": "stderr",
     "output_type": "stream",
     "text": [
      "[I 2019-11-01 16:01:07,469] Finished trial#13 resulted in value: 0.9370629370629371. Current best value is 0.972027972027972 with parameters: {'booster': 'gbtree', 'lambda': 3.413395266900941e-07, 'alpha': 1.295857102451433e-07, 'max_depth': 5, 'eta': 0.8556609659891082, 'gamma': 4.211119213485256e-07, 'grow_policy': 'depthwise'}.\n"
     ]
    },
    {
     "name": "stdout",
     "output_type": "stream",
     "text": [
      "[0]\tvalidation-auc:0.951819\n",
      "[1]\tvalidation-auc:0.956617\n",
      "[2]\tvalidation-auc:0.961415\n",
      "[3]\tvalidation-auc:0.968513\n",
      "[4]\tvalidation-auc:0.967913\n",
      "[5]\tvalidation-auc:0.967613\n",
      "[6]\tvalidation-auc:0.967613\n",
      "[7]\tvalidation-auc:0.967513\n",
      "[8]\tvalidation-auc:0.967513\n",
      "[9]\tvalidation-auc:0.967613\n"
     ]
    },
    {
     "name": "stderr",
     "output_type": "stream",
     "text": [
      "[I 2019-11-01 16:01:07,638] Finished trial#14 resulted in value: 0.9370629370629371. Current best value is 0.972027972027972 with parameters: {'booster': 'gbtree', 'lambda': 3.413395266900941e-07, 'alpha': 1.295857102451433e-07, 'max_depth': 5, 'eta': 0.8556609659891082, 'gamma': 4.211119213485256e-07, 'grow_policy': 'depthwise'}.\n"
     ]
    },
    {
     "name": "stdout",
     "output_type": "stream",
     "text": [
      "[0]\tvalidation-auc:0.952154\n",
      "[1]\tvalidation-auc:0.958844\n",
      "[2]\tvalidation-auc:0.958617\n",
      "[3]\tvalidation-auc:0.958957\n",
      "[4]\tvalidation-auc:0.958617\n",
      "[5]\tvalidation-auc:0.95873\n"
     ]
    },
    {
     "name": "stderr",
     "output_type": "stream",
     "text": [
      "[I 2019-11-01 16:01:07,703] Setting status of trial#15 as TrialState.PRUNED. Trial was pruned at iteration 6.\n"
     ]
    },
    {
     "name": "stdout",
     "output_type": "stream",
     "text": [
      "[0]\tvalidation-auc:0.93396\n",
      "[1]\tvalidation-auc:0.93396\n",
      "[2]\tvalidation-auc:0.93396\n",
      "[3]\tvalidation-auc:0.93396\n",
      "[4]\tvalidation-auc:0.93396\n",
      "[5]\tvalidation-auc:0.93396\n"
     ]
    },
    {
     "name": "stderr",
     "output_type": "stream",
     "text": [
      "[I 2019-11-01 16:01:07,852] Setting status of trial#16 as TrialState.PRUNED. Trial was pruned at iteration 6.\n"
     ]
    },
    {
     "name": "stdout",
     "output_type": "stream",
     "text": [
      "[0]\tvalidation-auc:0.960243\n",
      "[1]\tvalidation-auc:0.962475\n",
      "[2]\tvalidation-auc:0.963083\n",
      "[3]\tvalidation-auc:0.959533\n",
      "[4]\tvalidation-auc:0.961663\n",
      "[5]\tvalidation-auc:0.96146\n"
     ]
    },
    {
     "name": "stderr",
     "output_type": "stream",
     "text": [
      "[I 2019-11-01 16:01:08,007] Setting status of trial#17 as TrialState.PRUNED. Trial was pruned at iteration 6.\n"
     ]
    },
    {
     "name": "stdout",
     "output_type": "stream",
     "text": [
      "[0]\tvalidation-auc:0.5\n",
      "[1]\tvalidation-auc:0.5\n",
      "[2]\tvalidation-auc:0.5\n",
      "[3]\tvalidation-auc:0.892191\n",
      "[4]\tvalidation-auc:0.903955\n",
      "[5]\tvalidation-auc:0.903955\n"
     ]
    },
    {
     "name": "stderr",
     "output_type": "stream",
     "text": [
      "[I 2019-11-01 16:01:08,160] Setting status of trial#18 as TrialState.PRUNED. Trial was pruned at iteration 6.\n"
     ]
    },
    {
     "name": "stdout",
     "output_type": "stream",
     "text": [
      "[0]\tvalidation-auc:0.979966\n",
      "[1]\tvalidation-auc:0.989663\n",
      "[2]\tvalidation-auc:0.98945\n",
      "[3]\tvalidation-auc:0.98945\n",
      "[4]\tvalidation-auc:0.989557\n",
      "[5]\tvalidation-auc:0.98945\n",
      "[6]\tvalidation-auc:0.98945\n",
      "[7]\tvalidation-auc:0.98945\n",
      "[8]\tvalidation-auc:0.98945\n",
      "[9]\tvalidation-auc:0.98945\n"
     ]
    },
    {
     "name": "stderr",
     "output_type": "stream",
     "text": [
      "[I 2019-11-01 16:01:08,418] Finished trial#19 resulted in value: 0.951048951048951. Current best value is 0.972027972027972 with parameters: {'booster': 'gbtree', 'lambda': 3.413395266900941e-07, 'alpha': 1.295857102451433e-07, 'max_depth': 5, 'eta': 0.8556609659891082, 'gamma': 4.211119213485256e-07, 'grow_policy': 'depthwise'}.\n"
     ]
    },
    {
     "name": "stdout",
     "output_type": "stream",
     "text": [
      "[0]\tvalidation-auc:0.848837\n",
      "[1]\tvalidation-auc:0.826805\n",
      "[2]\tvalidation-auc:0.850061\n",
      "[3]\tvalidation-auc:0.861485\n",
      "[4]\tvalidation-auc:0.839045\n",
      "[5]\tvalidation-auc:0.77193\n"
     ]
    },
    {
     "name": "stderr",
     "output_type": "stream",
     "text": [
      "[I 2019-11-01 16:01:08,466] Setting status of trial#20 as TrialState.PRUNED. Trial was pruned at iteration 6.\n"
     ]
    },
    {
     "name": "stdout",
     "output_type": "stream",
     "text": [
      "[0]\tvalidation-auc:0.94084\n",
      "[1]\tvalidation-auc:0.949204\n",
      "[2]\tvalidation-auc:0.949204\n",
      "[3]\tvalidation-auc:0.949408\n",
      "[4]\tvalidation-auc:0.949408\n",
      "[5]\tvalidation-auc:0.949408\n"
     ]
    },
    {
     "name": "stderr",
     "output_type": "stream",
     "text": [
      "[I 2019-11-01 16:01:08,634] Setting status of trial#21 as TrialState.PRUNED. Trial was pruned at iteration 6.\n"
     ]
    },
    {
     "name": "stdout",
     "output_type": "stream",
     "text": [
      "[0]\tvalidation-auc:0.961505\n",
      "[1]\tvalidation-auc:0.967742\n",
      "[2]\tvalidation-auc:0.966237\n",
      "[3]\tvalidation-auc:0.968602\n",
      "[4]\tvalidation-auc:0.973656\n",
      "[5]\tvalidation-auc:0.975376\n",
      "[6]\tvalidation-auc:0.976022\n",
      "[7]\tvalidation-auc:0.976559\n",
      "[8]\tvalidation-auc:0.977634\n",
      "[9]\tvalidation-auc:0.977527\n"
     ]
    },
    {
     "name": "stderr",
     "output_type": "stream",
     "text": [
      "[I 2019-11-01 16:01:08,917] Finished trial#22 resulted in value: 0.9090909090909091. Current best value is 0.972027972027972 with parameters: {'booster': 'gbtree', 'lambda': 3.413395266900941e-07, 'alpha': 1.295857102451433e-07, 'max_depth': 5, 'eta': 0.8556609659891082, 'gamma': 4.211119213485256e-07, 'grow_policy': 'depthwise'}.\n"
     ]
    },
    {
     "name": "stdout",
     "output_type": "stream",
     "text": [
      "[0]\tvalidation-auc:0.5\n",
      "[1]\tvalidation-auc:0.5\n",
      "[2]\tvalidation-auc:0.5\n",
      "[3]\tvalidation-auc:0.5\n",
      "[4]\tvalidation-auc:0.906569\n",
      "[5]\tvalidation-auc:0.906569\n"
     ]
    },
    {
     "name": "stderr",
     "output_type": "stream",
     "text": [
      "[I 2019-11-01 16:01:08,993] Setting status of trial#23 as TrialState.PRUNED. Trial was pruned at iteration 6.\n"
     ]
    },
    {
     "name": "stdout",
     "output_type": "stream",
     "text": [
      "[0]\tvalidation-auc:0.937841\n",
      "[1]\tvalidation-auc:0.938784\n",
      "[2]\tvalidation-auc:0.937945\n",
      "[3]\tvalidation-auc:0.937945\n",
      "[4]\tvalidation-auc:0.937945\n",
      "[5]\tvalidation-auc:0.945912\n"
     ]
    },
    {
     "name": "stderr",
     "output_type": "stream",
     "text": [
      "[I 2019-11-01 16:01:09,164] Setting status of trial#24 as TrialState.PRUNED. Trial was pruned at iteration 6.\n"
     ]
    },
    {
     "name": "stdout",
     "output_type": "stream",
     "text": [
      "[0]\tvalidation-auc:0.939877\n",
      "[1]\tvalidation-auc:0.966927\n",
      "[2]\tvalidation-auc:0.965554\n",
      "[3]\tvalidation-auc:0.967139\n",
      "[4]\tvalidation-auc:0.964708\n",
      "[5]\tvalidation-auc:0.966082\n",
      "[6]\tvalidation-auc:0.965237\n",
      "[7]\tvalidation-auc:0.967139\n",
      "[8]\tvalidation-auc:0.965448\n",
      "[9]\tvalidation-auc:0.966188\n"
     ]
    },
    {
     "name": "stderr",
     "output_type": "stream",
     "text": [
      "[I 2019-11-01 16:01:09,458] Finished trial#25 resulted in value: 0.9440559440559441. Current best value is 0.972027972027972 with parameters: {'booster': 'gbtree', 'lambda': 3.413395266900941e-07, 'alpha': 1.295857102451433e-07, 'max_depth': 5, 'eta': 0.8556609659891082, 'gamma': 4.211119213485256e-07, 'grow_policy': 'depthwise'}.\n"
     ]
    },
    {
     "name": "stdout",
     "output_type": "stream",
     "text": [
      "[0]\tvalidation-auc:0.940776\n",
      "[1]\tvalidation-auc:0.949476\n",
      "[2]\tvalidation-auc:0.5\n",
      "[3]\tvalidation-auc:0.968344\n",
      "[4]\tvalidation-auc:0.968134\n",
      "[5]\tvalidation-auc:0.965618\n",
      "[6]\tvalidation-auc:0.956918\n",
      "[7]\tvalidation-auc:0.968449\n",
      "[8]\tvalidation-auc:0.964361\n",
      "[9]\tvalidation-auc:0.964256\n"
     ]
    },
    {
     "name": "stderr",
     "output_type": "stream",
     "text": [
      "[I 2019-11-01 16:01:09,666] Finished trial#26 resulted in value: 0.9370629370629371. Current best value is 0.972027972027972 with parameters: {'booster': 'gbtree', 'lambda': 3.413395266900941e-07, 'alpha': 1.295857102451433e-07, 'max_depth': 5, 'eta': 0.8556609659891082, 'gamma': 4.211119213485256e-07, 'grow_policy': 'depthwise'}.\n"
     ]
    },
    {
     "name": "stdout",
     "output_type": "stream",
     "text": [
      "[0]\tvalidation-auc:0.928389\n",
      "[1]\tvalidation-auc:0.924552\n",
      "[2]\tvalidation-auc:0.925405\n",
      "[3]\tvalidation-auc:0.924446\n",
      "[4]\tvalidation-auc:0.924659\n",
      "[5]\tvalidation-auc:0.924446\n"
     ]
    },
    {
     "name": "stderr",
     "output_type": "stream",
     "text": [
      "[I 2019-11-01 16:01:09,752] Setting status of trial#27 as TrialState.PRUNED. Trial was pruned at iteration 6.\n"
     ]
    },
    {
     "name": "stdout",
     "output_type": "stream",
     "text": [
      "[0]\tvalidation-auc:0.954624\n",
      "[1]\tvalidation-auc:0.956129\n",
      "[2]\tvalidation-auc:0.956021\n",
      "[3]\tvalidation-auc:0.954731\n",
      "[4]\tvalidation-auc:0.954731\n",
      "[5]\tvalidation-auc:0.954839\n"
     ]
    },
    {
     "name": "stderr",
     "output_type": "stream",
     "text": [
      "[I 2019-11-01 16:01:09,939] Setting status of trial#28 as TrialState.PRUNED. Trial was pruned at iteration 6.\n"
     ]
    },
    {
     "name": "stdout",
     "output_type": "stream",
     "text": [
      "[0]\tvalidation-auc:0.945119\n",
      "[1]\tvalidation-auc:0.946611\n",
      "[2]\tvalidation-auc:0.946611\n",
      "[3]\tvalidation-auc:0.946611\n",
      "[4]\tvalidation-auc:0.946611\n",
      "[5]\tvalidation-auc:0.946611\n"
     ]
    },
    {
     "name": "stderr",
     "output_type": "stream",
     "text": [
      "[I 2019-11-01 16:01:10,129] Setting status of trial#29 as TrialState.PRUNED. Trial was pruned at iteration 6.\n"
     ]
    },
    {
     "name": "stdout",
     "output_type": "stream",
     "text": [
      "[0]\tvalidation-auc:0.5\n",
      "[1]\tvalidation-auc:0.884973\n",
      "[2]\tvalidation-auc:0.904255\n",
      "[3]\tvalidation-auc:0.904255\n",
      "[4]\tvalidation-auc:0.936392\n",
      "[5]\tvalidation-auc:0.936392\n"
     ]
    },
    {
     "name": "stderr",
     "output_type": "stream",
     "text": [
      "[I 2019-11-01 16:01:10,304] Setting status of trial#30 as TrialState.PRUNED. Trial was pruned at iteration 6.\n"
     ]
    },
    {
     "name": "stdout",
     "output_type": "stream",
     "text": [
      "[0]\tvalidation-auc:0.966782\n",
      "[1]\tvalidation-auc:0.97145\n",
      "[2]\tvalidation-auc:0.971884\n",
      "[3]\tvalidation-auc:0.972427\n",
      "[4]\tvalidation-auc:0.972319\n",
      "[5]\tvalidation-auc:0.972102\n",
      "[6]\tvalidation-auc:0.972319\n",
      "[7]\tvalidation-auc:0.97221\n",
      "[8]\tvalidation-auc:0.972536\n",
      "[9]\tvalidation-auc:0.97221\n"
     ]
    },
    {
     "name": "stderr",
     "output_type": "stream",
     "text": [
      "[I 2019-11-01 16:01:10,595] Finished trial#31 resulted in value: 0.9230769230769231. Current best value is 0.972027972027972 with parameters: {'booster': 'gbtree', 'lambda': 3.413395266900941e-07, 'alpha': 1.295857102451433e-07, 'max_depth': 5, 'eta': 0.8556609659891082, 'gamma': 4.211119213485256e-07, 'grow_policy': 'depthwise'}.\n"
     ]
    },
    {
     "name": "stdout",
     "output_type": "stream",
     "text": [
      "[0]\tvalidation-auc:0.946855\n",
      "[1]\tvalidation-auc:0.950943\n",
      "[2]\tvalidation-auc:0.950839\n",
      "[3]\tvalidation-auc:0.950943\n",
      "[4]\tvalidation-auc:0.950839\n",
      "[5]\tvalidation-auc:0.950943\n"
     ]
    },
    {
     "name": "stderr",
     "output_type": "stream",
     "text": [
      "[I 2019-11-01 16:01:10,693] Setting status of trial#32 as TrialState.PRUNED. Trial was pruned at iteration 6.\n"
     ]
    },
    {
     "name": "stdout",
     "output_type": "stream",
     "text": [
      "[0]\tvalidation-auc:0.962989\n",
      "[1]\tvalidation-auc:0.966761\n",
      "[2]\tvalidation-auc:0.9657\n",
      "[3]\tvalidation-auc:0.963107\n",
      "[4]\tvalidation-auc:0.964993\n",
      "[5]\tvalidation-auc:0.965229\n",
      "[6]\tvalidation-auc:0.964757\n"
     ]
    },
    {
     "name": "stderr",
     "output_type": "stream",
     "text": [
      "[I 2019-11-01 16:01:10,888] Setting status of trial#33 as TrialState.PRUNED. Trial was pruned at iteration 7.\n"
     ]
    },
    {
     "name": "stdout",
     "output_type": "stream",
     "text": [
      "[0]\tvalidation-auc:0.924573\n",
      "[1]\tvalidation-auc:0.941323\n",
      "[2]\tvalidation-auc:0.940491\n",
      "[3]\tvalidation-auc:0.944861\n",
      "[4]\tvalidation-auc:0.944757\n",
      "[5]\tvalidation-auc:0.944757\n"
     ]
    },
    {
     "name": "stderr",
     "output_type": "stream",
     "text": [
      "[I 2019-11-01 16:01:11,074] Setting status of trial#34 as TrialState.PRUNED. Trial was pruned at iteration 6.\n"
     ]
    },
    {
     "name": "stdout",
     "output_type": "stream",
     "text": [
      "[0]\tvalidation-auc:0.946005\n",
      "[1]\tvalidation-auc:0.728441\n",
      "[2]\tvalidation-auc:0.733188\n",
      "[3]\tvalidation-auc:0.858584\n",
      "[4]\tvalidation-auc:0.944422\n",
      "[5]\tvalidation-auc:0.961432\n"
     ]
    },
    {
     "name": "stderr",
     "output_type": "stream",
     "text": [
      "[I 2019-11-01 16:01:11,226] Setting status of trial#35 as TrialState.PRUNED. Trial was pruned at iteration 6.\n"
     ]
    },
    {
     "name": "stdout",
     "output_type": "stream",
     "text": [
      "[0]\tvalidation-auc:0.970854\n",
      "[1]\tvalidation-auc:0.97619\n",
      "[2]\tvalidation-auc:0.978654\n",
      "[3]\tvalidation-auc:0.975267\n",
      "[4]\tvalidation-auc:0.978243\n",
      "[5]\tvalidation-auc:0.976396\n",
      "[6]\tvalidation-auc:0.976293\n",
      "[7]\tvalidation-auc:0.975677\n",
      "[8]\tvalidation-auc:0.983066\n",
      "[9]\tvalidation-auc:0.97578\n"
     ]
    },
    {
     "name": "stderr",
     "output_type": "stream",
     "text": [
      "[I 2019-11-01 16:01:11,539] Finished trial#36 resulted in value: 0.9370629370629371. Current best value is 0.972027972027972 with parameters: {'booster': 'gbtree', 'lambda': 3.413395266900941e-07, 'alpha': 1.295857102451433e-07, 'max_depth': 5, 'eta': 0.8556609659891082, 'gamma': 4.211119213485256e-07, 'grow_policy': 'depthwise'}.\n"
     ]
    },
    {
     "name": "stdout",
     "output_type": "stream",
     "text": [
      "[0]\tvalidation-auc:0.963335\n",
      "[1]\tvalidation-auc:0.972739\n",
      "[2]\tvalidation-auc:0.972316\n",
      "[3]\tvalidation-auc:0.977494\n",
      "[4]\tvalidation-auc:0.977177\n",
      "[5]\tvalidation-auc:0.976437\n",
      "[6]\tvalidation-auc:0.97686\n",
      "[7]\tvalidation-auc:0.977282\n",
      "[8]\tvalidation-auc:0.97686\n",
      "[9]\tvalidation-auc:0.976226\n"
     ]
    },
    {
     "name": "stderr",
     "output_type": "stream",
     "text": [
      "[I 2019-11-01 16:01:11,804] Finished trial#37 resulted in value: 0.916083916083916. Current best value is 0.972027972027972 with parameters: {'booster': 'gbtree', 'lambda': 3.413395266900941e-07, 'alpha': 1.295857102451433e-07, 'max_depth': 5, 'eta': 0.8556609659891082, 'gamma': 4.211119213485256e-07, 'grow_policy': 'depthwise'}.\n"
     ]
    },
    {
     "name": "stdout",
     "output_type": "stream",
     "text": [
      "[0]\tvalidation-auc:0.90566\n",
      "[1]\tvalidation-auc:0.902096\n",
      "[2]\tvalidation-auc:0.908386\n",
      "[3]\tvalidation-auc:0.922222\n",
      "[4]\tvalidation-auc:0.919916\n",
      "[5]\tvalidation-auc:0.91782\n"
     ]
    },
    {
     "name": "stderr",
     "output_type": "stream",
     "text": [
      "[I 2019-11-01 16:01:11,884] Setting status of trial#38 as TrialState.PRUNED. Trial was pruned at iteration 6.\n"
     ]
    },
    {
     "name": "stdout",
     "output_type": "stream",
     "text": [
      "[0]\tvalidation-auc:0.929983\n",
      "[1]\tvalidation-auc:0.940595\n",
      "[2]\tvalidation-auc:0.929463\n",
      "[3]\tvalidation-auc:0.938202\n",
      "[4]\tvalidation-auc:0.940699\n",
      "[5]\tvalidation-auc:0.940699\n"
     ]
    },
    {
     "name": "stderr",
     "output_type": "stream",
     "text": [
      "[I 2019-11-01 16:01:12,082] Setting status of trial#39 as TrialState.PRUNED. Trial was pruned at iteration 6.\n"
     ]
    },
    {
     "name": "stdout",
     "output_type": "stream",
     "text": [
      "[0]\tvalidation-auc:0.962549\n",
      "[1]\tvalidation-auc:0.963309\n",
      "[2]\tvalidation-auc:0.951259\n",
      "[3]\tvalidation-auc:0.951476\n",
      "[4]\tvalidation-auc:0.951476\n",
      "[5]\tvalidation-auc:0.950825\n"
     ]
    },
    {
     "name": "stderr",
     "output_type": "stream",
     "text": [
      "[I 2019-11-01 16:01:12,283] Setting status of trial#40 as TrialState.PRUNED. Trial was pruned at iteration 6.\n"
     ]
    },
    {
     "name": "stdout",
     "output_type": "stream",
     "text": [
      "[0]\tvalidation-auc:0.956044\n",
      "[1]\tvalidation-auc:0.97538\n",
      "[2]\tvalidation-auc:0.974112\n",
      "[3]\tvalidation-auc:0.972527\n",
      "[4]\tvalidation-auc:0.972527\n",
      "[5]\tvalidation-auc:0.973478\n",
      "[6]\tvalidation-auc:0.97295\n",
      "[7]\tvalidation-auc:0.972316\n",
      "[8]\tvalidation-auc:0.97221\n",
      "[9]\tvalidation-auc:0.972527\n"
     ]
    },
    {
     "name": "stderr",
     "output_type": "stream",
     "text": [
      "[I 2019-11-01 16:01:12,635] Finished trial#41 resulted in value: 0.9230769230769231. Current best value is 0.972027972027972 with parameters: {'booster': 'gbtree', 'lambda': 3.413395266900941e-07, 'alpha': 1.295857102451433e-07, 'max_depth': 5, 'eta': 0.8556609659891082, 'gamma': 4.211119213485256e-07, 'grow_policy': 'depthwise'}.\n"
     ]
    },
    {
     "name": "stdout",
     "output_type": "stream",
     "text": [
      "[0]\tvalidation-auc:0.947455\n",
      "[1]\tvalidation-auc:0.95546\n",
      "[2]\tvalidation-auc:0.954536\n",
      "[3]\tvalidation-auc:0.954331\n",
      "[4]\tvalidation-auc:0.954126\n",
      "[5]\tvalidation-auc:0.95392\n"
     ]
    },
    {
     "name": "stderr",
     "output_type": "stream",
     "text": [
      "[I 2019-11-01 16:01:12,781] Setting status of trial#42 as TrialState.PRUNED. Trial was pruned at iteration 6.\n"
     ]
    },
    {
     "name": "stdout",
     "output_type": "stream",
     "text": [
      "[0]\tvalidation-auc:0.946374\n",
      "[1]\tvalidation-auc:0.962657\n",
      "[2]\tvalidation-auc:0.96472\n",
      "[3]\tvalidation-auc:0.964177\n",
      "[4]\tvalidation-auc:0.964177\n",
      "[5]\tvalidation-auc:0.964177\n"
     ]
    },
    {
     "name": "stderr",
     "output_type": "stream",
     "text": [
      "[I 2019-11-01 16:01:13,004] Setting status of trial#43 as TrialState.PRUNED. Trial was pruned at iteration 6.\n"
     ]
    },
    {
     "name": "stdout",
     "output_type": "stream",
     "text": [
      "[0]\tvalidation-auc:0.98432\n",
      "[1]\tvalidation-auc:0.983004\n",
      "[2]\tvalidation-auc:0.983004\n",
      "[3]\tvalidation-auc:0.983004\n",
      "[4]\tvalidation-auc:0.983443\n",
      "[5]\tvalidation-auc:0.983882\n",
      "[6]\tvalidation-auc:0.983224\n",
      "[7]\tvalidation-auc:0.983224\n",
      "[8]\tvalidation-auc:0.983224\n",
      "[9]\tvalidation-auc:0.983224\n"
     ]
    },
    {
     "name": "stderr",
     "output_type": "stream",
     "text": [
      "[I 2019-11-01 16:01:13,334] Finished trial#44 resulted in value: 0.9440559440559441. Current best value is 0.972027972027972 with parameters: {'booster': 'gbtree', 'lambda': 3.413395266900941e-07, 'alpha': 1.295857102451433e-07, 'max_depth': 5, 'eta': 0.8556609659891082, 'gamma': 4.211119213485256e-07, 'grow_policy': 'depthwise'}.\n"
     ]
    },
    {
     "name": "stdout",
     "output_type": "stream",
     "text": [
      "[0]\tvalidation-auc:0.5\n",
      "[1]\tvalidation-auc:0.888855\n",
      "[2]\tvalidation-auc:0.888855\n",
      "[3]\tvalidation-auc:0.888855\n",
      "[4]\tvalidation-auc:0.888855\n",
      "[5]\tvalidation-auc:0.888855\n"
     ]
    },
    {
     "name": "stderr",
     "output_type": "stream",
     "text": [
      "[I 2019-11-01 16:01:13,469] Setting status of trial#45 as TrialState.PRUNED. Trial was pruned at iteration 6.\n"
     ]
    },
    {
     "name": "stdout",
     "output_type": "stream",
     "text": [
      "[0]\tvalidation-auc:0.943082\n",
      "[1]\tvalidation-auc:0.946122\n",
      "[2]\tvalidation-auc:0.969916\n",
      "[3]\tvalidation-auc:0.970126\n",
      "[4]\tvalidation-auc:0.968449\n",
      "[5]\tvalidation-auc:0.977673\n",
      "[6]\tvalidation-auc:0.987736\n",
      "[7]\tvalidation-auc:0.986478\n",
      "[8]\tvalidation-auc:0.985849\n",
      "[9]\tvalidation-auc:0.979769\n"
     ]
    },
    {
     "name": "stderr",
     "output_type": "stream",
     "text": [
      "[I 2019-11-01 16:01:13,789] Finished trial#46 resulted in value: 0.9370629370629371. Current best value is 0.972027972027972 with parameters: {'booster': 'gbtree', 'lambda': 3.413395266900941e-07, 'alpha': 1.295857102451433e-07, 'max_depth': 5, 'eta': 0.8556609659891082, 'gamma': 4.211119213485256e-07, 'grow_policy': 'depthwise'}.\n"
     ]
    },
    {
     "name": "stdout",
     "output_type": "stream",
     "text": [
      "[0]\tvalidation-auc:0.950839\n",
      "[1]\tvalidation-auc:0.950839\n",
      "[2]\tvalidation-auc:0.950943\n",
      "[3]\tvalidation-auc:0.950314\n",
      "[4]\tvalidation-auc:0.950314\n",
      "[5]\tvalidation-auc:0.950314\n"
     ]
    },
    {
     "name": "stderr",
     "output_type": "stream",
     "text": [
      "[I 2019-11-01 16:01:13,911] Setting status of trial#47 as TrialState.PRUNED. Trial was pruned at iteration 6.\n"
     ]
    },
    {
     "name": "stdout",
     "output_type": "stream",
     "text": [
      "[0]\tvalidation-auc:0.918359\n",
      "[1]\tvalidation-auc:0.915173\n",
      "[2]\tvalidation-auc:0.920948\n",
      "[3]\tvalidation-auc:0.919255\n",
      "[4]\tvalidation-auc:0.919255\n",
      "[5]\tvalidation-auc:0.919056\n"
     ]
    },
    {
     "name": "stderr",
     "output_type": "stream",
     "text": [
      "[I 2019-11-01 16:01:14,118] Setting status of trial#48 as TrialState.PRUNED. Trial was pruned at iteration 6.\n"
     ]
    },
    {
     "name": "stdout",
     "output_type": "stream",
     "text": [
      "[0]\tvalidation-auc:0.946223\n",
      "[1]\tvalidation-auc:0.959668\n",
      "[2]\tvalidation-auc:0.957923\n",
      "[3]\tvalidation-auc:0.956486\n",
      "[4]\tvalidation-auc:0.956076\n",
      "[5]\tvalidation-auc:0.956794\n"
     ]
    },
    {
     "name": "stderr",
     "output_type": "stream",
     "text": [
      "[I 2019-11-01 16:01:14,356] Setting status of trial#49 as TrialState.PRUNED. Trial was pruned at iteration 6.\n"
     ]
    },
    {
     "name": "stdout",
     "output_type": "stream",
     "text": [
      "[0]\tvalidation-auc:0.966114\n",
      "[1]\tvalidation-auc:0.965614\n",
      "[2]\tvalidation-auc:0.973211\n",
      "[3]\tvalidation-auc:0.973111\n",
      "[4]\tvalidation-auc:0.973111\n",
      "[5]\tvalidation-auc:0.973111\n",
      "[6]\tvalidation-auc:0.978509\n",
      "[7]\tvalidation-auc:0.978309\n",
      "[8]\tvalidation-auc:0.978309\n",
      "[9]\tvalidation-auc:0.978309\n"
     ]
    },
    {
     "name": "stderr",
     "output_type": "stream",
     "text": [
      "[I 2019-11-01 16:01:14,726] Finished trial#50 resulted in value: 0.951048951048951. Current best value is 0.972027972027972 with parameters: {'booster': 'gbtree', 'lambda': 3.413395266900941e-07, 'alpha': 1.295857102451433e-07, 'max_depth': 5, 'eta': 0.8556609659891082, 'gamma': 4.211119213485256e-07, 'grow_policy': 'depthwise'}.\n"
     ]
    },
    {
     "name": "stdout",
     "output_type": "stream",
     "text": [
      "[0]\tvalidation-auc:0.950583\n",
      "[1]\tvalidation-auc:0.960154\n",
      "[2]\tvalidation-auc:0.968373\n",
      "[3]\tvalidation-auc:0.95953\n",
      "[4]\tvalidation-auc:0.964003\n",
      "[5]\tvalidation-auc:0.964003\n"
     ]
    },
    {
     "name": "stderr",
     "output_type": "stream",
     "text": [
      "[I 2019-11-01 16:01:14,859] Setting status of trial#51 as TrialState.PRUNED. Trial was pruned at iteration 6.\n"
     ]
    },
    {
     "name": "stdout",
     "output_type": "stream",
     "text": [
      "[0]\tvalidation-auc:0.968664\n",
      "[1]\tvalidation-auc:0.978306\n",
      "[2]\tvalidation-auc:0.971993\n",
      "[3]\tvalidation-auc:0.971074\n",
      "[4]\tvalidation-auc:0.980257\n",
      "[5]\tvalidation-auc:0.971074\n",
      "[6]\tvalidation-auc:0.980372\n",
      "[7]\tvalidation-auc:0.980487\n",
      "[8]\tvalidation-auc:0.971304\n",
      "[9]\tvalidation-auc:0.971304\n"
     ]
    },
    {
     "name": "stderr",
     "output_type": "stream",
     "text": [
      "[I 2019-11-01 16:01:15,203] Finished trial#52 resulted in value: 0.951048951048951. Current best value is 0.972027972027972 with parameters: {'booster': 'gbtree', 'lambda': 3.413395266900941e-07, 'alpha': 1.295857102451433e-07, 'max_depth': 5, 'eta': 0.8556609659891082, 'gamma': 4.211119213485256e-07, 'grow_policy': 'depthwise'}.\n"
     ]
    },
    {
     "name": "stdout",
     "output_type": "stream",
     "text": [
      "[0]\tvalidation-auc:0.97469\n",
      "[1]\tvalidation-auc:0.984401\n",
      "[2]\tvalidation-auc:0.984607\n",
      "[3]\tvalidation-auc:0.984194\n",
      "[4]\tvalidation-auc:0.984607\n",
      "[5]\tvalidation-auc:0.984607\n",
      "[6]\tvalidation-auc:0.985434\n",
      "[7]\tvalidation-auc:0.985434\n",
      "[8]\tvalidation-auc:0.985744\n",
      "[9]\tvalidation-auc:0.98595\n"
     ]
    },
    {
     "name": "stderr",
     "output_type": "stream",
     "text": [
      "[I 2019-11-01 16:01:15,462] Finished trial#53 resulted in value: 0.972027972027972. Current best value is 0.972027972027972 with parameters: {'booster': 'gbtree', 'lambda': 3.413395266900941e-07, 'alpha': 1.295857102451433e-07, 'max_depth': 5, 'eta': 0.8556609659891082, 'gamma': 4.211119213485256e-07, 'grow_policy': 'depthwise'}.\n"
     ]
    },
    {
     "name": "stdout",
     "output_type": "stream",
     "text": [
      "[0]\tvalidation-auc:0.974897\n",
      "[1]\tvalidation-auc:0.959194\n",
      "[2]\tvalidation-auc:0.959194\n",
      "[3]\tvalidation-auc:0.942872\n",
      "[4]\tvalidation-auc:0.959194\n",
      "[5]\tvalidation-auc:0.958884\n",
      "[6]\tvalidation-auc:0.96219\n",
      "[7]\tvalidation-auc:0.963017\n",
      "[8]\tvalidation-auc:0.963017\n",
      "[9]\tvalidation-auc:0.963843\n"
     ]
    },
    {
     "name": "stderr",
     "output_type": "stream",
     "text": [
      "[I 2019-11-01 16:01:15,740] Finished trial#54 resulted in value: 0.9370629370629371. Current best value is 0.972027972027972 with parameters: {'booster': 'gbtree', 'lambda': 3.413395266900941e-07, 'alpha': 1.295857102451433e-07, 'max_depth': 5, 'eta': 0.8556609659891082, 'gamma': 4.211119213485256e-07, 'grow_policy': 'depthwise'}.\n"
     ]
    },
    {
     "name": "stdout",
     "output_type": "stream",
     "text": [
      "[0]\tvalidation-auc:0.979577\n",
      "[1]\tvalidation-auc:0.967365\n",
      "[2]\tvalidation-auc:0.955665\n",
      "[3]\tvalidation-auc:0.974446\n",
      "[4]\tvalidation-auc:0.976396\n",
      "[5]\tvalidation-auc:0.978859\n",
      "[6]\tvalidation-auc:0.989943\n",
      "[7]\tvalidation-auc:0.990353\n",
      "[8]\tvalidation-auc:0.991174\n",
      "[9]\tvalidation-auc:0.991379\n"
     ]
    },
    {
     "name": "stderr",
     "output_type": "stream",
     "text": [
      "[I 2019-11-01 16:01:16,029] Finished trial#55 resulted in value: 0.9440559440559441. Current best value is 0.972027972027972 with parameters: {'booster': 'gbtree', 'lambda': 3.413395266900941e-07, 'alpha': 1.295857102451433e-07, 'max_depth': 5, 'eta': 0.8556609659891082, 'gamma': 4.211119213485256e-07, 'grow_policy': 'depthwise'}.\n"
     ]
    },
    {
     "name": "stdout",
     "output_type": "stream",
     "text": [
      "[0]\tvalidation-auc:0.85503\n",
      "[1]\tvalidation-auc:0.270809\n",
      "[2]\tvalidation-auc:0.541026\n",
      "[3]\tvalidation-auc:0.641617\n",
      "[4]\tvalidation-auc:0.743984\n",
      "[5]\tvalidation-auc:0.81716\n"
     ]
    },
    {
     "name": "stderr",
     "output_type": "stream",
     "text": [
      "[I 2019-11-01 16:01:16,131] Setting status of trial#56 as TrialState.PRUNED. Trial was pruned at iteration 6.\n"
     ]
    },
    {
     "name": "stdout",
     "output_type": "stream",
     "text": [
      "[0]\tvalidation-auc:0.940562\n",
      "[1]\tvalidation-auc:0.950201\n",
      "[2]\tvalidation-auc:0.9501\n",
      "[3]\tvalidation-auc:0.948494\n",
      "[4]\tvalidation-auc:0.949699\n",
      "[5]\tvalidation-auc:0.949297\n"
     ]
    },
    {
     "name": "stderr",
     "output_type": "stream",
     "text": [
      "[I 2019-11-01 16:01:16,405] Setting status of trial#57 as TrialState.PRUNED. Trial was pruned at iteration 6.\n"
     ]
    },
    {
     "name": "stdout",
     "output_type": "stream",
     "text": [
      "[0]\tvalidation-auc:0.962151\n",
      "[1]\tvalidation-auc:0.979462\n",
      "[2]\tvalidation-auc:0.979892\n",
      "[3]\tvalidation-auc:0.979462\n",
      "[4]\tvalidation-auc:0.980323\n",
      "[5]\tvalidation-auc:0.979677\n",
      "[6]\tvalidation-auc:0.980323\n",
      "[7]\tvalidation-auc:0.979677\n",
      "[8]\tvalidation-auc:0.980323\n",
      "[9]\tvalidation-auc:0.979677\n"
     ]
    },
    {
     "name": "stderr",
     "output_type": "stream",
     "text": [
      "[I 2019-11-01 16:01:16,783] Finished trial#58 resulted in value: 0.951048951048951. Current best value is 0.972027972027972 with parameters: {'booster': 'gbtree', 'lambda': 3.413395266900941e-07, 'alpha': 1.295857102451433e-07, 'max_depth': 5, 'eta': 0.8556609659891082, 'gamma': 4.211119213485256e-07, 'grow_policy': 'depthwise'}.\n"
     ]
    },
    {
     "name": "stdout",
     "output_type": "stream",
     "text": [
      "[0]\tvalidation-auc:0.992613\n",
      "[1]\tvalidation-auc:0.993238\n",
      "[2]\tvalidation-auc:0.993238\n",
      "[3]\tvalidation-auc:0.997711\n",
      "[4]\tvalidation-auc:0.998231\n",
      "[5]\tvalidation-auc:0.998231\n",
      "[6]\tvalidation-auc:0.997711\n",
      "[7]\tvalidation-auc:0.997711\n",
      "[8]\tvalidation-auc:0.996879\n",
      "[9]\tvalidation-auc:0.996879\n"
     ]
    },
    {
     "name": "stderr",
     "output_type": "stream",
     "text": [
      "[I 2019-11-01 16:01:17,083] Finished trial#59 resulted in value: 0.958041958041958. Current best value is 0.972027972027972 with parameters: {'booster': 'gbtree', 'lambda': 3.413395266900941e-07, 'alpha': 1.295857102451433e-07, 'max_depth': 5, 'eta': 0.8556609659891082, 'gamma': 4.211119213485256e-07, 'grow_policy': 'depthwise'}.\n"
     ]
    },
    {
     "name": "stdout",
     "output_type": "stream",
     "text": [
      "[0]\tvalidation-auc:0.978762\n",
      "[1]\tvalidation-auc:0.981403\n",
      "[2]\tvalidation-auc:0.980558\n",
      "[3]\tvalidation-auc:0.980664\n",
      "[4]\tvalidation-auc:0.980664\n",
      "[5]\tvalidation-auc:0.980452\n",
      "[6]\tvalidation-auc:0.981086\n",
      "[7]\tvalidation-auc:0.980452\n",
      "[8]\tvalidation-auc:0.980664\n",
      "[9]\tvalidation-auc:0.980452\n"
     ]
    },
    {
     "name": "stderr",
     "output_type": "stream",
     "text": [
      "[I 2019-11-01 16:01:17,399] Finished trial#60 resulted in value: 0.9370629370629371. Current best value is 0.972027972027972 with parameters: {'booster': 'gbtree', 'lambda': 3.413395266900941e-07, 'alpha': 1.295857102451433e-07, 'max_depth': 5, 'eta': 0.8556609659891082, 'gamma': 4.211119213485256e-07, 'grow_policy': 'depthwise'}.\n"
     ]
    },
    {
     "name": "stdout",
     "output_type": "stream",
     "text": [
      "[0]\tvalidation-auc:0.963492\n",
      "[1]\tvalidation-auc:0.962585\n",
      "[2]\tvalidation-auc:0.962472\n",
      "[3]\tvalidation-auc:0.962132\n",
      "[4]\tvalidation-auc:0.962245\n",
      "[5]\tvalidation-auc:0.962132\n"
     ]
    },
    {
     "name": "stderr",
     "output_type": "stream",
     "text": [
      "[I 2019-11-01 16:01:17,556] Setting status of trial#61 as TrialState.PRUNED. Trial was pruned at iteration 6.\n"
     ]
    },
    {
     "name": "stdout",
     "output_type": "stream",
     "text": [
      "[0]\tvalidation-auc:0.952811\n",
      "[1]\tvalidation-auc:0.955924\n",
      "[2]\tvalidation-auc:0.947088\n",
      "[3]\tvalidation-auc:0.945783\n",
      "[4]\tvalidation-auc:0.959739\n",
      "[5]\tvalidation-auc:0.966165\n"
     ]
    },
    {
     "name": "stderr",
     "output_type": "stream",
     "text": [
      "[I 2019-11-01 16:01:17,804] Setting status of trial#62 as TrialState.PRUNED. Trial was pruned at iteration 6.\n"
     ]
    },
    {
     "name": "stdout",
     "output_type": "stream",
     "text": [
      "[0]\tvalidation-auc:0.984486\n",
      "[1]\tvalidation-auc:0.98805\n",
      "[2]\tvalidation-auc:0.987841\n",
      "[3]\tvalidation-auc:0.987631\n",
      "[4]\tvalidation-auc:0.988679\n",
      "[5]\tvalidation-auc:0.987841\n",
      "[6]\tvalidation-auc:0.98805\n",
      "[7]\tvalidation-auc:0.98826\n",
      "[8]\tvalidation-auc:0.98826\n",
      "[9]\tvalidation-auc:0.98826\n"
     ]
    },
    {
     "name": "stderr",
     "output_type": "stream",
     "text": [
      "[I 2019-11-01 16:01:18,197] Finished trial#63 resulted in value: 0.965034965034965. Current best value is 0.972027972027972 with parameters: {'booster': 'gbtree', 'lambda': 3.413395266900941e-07, 'alpha': 1.295857102451433e-07, 'max_depth': 5, 'eta': 0.8556609659891082, 'gamma': 4.211119213485256e-07, 'grow_policy': 'depthwise'}.\n"
     ]
    },
    {
     "name": "stdout",
     "output_type": "stream",
     "text": [
      "[0]\tvalidation-auc:0.930671\n",
      "[1]\tvalidation-auc:0.954142\n",
      "[2]\tvalidation-auc:0.95355\n",
      "[3]\tvalidation-auc:0.952663\n",
      "[4]\tvalidation-auc:0.954241\n",
      "[5]\tvalidation-auc:0.953945\n"
     ]
    },
    {
     "name": "stderr",
     "output_type": "stream",
     "text": [
      "[I 2019-11-01 16:01:18,362] Setting status of trial#64 as TrialState.PRUNED. Trial was pruned at iteration 6.\n"
     ]
    },
    {
     "name": "stdout",
     "output_type": "stream",
     "text": [
      "[0]\tvalidation-auc:0.938549\n",
      "[1]\tvalidation-auc:0.938322\n",
      "[2]\tvalidation-auc:0.938322\n",
      "[3]\tvalidation-auc:0.938322\n",
      "[4]\tvalidation-auc:0.944671\n",
      "[5]\tvalidation-auc:0.944671\n"
     ]
    },
    {
     "name": "stderr",
     "output_type": "stream",
     "text": [
      "[I 2019-11-01 16:01:18,610] Setting status of trial#65 as TrialState.PRUNED. Trial was pruned at iteration 6.\n"
     ]
    },
    {
     "name": "stdout",
     "output_type": "stream",
     "text": [
      "[0]\tvalidation-auc:0.961819\n",
      "[1]\tvalidation-auc:0.971494\n",
      "[2]\tvalidation-auc:0.963899\n",
      "[3]\tvalidation-auc:0.964315\n",
      "[4]\tvalidation-auc:0.96494\n",
      "[5]\tvalidation-auc:0.971806\n"
     ]
    },
    {
     "name": "stderr",
     "output_type": "stream",
     "text": [
      "[I 2019-11-01 16:01:18,864] Setting status of trial#66 as TrialState.PRUNED. Trial was pruned at iteration 6.\n"
     ]
    },
    {
     "name": "stdout",
     "output_type": "stream",
     "text": [
      "[0]\tvalidation-auc:0.963123\n",
      "[1]\tvalidation-auc:0.975486\n",
      "[2]\tvalidation-auc:0.976014\n",
      "[3]\tvalidation-auc:0.97538\n",
      "[4]\tvalidation-auc:0.974218\n",
      "[5]\tvalidation-auc:0.974218\n"
     ]
    },
    {
     "name": "stderr",
     "output_type": "stream",
     "text": [
      "[I 2019-11-01 16:01:19,149] Setting status of trial#67 as TrialState.PRUNED. Trial was pruned at iteration 6.\n"
     ]
    },
    {
     "name": "stdout",
     "output_type": "stream",
     "text": [
      "[0]\tvalidation-auc:0.965473\n",
      "[1]\tvalidation-auc:0.98231\n",
      "[2]\tvalidation-auc:0.982204\n",
      "[3]\tvalidation-auc:0.982417\n",
      "[4]\tvalidation-auc:0.982737\n",
      "[5]\tvalidation-auc:0.982523\n",
      "[6]\tvalidation-auc:0.982523\n",
      "[7]\tvalidation-auc:0.982523\n",
      "[8]\tvalidation-auc:0.982523\n",
      "[9]\tvalidation-auc:0.982737\n"
     ]
    },
    {
     "name": "stderr",
     "output_type": "stream",
     "text": [
      "[I 2019-11-01 16:01:19,578] Finished trial#68 resulted in value: 0.9440559440559441. Current best value is 0.972027972027972 with parameters: {'booster': 'gbtree', 'lambda': 3.413395266900941e-07, 'alpha': 1.295857102451433e-07, 'max_depth': 5, 'eta': 0.8556609659891082, 'gamma': 4.211119213485256e-07, 'grow_policy': 'depthwise'}.\n"
     ]
    },
    {
     "name": "stdout",
     "output_type": "stream",
     "text": [
      "[0]\tvalidation-auc:0.949052\n",
      "[1]\tvalidation-auc:0.949052\n",
      "[2]\tvalidation-auc:0.953491\n",
      "[3]\tvalidation-auc:0.953692\n",
      "[4]\tvalidation-auc:0.958031\n",
      "[5]\tvalidation-auc:0.953692\n"
     ]
    },
    {
     "name": "stderr",
     "output_type": "stream",
     "text": [
      "[I 2019-11-01 16:01:19,749] Setting status of trial#69 as TrialState.PRUNED. Trial was pruned at iteration 6.\n"
     ]
    },
    {
     "name": "stdout",
     "output_type": "stream",
     "text": [
      "[0]\tvalidation-auc:0.975054\n",
      "[1]\tvalidation-auc:0.98\n",
      "[2]\tvalidation-auc:0.979785\n",
      "[3]\tvalidation-auc:0.979355\n",
      "[4]\tvalidation-auc:0.979355\n",
      "[5]\tvalidation-auc:0.979355\n",
      "[6]\tvalidation-auc:0.978817\n",
      "[7]\tvalidation-auc:0.979032\n",
      "[8]\tvalidation-auc:0.978602\n",
      "[9]\tvalidation-auc:0.979032\n"
     ]
    },
    {
     "name": "stderr",
     "output_type": "stream",
     "text": [
      "[I 2019-11-01 16:01:20,152] Finished trial#70 resulted in value: 0.9300699300699301. Current best value is 0.972027972027972 with parameters: {'booster': 'gbtree', 'lambda': 3.413395266900941e-07, 'alpha': 1.295857102451433e-07, 'max_depth': 5, 'eta': 0.8556609659891082, 'gamma': 4.211119213485256e-07, 'grow_policy': 'depthwise'}.\n"
     ]
    },
    {
     "name": "stdout",
     "output_type": "stream",
     "text": [
      "[0]\tvalidation-auc:0.923037\n",
      "[1]\tvalidation-auc:0.960434\n",
      "[2]\tvalidation-auc:0.958471\n",
      "[3]\tvalidation-auc:0.960744\n",
      "[4]\tvalidation-auc:0.959814\n",
      "[5]\tvalidation-auc:0.960847\n"
     ]
    },
    {
     "name": "stderr",
     "output_type": "stream",
     "text": [
      "[I 2019-11-01 16:01:20,326] Setting status of trial#71 as TrialState.PRUNED. Trial was pruned at iteration 6.\n"
     ]
    },
    {
     "name": "stdout",
     "output_type": "stream",
     "text": [
      "[0]\tvalidation-auc:0.972473\n",
      "[1]\tvalidation-auc:0.988065\n",
      "[2]\tvalidation-auc:0.988387\n",
      "[3]\tvalidation-auc:0.996129\n",
      "[4]\tvalidation-auc:0.996344\n",
      "[5]\tvalidation-auc:0.996022\n",
      "[6]\tvalidation-auc:0.996559\n",
      "[7]\tvalidation-auc:0.996129\n",
      "[8]\tvalidation-auc:0.995914\n",
      "[9]\tvalidation-auc:0.995484\n"
     ]
    },
    {
     "name": "stderr",
     "output_type": "stream",
     "text": [
      "[I 2019-11-01 16:01:20,739] Finished trial#72 resulted in value: 0.9440559440559441. Current best value is 0.972027972027972 with parameters: {'booster': 'gbtree', 'lambda': 3.413395266900941e-07, 'alpha': 1.295857102451433e-07, 'max_depth': 5, 'eta': 0.8556609659891082, 'gamma': 4.211119213485256e-07, 'grow_policy': 'depthwise'}.\n"
     ]
    },
    {
     "name": "stdout",
     "output_type": "stream",
     "text": [
      "[0]\tvalidation-auc:0.954663\n",
      "[1]\tvalidation-auc:0.974008\n",
      "[2]\tvalidation-auc:0.958532\n",
      "[3]\tvalidation-auc:0.963889\n",
      "[4]\tvalidation-auc:0.964683\n",
      "[5]\tvalidation-auc:0.965179\n"
     ]
    },
    {
     "name": "stderr",
     "output_type": "stream",
     "text": [
      "[I 2019-11-01 16:01:20,917] Setting status of trial#73 as TrialState.PRUNED. Trial was pruned at iteration 6.\n"
     ]
    },
    {
     "name": "stdout",
     "output_type": "stream",
     "text": [
      "[0]\tvalidation-auc:0.940039\n",
      "[1]\tvalidation-auc:0.9214\n",
      "[2]\tvalidation-auc:0.919921\n",
      "[3]\tvalidation-auc:0.948323\n",
      "[4]\tvalidation-auc:0.947337\n",
      "[5]\tvalidation-auc:0.956903\n"
     ]
    },
    {
     "name": "stderr",
     "output_type": "stream",
     "text": [
      "[I 2019-11-01 16:01:21,185] Setting status of trial#74 as TrialState.PRUNED. Trial was pruned at iteration 6.\n"
     ]
    },
    {
     "name": "stdout",
     "output_type": "stream",
     "text": [
      "[0]\tvalidation-auc:0.985537\n",
      "[1]\tvalidation-auc:0.992872\n",
      "[2]\tvalidation-auc:0.992252\n",
      "[3]\tvalidation-auc:0.993079\n",
      "[4]\tvalidation-auc:0.993079\n",
      "[5]\tvalidation-auc:0.994835\n",
      "[6]\tvalidation-auc:0.996074\n",
      "[7]\tvalidation-auc:0.996074\n",
      "[8]\tvalidation-auc:0.996488\n",
      "[9]\tvalidation-auc:0.996694\n"
     ]
    },
    {
     "name": "stderr",
     "output_type": "stream",
     "text": [
      "[I 2019-11-01 16:01:21,605] Finished trial#75 resulted in value: 0.972027972027972. Current best value is 0.972027972027972 with parameters: {'booster': 'gbtree', 'lambda': 3.413395266900941e-07, 'alpha': 1.295857102451433e-07, 'max_depth': 5, 'eta': 0.8556609659891082, 'gamma': 4.211119213485256e-07, 'grow_policy': 'depthwise'}.\n"
     ]
    },
    {
     "name": "stdout",
     "output_type": "stream",
     "text": [
      "[0]\tvalidation-auc:0.892473\n",
      "[1]\tvalidation-auc:0.88869\n",
      "[2]\tvalidation-auc:0.890084\n",
      "[3]\tvalidation-auc:0.896854\n",
      "[4]\tvalidation-auc:0.91358\n",
      "[5]\tvalidation-auc:0.918957\n"
     ]
    },
    {
     "name": "stderr",
     "output_type": "stream",
     "text": [
      "[I 2019-11-01 16:01:21,730] Setting status of trial#76 as TrialState.PRUNED. Trial was pruned at iteration 6.\n"
     ]
    },
    {
     "name": "stdout",
     "output_type": "stream",
     "text": [
      "[0]\tvalidation-auc:0.979988\n",
      "[1]\tvalidation-auc:0.98188\n",
      "[2]\tvalidation-auc:0.986758\n",
      "[3]\tvalidation-auc:0.987057\n",
      "[4]\tvalidation-auc:0.987057\n",
      "[5]\tvalidation-auc:0.987953\n",
      "[6]\tvalidation-auc:0.987953\n",
      "[7]\tvalidation-auc:0.987455\n",
      "[8]\tvalidation-auc:0.987157\n",
      "[9]\tvalidation-auc:0.988053\n"
     ]
    },
    {
     "name": "stderr",
     "output_type": "stream",
     "text": [
      "[I 2019-11-01 16:01:22,149] Finished trial#77 resulted in value: 0.951048951048951. Current best value is 0.972027972027972 with parameters: {'booster': 'gbtree', 'lambda': 3.413395266900941e-07, 'alpha': 1.295857102451433e-07, 'max_depth': 5, 'eta': 0.8556609659891082, 'gamma': 4.211119213485256e-07, 'grow_policy': 'depthwise'}.\n"
     ]
    },
    {
     "name": "stdout",
     "output_type": "stream",
     "text": [
      "[0]\tvalidation-auc:0.989983\n",
      "[1]\tvalidation-auc:0.987958\n",
      "[2]\tvalidation-auc:0.986999\n",
      "[3]\tvalidation-auc:0.986999\n",
      "[4]\tvalidation-auc:0.987212\n",
      "[5]\tvalidation-auc:0.987212\n",
      "[6]\tvalidation-auc:0.987319\n",
      "[7]\tvalidation-auc:0.987319\n",
      "[8]\tvalidation-auc:0.987425\n",
      "[9]\tvalidation-auc:0.987212\n"
     ]
    },
    {
     "name": "stderr",
     "output_type": "stream",
     "text": [
      "[I 2019-11-01 16:01:22,490] Finished trial#78 resulted in value: 0.965034965034965. Current best value is 0.972027972027972 with parameters: {'booster': 'gbtree', 'lambda': 3.413395266900941e-07, 'alpha': 1.295857102451433e-07, 'max_depth': 5, 'eta': 0.8556609659891082, 'gamma': 4.211119213485256e-07, 'grow_policy': 'depthwise'}.\n"
     ]
    },
    {
     "name": "stdout",
     "output_type": "stream",
     "text": [
      "[0]\tvalidation-auc:0.973763\n",
      "[1]\tvalidation-auc:0.978495\n",
      "[2]\tvalidation-auc:0.97914\n",
      "[3]\tvalidation-auc:0.977849\n",
      "[4]\tvalidation-auc:0.978817\n",
      "[5]\tvalidation-auc:0.98\n",
      "[6]\tvalidation-auc:0.979785\n",
      "[7]\tvalidation-auc:0.980215\n",
      "[8]\tvalidation-auc:0.980215\n",
      "[9]\tvalidation-auc:0.979785\n"
     ]
    },
    {
     "name": "stderr",
     "output_type": "stream",
     "text": [
      "[I 2019-11-01 16:01:22,852] Finished trial#79 resulted in value: 0.916083916083916. Current best value is 0.972027972027972 with parameters: {'booster': 'gbtree', 'lambda': 3.413395266900941e-07, 'alpha': 1.295857102451433e-07, 'max_depth': 5, 'eta': 0.8556609659891082, 'gamma': 4.211119213485256e-07, 'grow_policy': 'depthwise'}.\n"
     ]
    },
    {
     "name": "stdout",
     "output_type": "stream",
     "text": [
      "[0]\tvalidation-auc:0.949808\n",
      "[1]\tvalidation-auc:0.960891\n",
      "[2]\tvalidation-auc:0.961637\n",
      "[3]\tvalidation-auc:0.963022\n",
      "[4]\tvalidation-auc:0.964727\n",
      "[5]\tvalidation-auc:0.96494\n"
     ]
    },
    {
     "name": "stderr",
     "output_type": "stream",
     "text": [
      "[I 2019-11-01 16:01:23,044] Setting status of trial#80 as TrialState.PRUNED. Trial was pruned at iteration 6.\n"
     ]
    },
    {
     "name": "stdout",
     "output_type": "stream",
     "text": [
      "[0]\tvalidation-auc:0.975207\n",
      "[1]\tvalidation-auc:0.97686\n",
      "[2]\tvalidation-auc:0.975207\n",
      "[3]\tvalidation-auc:0.975207\n",
      "[4]\tvalidation-auc:0.974587\n",
      "[5]\tvalidation-auc:0.97376\n",
      "[6]\tvalidation-auc:0.981405\n",
      "[7]\tvalidation-auc:0.982438\n",
      "[8]\tvalidation-auc:0.989153\n",
      "[9]\tvalidation-auc:0.987707\n"
     ]
    },
    {
     "name": "stderr",
     "output_type": "stream",
     "text": [
      "[I 2019-11-01 16:01:23,476] Finished trial#81 resulted in value: 0.9440559440559441. Current best value is 0.972027972027972 with parameters: {'booster': 'gbtree', 'lambda': 3.413395266900941e-07, 'alpha': 1.295857102451433e-07, 'max_depth': 5, 'eta': 0.8556609659891082, 'gamma': 4.211119213485256e-07, 'grow_policy': 'depthwise'}.\n"
     ]
    },
    {
     "name": "stdout",
     "output_type": "stream",
     "text": [
      "[0]\tvalidation-auc:0.959154\n",
      "[1]\tvalidation-auc:0.943863\n",
      "[2]\tvalidation-auc:0.98204\n",
      "[3]\tvalidation-auc:0.979782\n",
      "[4]\tvalidation-auc:0.979885\n",
      "[5]\tvalidation-auc:0.980398\n",
      "[6]\tvalidation-auc:0.978551\n",
      "[7]\tvalidation-auc:0.977525\n",
      "[8]\tvalidation-auc:0.977319\n",
      "[9]\tvalidation-auc:0.977114\n"
     ]
    },
    {
     "name": "stderr",
     "output_type": "stream",
     "text": [
      "[I 2019-11-01 16:01:23,817] Finished trial#82 resulted in value: 0.9440559440559441. Current best value is 0.972027972027972 with parameters: {'booster': 'gbtree', 'lambda': 3.413395266900941e-07, 'alpha': 1.295857102451433e-07, 'max_depth': 5, 'eta': 0.8556609659891082, 'gamma': 4.211119213485256e-07, 'grow_policy': 'depthwise'}.\n"
     ]
    },
    {
     "name": "stdout",
     "output_type": "stream",
     "text": [
      "[0]\tvalidation-auc:0.97272\n",
      "[1]\tvalidation-auc:0.978261\n",
      "[2]\tvalidation-auc:0.979433\n",
      "[3]\tvalidation-auc:0.979326\n",
      "[4]\tvalidation-auc:0.979859\n",
      "[5]\tvalidation-auc:0.97922\n",
      "[6]\tvalidation-auc:0.979433\n",
      "[7]\tvalidation-auc:0.979433\n",
      "[8]\tvalidation-auc:0.979433\n",
      "[9]\tvalidation-auc:0.979859\n"
     ]
    },
    {
     "name": "stderr",
     "output_type": "stream",
     "text": [
      "[I 2019-11-01 16:01:24,161] Finished trial#83 resulted in value: 0.958041958041958. Current best value is 0.972027972027972 with parameters: {'booster': 'gbtree', 'lambda': 3.413395266900941e-07, 'alpha': 1.295857102451433e-07, 'max_depth': 5, 'eta': 0.8556609659891082, 'gamma': 4.211119213485256e-07, 'grow_policy': 'depthwise'}.\n"
     ]
    },
    {
     "name": "stdout",
     "output_type": "stream",
     "text": [
      "[0]\tvalidation-auc:0.977832\n",
      "[1]\tvalidation-auc:0.990045\n",
      "[2]\tvalidation-auc:0.990045\n",
      "[3]\tvalidation-auc:0.989635\n",
      "[4]\tvalidation-auc:0.99025\n",
      "[5]\tvalidation-auc:0.990045\n",
      "[6]\tvalidation-auc:0.98984\n",
      "[7]\tvalidation-auc:0.99025\n",
      "[8]\tvalidation-auc:0.990456\n",
      "[9]\tvalidation-auc:0.990045\n"
     ]
    },
    {
     "name": "stderr",
     "output_type": "stream",
     "text": [
      "[I 2019-11-01 16:01:24,506] Finished trial#84 resulted in value: 0.9440559440559441. Current best value is 0.972027972027972 with parameters: {'booster': 'gbtree', 'lambda': 3.413395266900941e-07, 'alpha': 1.295857102451433e-07, 'max_depth': 5, 'eta': 0.8556609659891082, 'gamma': 4.211119213485256e-07, 'grow_policy': 'depthwise'}.\n"
     ]
    },
    {
     "name": "stdout",
     "output_type": "stream",
     "text": [
      "[0]\tvalidation-auc:0.988403\n",
      "[1]\tvalidation-auc:0.987582\n",
      "[2]\tvalidation-auc:0.987993\n",
      "[3]\tvalidation-auc:0.989943\n",
      "[4]\tvalidation-auc:0.99025\n",
      "[5]\tvalidation-auc:0.989532\n",
      "[6]\tvalidation-auc:0.989532\n",
      "[7]\tvalidation-auc:0.989943\n",
      "[8]\tvalidation-auc:0.989532\n",
      "[9]\tvalidation-auc:0.989532\n"
     ]
    },
    {
     "name": "stderr",
     "output_type": "stream",
     "text": [
      "[I 2019-11-01 16:01:24,865] Finished trial#85 resulted in value: 0.958041958041958. Current best value is 0.972027972027972 with parameters: {'booster': 'gbtree', 'lambda': 3.413395266900941e-07, 'alpha': 1.295857102451433e-07, 'max_depth': 5, 'eta': 0.8556609659891082, 'gamma': 4.211119213485256e-07, 'grow_policy': 'depthwise'}.\n"
     ]
    },
    {
     "name": "stdout",
     "output_type": "stream",
     "text": [
      "[0]\tvalidation-auc:0.887151\n",
      "[1]\tvalidation-auc:0.951078\n",
      "[2]\tvalidation-auc:0.965448\n",
      "[3]\tvalidation-auc:0.967878\n",
      "[4]\tvalidation-auc:0.975592\n",
      "[5]\tvalidation-auc:0.97855\n"
     ]
    },
    {
     "name": "stderr",
     "output_type": "stream",
     "text": [
      "[I 2019-11-01 16:01:25,054] Setting status of trial#86 as TrialState.PRUNED. Trial was pruned at iteration 6.\n"
     ]
    },
    {
     "name": "stdout",
     "output_type": "stream",
     "text": [
      "[0]\tvalidation-auc:0.971547\n",
      "[1]\tvalidation-auc:0.975597\n",
      "[2]\tvalidation-auc:0.974638\n",
      "[3]\tvalidation-auc:0.974638\n",
      "[4]\tvalidation-auc:0.973998\n",
      "[5]\tvalidation-auc:0.97517\n"
     ]
    },
    {
     "name": "stderr",
     "output_type": "stream",
     "text": [
      "[I 2019-11-01 16:01:25,341] Setting status of trial#87 as TrialState.PRUNED. Trial was pruned at iteration 6.\n"
     ]
    },
    {
     "name": "stdout",
     "output_type": "stream",
     "text": [
      "[0]\tvalidation-auc:0.967434\n",
      "[1]\tvalidation-auc:0.967325\n",
      "[2]\tvalidation-auc:0.966348\n",
      "[3]\tvalidation-auc:0.966674\n",
      "[4]\tvalidation-auc:0.967\n",
      "[5]\tvalidation-auc:0.966565\n"
     ]
    },
    {
     "name": "stderr",
     "output_type": "stream",
     "text": [
      "[I 2019-11-01 16:01:25,631] Setting status of trial#88 as TrialState.PRUNED. Trial was pruned at iteration 6.\n"
     ]
    },
    {
     "name": "stdout",
     "output_type": "stream",
     "text": [
      "[0]\tvalidation-auc:0.952366\n",
      "[1]\tvalidation-auc:0.96828\n",
      "[2]\tvalidation-auc:0.968064\n",
      "[3]\tvalidation-auc:0.966989\n",
      "[4]\tvalidation-auc:0.984946\n",
      "[5]\tvalidation-auc:0.99043\n",
      "[6]\tvalidation-auc:0.991613\n",
      "[7]\tvalidation-auc:0.991828\n",
      "[8]\tvalidation-auc:0.991398\n",
      "[9]\tvalidation-auc:0.992473\n"
     ]
    },
    {
     "name": "stderr",
     "output_type": "stream",
     "text": [
      "[I 2019-11-01 16:01:26,076] Finished trial#89 resulted in value: 0.951048951048951. Current best value is 0.972027972027972 with parameters: {'booster': 'gbtree', 'lambda': 3.413395266900941e-07, 'alpha': 1.295857102451433e-07, 'max_depth': 5, 'eta': 0.8556609659891082, 'gamma': 4.211119213485256e-07, 'grow_policy': 'depthwise'}.\n"
     ]
    },
    {
     "name": "stdout",
     "output_type": "stream",
     "text": [
      "[0]\tvalidation-auc:0.987603\n",
      "[1]\tvalidation-auc:0.988017\n",
      "[2]\tvalidation-auc:0.987603\n",
      "[3]\tvalidation-auc:0.98781\n",
      "[4]\tvalidation-auc:0.98781\n",
      "[5]\tvalidation-auc:0.987397\n",
      "[6]\tvalidation-auc:0.987397\n",
      "[7]\tvalidation-auc:0.987397\n",
      "[8]\tvalidation-auc:0.987397\n",
      "[9]\tvalidation-auc:0.987397\n"
     ]
    },
    {
     "name": "stderr",
     "output_type": "stream",
     "text": [
      "[I 2019-11-01 16:01:26,432] Finished trial#90 resulted in value: 0.965034965034965. Current best value is 0.972027972027972 with parameters: {'booster': 'gbtree', 'lambda': 3.413395266900941e-07, 'alpha': 1.295857102451433e-07, 'max_depth': 5, 'eta': 0.8556609659891082, 'gamma': 4.211119213485256e-07, 'grow_policy': 'depthwise'}.\n"
     ]
    },
    {
     "name": "stdout",
     "output_type": "stream",
     "text": [
      "[0]\tvalidation-auc:0.939456\n",
      "[1]\tvalidation-auc:0.938095\n",
      "[2]\tvalidation-auc:0.937528\n",
      "[3]\tvalidation-auc:0.937528\n",
      "[4]\tvalidation-auc:0.937982\n",
      "[5]\tvalidation-auc:0.937528\n"
     ]
    },
    {
     "name": "stderr",
     "output_type": "stream",
     "text": [
      "[I 2019-11-01 16:01:26,634] Setting status of trial#91 as TrialState.PRUNED. Trial was pruned at iteration 6.\n"
     ]
    },
    {
     "name": "stdout",
     "output_type": "stream",
     "text": [
      "[0]\tvalidation-auc:0.974301\n",
      "[1]\tvalidation-auc:0.985699\n",
      "[2]\tvalidation-auc:0.985054\n",
      "[3]\tvalidation-auc:0.985269\n",
      "[4]\tvalidation-auc:0.986989\n",
      "[5]\tvalidation-auc:0.988602\n",
      "[6]\tvalidation-auc:0.98914\n",
      "[7]\tvalidation-auc:0.989355\n",
      "[8]\tvalidation-auc:0.989355\n",
      "[9]\tvalidation-auc:0.99086\n"
     ]
    },
    {
     "name": "stderr",
     "output_type": "stream",
     "text": [
      "[I 2019-11-01 16:01:27,088] Finished trial#92 resulted in value: 0.958041958041958. Current best value is 0.972027972027972 with parameters: {'booster': 'gbtree', 'lambda': 3.413395266900941e-07, 'alpha': 1.295857102451433e-07, 'max_depth': 5, 'eta': 0.8556609659891082, 'gamma': 4.211119213485256e-07, 'grow_policy': 'depthwise'}.\n"
     ]
    },
    {
     "name": "stdout",
     "output_type": "stream",
     "text": [
      "[0]\tvalidation-auc:0.960901\n",
      "[1]\tvalidation-auc:0.972746\n",
      "[2]\tvalidation-auc:0.975996\n",
      "[3]\tvalidation-auc:0.975577\n",
      "[4]\tvalidation-auc:0.975367\n",
      "[5]\tvalidation-auc:0.975367\n"
     ]
    },
    {
     "name": "stderr",
     "output_type": "stream",
     "text": [
      "[I 2019-11-01 16:01:27,289] Setting status of trial#93 as TrialState.PRUNED. Trial was pruned at iteration 6.\n"
     ]
    },
    {
     "name": "stdout",
     "output_type": "stream",
     "text": [
      "[0]\tvalidation-auc:0.983978\n",
      "[1]\tvalidation-auc:0.983666\n",
      "[2]\tvalidation-auc:0.984186\n",
      "[3]\tvalidation-auc:0.986163\n",
      "[4]\tvalidation-auc:0.986267\n",
      "[5]\tvalidation-auc:0.992405\n",
      "[6]\tvalidation-auc:0.992197\n",
      "[7]\tvalidation-auc:0.992405\n",
      "[8]\tvalidation-auc:0.992613\n",
      "[9]\tvalidation-auc:0.991573\n"
     ]
    },
    {
     "name": "stderr",
     "output_type": "stream",
     "text": [
      "[I 2019-11-01 16:01:27,750] Finished trial#94 resulted in value: 0.958041958041958. Current best value is 0.972027972027972 with parameters: {'booster': 'gbtree', 'lambda': 3.413395266900941e-07, 'alpha': 1.295857102451433e-07, 'max_depth': 5, 'eta': 0.8556609659891082, 'gamma': 4.211119213485256e-07, 'grow_policy': 'depthwise'}.\n"
     ]
    },
    {
     "name": "stdout",
     "output_type": "stream",
     "text": [
      "[0]\tvalidation-auc:0.991183\n",
      "[1]\tvalidation-auc:0.991398\n",
      "[2]\tvalidation-auc:0.991828\n",
      "[3]\tvalidation-auc:0.991398\n",
      "[4]\tvalidation-auc:0.991828\n",
      "[5]\tvalidation-auc:0.991398\n",
      "[6]\tvalidation-auc:0.991828\n",
      "[7]\tvalidation-auc:0.991398\n",
      "[8]\tvalidation-auc:0.991398\n",
      "[9]\tvalidation-auc:0.991398\n"
     ]
    },
    {
     "name": "stderr",
     "output_type": "stream",
     "text": [
      "[I 2019-11-01 16:01:28,144] Finished trial#95 resulted in value: 0.9300699300699301. Current best value is 0.972027972027972 with parameters: {'booster': 'gbtree', 'lambda': 3.413395266900941e-07, 'alpha': 1.295857102451433e-07, 'max_depth': 5, 'eta': 0.8556609659891082, 'gamma': 4.211119213485256e-07, 'grow_policy': 'depthwise'}.\n"
     ]
    },
    {
     "name": "stdout",
     "output_type": "stream",
     "text": [
      "[0]\tvalidation-auc:0.959099\n",
      "[1]\tvalidation-auc:0.959099\n",
      "[2]\tvalidation-auc:0.958987\n",
      "[3]\tvalidation-auc:0.959996\n",
      "[4]\tvalidation-auc:0.959771\n",
      "[5]\tvalidation-auc:0.960108\n"
     ]
    },
    {
     "name": "stderr",
     "output_type": "stream",
     "text": [
      "[I 2019-11-01 16:01:28,345] Setting status of trial#96 as TrialState.PRUNED. Trial was pruned at iteration 6.\n"
     ]
    },
    {
     "name": "stdout",
     "output_type": "stream",
     "text": [
      "[0]\tvalidation-auc:0.98745\n",
      "[1]\tvalidation-auc:0.987674\n",
      "[2]\tvalidation-auc:0.987898\n",
      "[3]\tvalidation-auc:0.98745\n",
      "[4]\tvalidation-auc:0.986553\n",
      "[5]\tvalidation-auc:0.986553\n",
      "[6]\tvalidation-auc:0.986553\n",
      "[7]\tvalidation-auc:0.986553\n",
      "[8]\tvalidation-auc:0.986105\n",
      "[9]\tvalidation-auc:0.986553\n"
     ]
    },
    {
     "name": "stderr",
     "output_type": "stream",
     "text": [
      "[I 2019-11-01 16:01:28,823] Finished trial#97 resulted in value: 0.972027972027972. Current best value is 0.972027972027972 with parameters: {'booster': 'gbtree', 'lambda': 3.413395266900941e-07, 'alpha': 1.295857102451433e-07, 'max_depth': 5, 'eta': 0.8556609659891082, 'gamma': 4.211119213485256e-07, 'grow_policy': 'depthwise'}.\n"
     ]
    },
    {
     "name": "stdout",
     "output_type": "stream",
     "text": [
      "[0]\tvalidation-auc:0.980518\n",
      "[1]\tvalidation-auc:0.980518\n",
      "[2]\tvalidation-auc:0.980518\n",
      "[3]\tvalidation-auc:0.980518\n",
      "[4]\tvalidation-auc:0.980518\n",
      "[5]\tvalidation-auc:0.980518\n",
      "[6]\tvalidation-auc:0.980518\n",
      "[7]\tvalidation-auc:0.980518\n"
     ]
    },
    {
     "name": "stderr",
     "output_type": "stream",
     "text": [
      "[I 2019-11-01 16:01:29,065] Setting status of trial#98 as TrialState.PRUNED. Trial was pruned at iteration 8.\n"
     ]
    },
    {
     "name": "stdout",
     "output_type": "stream",
     "text": [
      "[0]\tvalidation-auc:0.955993\n",
      "[1]\tvalidation-auc:0.956409\n",
      "[2]\tvalidation-auc:0.958906\n",
      "[3]\tvalidation-auc:0.958489\n",
      "[4]\tvalidation-auc:0.959426\n",
      "[5]\tvalidation-auc:0.958489\n"
     ]
    },
    {
     "name": "stderr",
     "output_type": "stream",
     "text": [
      "[I 2019-11-01 16:01:29,379] Setting status of trial#99 as TrialState.PRUNED. Trial was pruned at iteration 6.\n"
     ]
    },
    {
     "name": "stdout",
     "output_type": "stream",
     "text": [
      "FrozenTrial(number=8, state=<TrialState.COMPLETE: 1>, value=0.972027972027972, datetime_start=datetime.datetime(2019, 11, 1, 16, 1, 6, 594306), datetime_complete=datetime.datetime(2019, 11, 1, 16, 1, 6, 732933), params={'booster': 'gbtree', 'lambda': 3.413395266900941e-07, 'alpha': 1.295857102451433e-07, 'max_depth': 5, 'eta': 0.8556609659891082, 'gamma': 4.211119213485256e-07, 'grow_policy': 'depthwise'}, distributions={'booster': CategoricalDistribution(choices=('gbtree', 'gblinear', 'dart')), 'lambda': LogUniformDistribution(low=1e-08, high=1.0), 'alpha': LogUniformDistribution(low=1e-08, high=1.0), 'max_depth': IntUniformDistribution(low=1, high=9), 'eta': LogUniformDistribution(low=1e-08, high=1.0), 'gamma': LogUniformDistribution(low=1e-08, high=1.0), 'grow_policy': CategoricalDistribution(choices=('depthwise', 'lossguide'))}, user_attrs={}, system_attrs={'_number': 8}, intermediate_values={0: 0.98003, 1: 0.991653, 2: 0.994294, 3: 0.995351, 4: 0.995351, 5: 0.995562, 6: 0.995139, 7: 0.994928, 8: 0.994717, 9: 0.995562}, trial_id=8)\n"
     ]
    }
   ],
   "source": [
    "study = optuna.create_study(pruner=optuna.pruners.MedianPruner(n_warmup_steps=5),\n",
    "                                direction='maximize')\n",
    "study.optimize(objective, n_trials=100)\n",
    "print(study.best_trial)"
   ]
  },
  {
   "cell_type": "code",
   "execution_count": null,
   "metadata": {},
   "outputs": [],
   "source": []
  },
  {
   "cell_type": "code",
   "execution_count": 18,
   "metadata": {},
   "outputs": [],
   "source": [
    "def objective2(trial):\n",
    "    x = trial.suggest_uniform('x', -10, 10)\n",
    "    return (x - 2) ** 2"
   ]
  },
  {
   "cell_type": "code",
   "execution_count": 19,
   "metadata": {},
   "outputs": [],
   "source": [
    "study = optuna.create_study()"
   ]
  },
  {
   "cell_type": "code",
   "execution_count": 20,
   "metadata": {},
   "outputs": [
    {
     "name": "stdout",
     "output_type": "stream",
     "text": [
      "[0]\tvalidation-auc:0.959742\n",
      "[1]\tvalidation-auc:0.959003\n",
      "[2]\tvalidation-auc:0.959003\n",
      "[3]\tvalidation-auc:0.959108\n",
      "[4]\tvalidation-auc:0.959108\n",
      "[5]\tvalidation-auc:0.959003\n",
      "[6]\tvalidation-auc:0.959108\n",
      "[7]\tvalidation-auc:0.959108\n",
      "[8]\tvalidation-auc:0.959003\n",
      "[9]\tvalidation-auc:0.959108\n"
     ]
    },
    {
     "name": "stderr",
     "output_type": "stream",
     "text": [
      "[I 2019-11-01 16:17:35,931] Finished trial#0 resulted in value: 0.9300699300699301. Current best value is 0.9300699300699301 with parameters: {'booster': 'dart', 'lambda': 2.0242553550480727e-06, 'alpha': 0.0006309054926632025, 'max_depth': 7, 'eta': 4.9395214207497665e-06, 'gamma': 3.260977886741957e-08, 'grow_policy': 'lossguide', 'sample_type': 'weighted', 'normalize_type': 'forest', 'rate_drop': 6.964040651093411e-06, 'skip_drop': 1.4762033396620063e-06}.\n"
     ]
    },
    {
     "name": "stdout",
     "output_type": "stream",
     "text": [
      "[0]\tvalidation-auc:0.921247\n",
      "[1]\tvalidation-auc:0.922441\n",
      "[2]\tvalidation-auc:0.922441\n",
      "[3]\tvalidation-auc:0.922441\n",
      "[4]\tvalidation-auc:0.922441\n",
      "[5]\tvalidation-auc:0.922441\n",
      "[6]\tvalidation-auc:0.922441\n",
      "[7]\tvalidation-auc:0.922441\n",
      "[8]\tvalidation-auc:0.92284\n",
      "[9]\tvalidation-auc:0.92284\n"
     ]
    },
    {
     "name": "stderr",
     "output_type": "stream",
     "text": [
      "[I 2019-11-01 16:17:36,062] Finished trial#1 resulted in value: 0.8881118881118881. Current best value is 0.8881118881118881 with parameters: {'booster': 'dart', 'lambda': 0.004171898819371491, 'alpha': 2.3929910118714615e-05, 'max_depth': 9, 'eta': 4.1211137779247256e-05, 'gamma': 3.1004592521167977e-07, 'grow_policy': 'lossguide', 'sample_type': 'weighted', 'normalize_type': 'tree', 'rate_drop': 0.00028213277888973726, 'skip_drop': 4.440308161332097e-06}.\n"
     ]
    },
    {
     "name": "stdout",
     "output_type": "stream",
     "text": [
      "[0]\tvalidation-auc:0.641772\n",
      "[1]\tvalidation-auc:0.421624\n",
      "[2]\tvalidation-auc:0.722319\n",
      "[3]\tvalidation-auc:0.77703\n",
      "[4]\tvalidation-auc:0.825445\n",
      "[5]\tvalidation-auc:0.838689\n",
      "[6]\tvalidation-auc:0.848459\n",
      "[7]\tvalidation-auc:0.86561\n",
      "[8]\tvalidation-auc:0.879288\n",
      "[9]\tvalidation-auc:0.888841\n"
     ]
    },
    {
     "name": "stderr",
     "output_type": "stream",
     "text": [
      "[I 2019-11-01 16:17:36,177] Finished trial#2 resulted in value: 0.8251748251748252. Current best value is 0.8251748251748252 with parameters: {'booster': 'gblinear', 'lambda': 0.055010121629676965, 'alpha': 0.0005628890234980901}.\n"
     ]
    },
    {
     "name": "stdout",
     "output_type": "stream",
     "text": [
      "[0]\tvalidation-auc:0.840252\n",
      "[1]\tvalidation-auc:0.843816\n",
      "[2]\tvalidation-auc:0.843396\n",
      "[3]\tvalidation-auc:0.849686\n",
      "[4]\tvalidation-auc:0.852621\n",
      "[5]\tvalidation-auc:0.859119\n",
      "[6]\tvalidation-auc:0.861635\n",
      "[7]\tvalidation-auc:0.868763\n",
      "[8]\tvalidation-auc:0.878616\n",
      "[9]\tvalidation-auc:0.890147\n"
     ]
    },
    {
     "name": "stderr",
     "output_type": "stream",
     "text": [
      "[I 2019-11-01 16:17:36,295] Finished trial#3 resulted in value: 0.8321678321678322. Current best value is 0.8251748251748252 with parameters: {'booster': 'gblinear', 'lambda': 0.055010121629676965, 'alpha': 0.0005628890234980901}.\n"
     ]
    },
    {
     "name": "stdout",
     "output_type": "stream",
     "text": [
      "[0]\tvalidation-auc:0.935333\n",
      "[1]\tvalidation-auc:0.949204\n",
      "[2]\tvalidation-auc:0.979906\n",
      "[3]\tvalidation-auc:0.98011\n",
      "[4]\tvalidation-auc:0.979804\n",
      "[5]\tvalidation-auc:0.980416\n",
      "[6]\tvalidation-auc:0.980008\n",
      "[7]\tvalidation-auc:0.979192\n",
      "[8]\tvalidation-auc:0.979702\n",
      "[9]\tvalidation-auc:0.989188\n"
     ]
    },
    {
     "name": "stderr",
     "output_type": "stream",
     "text": [
      "[I 2019-11-01 16:17:36,421] Finished trial#4 resulted in value: 0.958041958041958. Current best value is 0.8251748251748252 with parameters: {'booster': 'gblinear', 'lambda': 0.055010121629676965, 'alpha': 0.0005628890234980901}.\n"
     ]
    },
    {
     "name": "stdout",
     "output_type": "stream",
     "text": [
      "[0]\tvalidation-auc:0.462755\n",
      "[1]\tvalidation-auc:0.755306\n",
      "[2]\tvalidation-auc:0.871411\n",
      "[3]\tvalidation-auc:0.904494\n",
      "[4]\tvalidation-auc:0.83042\n",
      "[5]\tvalidation-auc:0.870682\n",
      "[6]\tvalidation-auc:0.868914\n",
      "[7]\tvalidation-auc:0.896171\n",
      "[8]\tvalidation-auc:0.911777\n",
      "[9]\tvalidation-auc:0.928631\n"
     ]
    },
    {
     "name": "stderr",
     "output_type": "stream",
     "text": [
      "[I 2019-11-01 16:17:36,549] Finished trial#5 resulted in value: 0.8741258741258742. Current best value is 0.8251748251748252 with parameters: {'booster': 'gblinear', 'lambda': 0.055010121629676965, 'alpha': 0.0005628890234980901}.\n"
     ]
    },
    {
     "name": "stdout",
     "output_type": "stream",
     "text": [
      "[0]\tvalidation-auc:0.963302\n"
     ]
    },
    {
     "name": "stderr",
     "output_type": "stream",
     "text": [
      "[I 2019-11-01 16:17:36,574] Setting status of trial#6 as TrialState.PRUNED. Trial was pruned at iteration 1.\n"
     ]
    },
    {
     "name": "stdout",
     "output_type": "stream",
     "text": [
      "[0]\tvalidation-auc:0.903145\n"
     ]
    },
    {
     "name": "stderr",
     "output_type": "stream",
     "text": [
      "[I 2019-11-01 16:17:36,688] Setting status of trial#7 as TrialState.PRUNED. Trial was pruned at iteration 1.\n"
     ]
    },
    {
     "name": "stdout",
     "output_type": "stream",
     "text": [
      "[0]\tvalidation-auc:0.970724\n"
     ]
    },
    {
     "name": "stderr",
     "output_type": "stream",
     "text": [
      "[I 2019-11-01 16:17:36,812] Setting status of trial#8 as TrialState.PRUNED. Trial was pruned at iteration 1.\n"
     ]
    },
    {
     "name": "stdout",
     "output_type": "stream",
     "text": [
      "[0]\tvalidation-auc:0.868523\n",
      "[1]\tvalidation-auc:0.927887\n",
      "[2]\tvalidation-auc:0.943798\n",
      "[3]\tvalidation-auc:0.943798\n",
      "[4]\tvalidation-auc:0.943798\n",
      "[5]\tvalidation-auc:0.97348\n",
      "[6]\tvalidation-auc:0.982762\n",
      "[7]\tvalidation-auc:0.983374\n",
      "[8]\tvalidation-auc:0.983374\n",
      "[9]\tvalidation-auc:0.983986\n"
     ]
    },
    {
     "name": "stderr",
     "output_type": "stream",
     "text": [
      "[I 2019-11-01 16:17:37,034] Finished trial#9 resulted in value: 0.8951048951048951. Current best value is 0.8251748251748252 with parameters: {'booster': 'gblinear', 'lambda': 0.055010121629676965, 'alpha': 0.0005628890234980901}.\n"
     ]
    },
    {
     "name": "stdout",
     "output_type": "stream",
     "text": [
      "[0]\tvalidation-auc:0.951311\n"
     ]
    },
    {
     "name": "stderr",
     "output_type": "stream",
     "text": [
      "[I 2019-11-01 16:17:37,058] Setting status of trial#10 as TrialState.PRUNED. Trial was pruned at iteration 1.\n"
     ]
    },
    {
     "name": "stdout",
     "output_type": "stream",
     "text": [
      "[0]\tvalidation-auc:0.938188\n"
     ]
    },
    {
     "name": "stderr",
     "output_type": "stream",
     "text": [
      "[I 2019-11-01 16:17:37,166] Setting status of trial#11 as TrialState.PRUNED. Trial was pruned at iteration 1.\n"
     ]
    },
    {
     "name": "stdout",
     "output_type": "stream",
     "text": [
      "[0]\tvalidation-auc:0.898903\n",
      "[1]\tvalidation-auc:0.835526\n",
      "[2]\tvalidation-auc:0.879167\n",
      "[3]\tvalidation-auc:0.90636\n",
      "[4]\tvalidation-auc:0.925\n",
      "[5]\tvalidation-auc:0.935965\n",
      "[6]\tvalidation-auc:0.942105\n",
      "[7]\tvalidation-auc:0.944518\n",
      "[8]\tvalidation-auc:0.947807\n",
      "[9]\tvalidation-auc:0.952632\n"
     ]
    },
    {
     "name": "stderr",
     "output_type": "stream",
     "text": [
      "[I 2019-11-01 16:17:37,382] Finished trial#12 resulted in value: 0.9020979020979021. Current best value is 0.8251748251748252 with parameters: {'booster': 'gblinear', 'lambda': 0.055010121629676965, 'alpha': 0.0005628890234980901}.\n"
     ]
    },
    {
     "name": "stdout",
     "output_type": "stream",
     "text": [
      "[0]\tvalidation-auc:0.473359\n",
      "[1]\tvalidation-auc:0.594416\n",
      "[2]\tvalidation-auc:0.641517\n",
      "[3]\tvalidation-auc:0.672208\n",
      "[4]\tvalidation-auc:0.729326\n",
      "[5]\tvalidation-auc:0.765772\n",
      "[6]\tvalidation-auc:0.786232\n",
      "[7]\tvalidation-auc:0.806266\n",
      "[8]\tvalidation-auc:0.836743\n",
      "[9]\tvalidation-auc:0.860827\n"
     ]
    },
    {
     "name": "stderr",
     "output_type": "stream",
     "text": [
      "[I 2019-11-01 16:17:37,517] Finished trial#13 resulted in value: 0.7902097902097902. Current best value is 0.7902097902097902 with parameters: {'booster': 'gblinear', 'lambda': 0.0011896712010488497, 'alpha': 0.009286223022470222}.\n"
     ]
    },
    {
     "name": "stdout",
     "output_type": "stream",
     "text": [
      "[0]\tvalidation-auc:0.902791\n"
     ]
    },
    {
     "name": "stderr",
     "output_type": "stream",
     "text": [
      "[I 2019-11-01 16:17:37,542] Setting status of trial#14 as TrialState.PRUNED. Trial was pruned at iteration 1.\n"
     ]
    },
    {
     "name": "stdout",
     "output_type": "stream",
     "text": [
      "[0]\tvalidation-auc:0.741365\n",
      "[1]\tvalidation-auc:0.851228\n",
      "[2]\tvalidation-auc:0.889305\n",
      "[3]\tvalidation-auc:0.91365\n",
      "[4]\tvalidation-auc:0.93092\n",
      "[5]\tvalidation-auc:0.943404\n",
      "[6]\tvalidation-auc:0.96109\n",
      "[7]\tvalidation-auc:0.962339\n",
      "[8]\tvalidation-auc:0.965044\n",
      "[9]\tvalidation-auc:0.966292\n"
     ]
    },
    {
     "name": "stderr",
     "output_type": "stream",
     "text": [
      "[I 2019-11-01 16:17:37,762] Finished trial#15 resulted in value: 0.8881118881118881. Current best value is 0.7902097902097902 with parameters: {'booster': 'gblinear', 'lambda': 0.0011896712010488497, 'alpha': 0.009286223022470222}.\n"
     ]
    },
    {
     "name": "stdout",
     "output_type": "stream",
     "text": [
      "[0]\tvalidation-auc:0.968083\n"
     ]
    },
    {
     "name": "stderr",
     "output_type": "stream",
     "text": [
      "[I 2019-11-01 16:17:37,796] Setting status of trial#16 as TrialState.PRUNED. Trial was pruned at iteration 1.\n"
     ]
    },
    {
     "name": "stdout",
     "output_type": "stream",
     "text": [
      "[0]\tvalidation-auc:0.877358\n"
     ]
    },
    {
     "name": "stderr",
     "output_type": "stream",
     "text": [
      "[I 2019-11-01 16:17:37,906] Setting status of trial#17 as TrialState.PRUNED. Trial was pruned at iteration 1.\n"
     ]
    },
    {
     "name": "stdout",
     "output_type": "stream",
     "text": [
      "[0]\tvalidation-auc:0.902504\n"
     ]
    },
    {
     "name": "stderr",
     "output_type": "stream",
     "text": [
      "[I 2019-11-01 16:17:38,016] Setting status of trial#18 as TrialState.PRUNED. Trial was pruned at iteration 1.\n"
     ]
    },
    {
     "name": "stdout",
     "output_type": "stream",
     "text": [
      "[0]\tvalidation-auc:0.86747\n"
     ]
    },
    {
     "name": "stderr",
     "output_type": "stream",
     "text": [
      "[I 2019-11-01 16:17:38,128] Setting status of trial#19 as TrialState.PRUNED. Trial was pruned at iteration 1.\n"
     ]
    },
    {
     "name": "stdout",
     "output_type": "stream",
     "text": [
      "[0]\tvalidation-auc:0.960859\n"
     ]
    },
    {
     "name": "stderr",
     "output_type": "stream",
     "text": [
      "[I 2019-11-01 16:17:38,247] Setting status of trial#20 as TrialState.PRUNED. Trial was pruned at iteration 1.\n"
     ]
    },
    {
     "name": "stdout",
     "output_type": "stream",
     "text": [
      "[0]\tvalidation-auc:0.905535\n"
     ]
    },
    {
     "name": "stderr",
     "output_type": "stream",
     "text": [
      "[I 2019-11-01 16:17:38,357] Setting status of trial#21 as TrialState.PRUNED. Trial was pruned at iteration 1.\n"
     ]
    },
    {
     "name": "stdout",
     "output_type": "stream",
     "text": [
      "[0]\tvalidation-auc:0.865376\n"
     ]
    },
    {
     "name": "stderr",
     "output_type": "stream",
     "text": [
      "[I 2019-11-01 16:17:38,470] Setting status of trial#22 as TrialState.PRUNED. Trial was pruned at iteration 1.\n"
     ]
    },
    {
     "name": "stdout",
     "output_type": "stream",
     "text": [
      "[0]\tvalidation-auc:0.874795\n"
     ]
    },
    {
     "name": "stderr",
     "output_type": "stream",
     "text": [
      "[I 2019-11-01 16:17:38,586] Setting status of trial#23 as TrialState.PRUNED. Trial was pruned at iteration 1.\n"
     ]
    },
    {
     "name": "stdout",
     "output_type": "stream",
     "text": [
      "[0]\tvalidation-auc:0.830165\n",
      "[1]\tvalidation-auc:0.838636\n",
      "[2]\tvalidation-auc:0.857231\n",
      "[3]\tvalidation-auc:0.879752\n",
      "[4]\tvalidation-auc:0.890083\n",
      "[5]\tvalidation-auc:0.902066\n",
      "[6]\tvalidation-auc:0.920041\n",
      "[7]\tvalidation-auc:0.935331\n",
      "[8]\tvalidation-auc:0.949793\n",
      "[9]\tvalidation-auc:0.955579\n"
     ]
    },
    {
     "name": "stderr",
     "output_type": "stream",
     "text": [
      "[I 2019-11-01 16:17:38,820] Finished trial#24 resulted in value: 0.8881118881118881. Current best value is 0.7902097902097902 with parameters: {'booster': 'gblinear', 'lambda': 0.0011896712010488497, 'alpha': 0.009286223022470222}.\n"
     ]
    },
    {
     "name": "stdout",
     "output_type": "stream",
     "text": [
      "[0]\tvalidation-auc:0.658418\n",
      "[1]\tvalidation-auc:0.757607\n",
      "[2]\tvalidation-auc:0.717241\n",
      "[3]\tvalidation-auc:0.781542\n",
      "[4]\tvalidation-auc:0.808114\n",
      "[5]\tvalidation-auc:0.816024\n",
      "[6]\tvalidation-auc:0.837525\n",
      "[7]\tvalidation-auc:0.844219\n",
      "[8]\tvalidation-auc:0.858824\n",
      "[9]\tvalidation-auc:0.870588\n"
     ]
    },
    {
     "name": "stderr",
     "output_type": "stream",
     "text": [
      "[I 2019-11-01 16:17:38,969] Finished trial#25 resulted in value: 0.7762237762237763. Current best value is 0.7762237762237763 with parameters: {'booster': 'gblinear', 'lambda': 1.9384019439701473e-07, 'alpha': 0.013217033822571405}.\n"
     ]
    },
    {
     "name": "stdout",
     "output_type": "stream",
     "text": [
      "[0]\tvalidation-auc:0.653815\n",
      "[1]\tvalidation-auc:0.824498\n",
      "[2]\tvalidation-auc:0.854618\n",
      "[3]\tvalidation-auc:0.876506\n",
      "[4]\tvalidation-auc:0.885542\n",
      "[5]\tvalidation-auc:0.896988\n",
      "[6]\tvalidation-auc:0.914458\n",
      "[7]\tvalidation-auc:0.917871\n",
      "[8]\tvalidation-auc:0.924096\n",
      "[9]\tvalidation-auc:0.929518\n"
     ]
    },
    {
     "name": "stderr",
     "output_type": "stream",
     "text": [
      "[I 2019-11-01 16:17:39,120] Finished trial#26 resulted in value: 0.8531468531468531. Current best value is 0.7762237762237763 with parameters: {'booster': 'gblinear', 'lambda': 1.9384019439701473e-07, 'alpha': 0.013217033822571405}.\n"
     ]
    },
    {
     "name": "stdout",
     "output_type": "stream",
     "text": [
      "[0]\tvalidation-auc:0.344123\n",
      "[1]\tvalidation-auc:0.102388\n",
      "[2]\tvalidation-auc:0.735308\n",
      "[3]\tvalidation-auc:0.5\n",
      "[4]\tvalidation-auc:0.5\n",
      "[5]\tvalidation-auc:0.5\n",
      "[6]\tvalidation-auc:0.5\n",
      "[7]\tvalidation-auc:0.5\n",
      "[8]\tvalidation-auc:0.5\n",
      "[9]\tvalidation-auc:0.5\n"
     ]
    },
    {
     "name": "stderr",
     "output_type": "stream",
     "text": [
      "[I 2019-11-01 16:17:39,268] Finished trial#27 resulted in value: 0.3076923076923077. Current best value is 0.3076923076923077 with parameters: {'booster': 'gblinear', 'lambda': 0.00015485220426779127, 'alpha': 0.0007396787639305519}.\n"
     ]
    },
    {
     "name": "stdout",
     "output_type": "stream",
     "text": [
      "[0]\tvalidation-auc:0.944444\n"
     ]
    },
    {
     "name": "stderr",
     "output_type": "stream",
     "text": [
      "[I 2019-11-01 16:17:39,296] Setting status of trial#28 as TrialState.PRUNED. Trial was pruned at iteration 1.\n"
     ]
    },
    {
     "name": "stdout",
     "output_type": "stream",
     "text": [
      "[0]\tvalidation-auc:0.96374\n"
     ]
    },
    {
     "name": "stderr",
     "output_type": "stream",
     "text": [
      "[I 2019-11-01 16:17:39,431] Setting status of trial#29 as TrialState.PRUNED. Trial was pruned at iteration 1.\n"
     ]
    },
    {
     "name": "stdout",
     "output_type": "stream",
     "text": [
      "[0]\tvalidation-auc:0.497001\n",
      "[1]\tvalidation-auc:0.721511\n",
      "[2]\tvalidation-auc:0.220612\n",
      "[3]\tvalidation-auc:0.612855\n",
      "[4]\tvalidation-auc:0.571271\n",
      "[5]\tvalidation-auc:0.615654\n",
      "[6]\tvalidation-auc:0.5\n",
      "[7]\tvalidation-auc:0.5\n",
      "[8]\tvalidation-auc:0.5\n",
      "[9]\tvalidation-auc:0.5\n"
     ]
    },
    {
     "name": "stderr",
     "output_type": "stream",
     "text": [
      "[I 2019-11-01 16:17:39,668] Finished trial#30 resulted in value: 0.42657342657342656. Current best value is 0.3076923076923077 with parameters: {'booster': 'gblinear', 'lambda': 0.00015485220426779127, 'alpha': 0.0007396787639305519}.\n"
     ]
    },
    {
     "name": "stdout",
     "output_type": "stream",
     "text": [
      "[0]\tvalidation-auc:0.572677\n",
      "[1]\tvalidation-auc:0.245311\n",
      "[2]\tvalidation-auc:0.471867\n",
      "[3]\tvalidation-auc:0.599744\n",
      "[4]\tvalidation-auc:0.724211\n",
      "[5]\tvalidation-auc:0.638534\n",
      "[6]\tvalidation-auc:0.745311\n",
      "[7]\tvalidation-auc:0.302856\n",
      "[8]\tvalidation-auc:0.630222\n",
      "[9]\tvalidation-auc:0.901854\n"
     ]
    },
    {
     "name": "stderr",
     "output_type": "stream",
     "text": [
      "[I 2019-11-01 16:17:39,821] Finished trial#31 resulted in value: 0.7972027972027972. Current best value is 0.3076923076923077 with parameters: {'booster': 'gblinear', 'lambda': 0.00015485220426779127, 'alpha': 0.0007396787639305519}.\n"
     ]
    },
    {
     "name": "stdout",
     "output_type": "stream",
     "text": [
      "[0]\tvalidation-auc:0.959842\n"
     ]
    },
    {
     "name": "stderr",
     "output_type": "stream",
     "text": [
      "[I 2019-11-01 16:17:39,852] Setting status of trial#32 as TrialState.PRUNED. Trial was pruned at iteration 1.\n"
     ]
    },
    {
     "name": "stdout",
     "output_type": "stream",
     "text": [
      "[0]\tvalidation-auc:0.964689\n"
     ]
    },
    {
     "name": "stderr",
     "output_type": "stream",
     "text": [
      "[I 2019-11-01 16:17:39,966] Setting status of trial#33 as TrialState.PRUNED. Trial was pruned at iteration 1.\n"
     ]
    },
    {
     "name": "stdout",
     "output_type": "stream",
     "text": [
      "[0]\tvalidation-auc:0.256181\n",
      "[1]\tvalidation-auc:0.147379\n",
      "[2]\tvalidation-auc:0.721547\n",
      "[3]\tvalidation-auc:0.789003\n",
      "[4]\tvalidation-auc:0.842498\n",
      "[5]\tvalidation-auc:0.929668\n",
      "[6]\tvalidation-auc:0.925085\n",
      "[7]\tvalidation-auc:0.861679\n",
      "[8]\tvalidation-auc:0.5\n",
      "[9]\tvalidation-auc:0.5\n"
     ]
    },
    {
     "name": "stderr",
     "output_type": "stream",
     "text": [
      "[I 2019-11-01 16:17:40,214] Finished trial#34 resulted in value: 0.6433566433566433. Current best value is 0.3076923076923077 with parameters: {'booster': 'gblinear', 'lambda': 0.00015485220426779127, 'alpha': 0.0007396787639305519}.\n"
     ]
    },
    {
     "name": "stdout",
     "output_type": "stream",
     "text": [
      "[0]\tvalidation-auc:0.967434\n"
     ]
    },
    {
     "name": "stderr",
     "output_type": "stream",
     "text": [
      "[I 2019-11-01 16:17:40,273] Setting status of trial#35 as TrialState.PRUNED. Trial was pruned at iteration 1.\n"
     ]
    },
    {
     "name": "stdout",
     "output_type": "stream",
     "text": [
      "[0]\tvalidation-auc:0.790786\n",
      "[1]\tvalidation-auc:0.653846\n",
      "[2]\tvalidation-auc:0.732566\n",
      "[3]\tvalidation-auc:0.248415\n",
      "[4]\tvalidation-auc:0.724852\n",
      "[5]\tvalidation-auc:0.797443\n",
      "[6]\tvalidation-auc:0.862426\n",
      "[7]\tvalidation-auc:0.724535\n",
      "[8]\tvalidation-auc:0.494505\n",
      "[9]\tvalidation-auc:0.5\n"
     ]
    },
    {
     "name": "stderr",
     "output_type": "stream",
     "text": [
      "[I 2019-11-01 16:17:40,523] Finished trial#36 resulted in value: 0.36363636363636365. Current best value is 0.3076923076923077 with parameters: {'booster': 'gblinear', 'lambda': 0.00015485220426779127, 'alpha': 0.0007396787639305519}.\n"
     ]
    },
    {
     "name": "stdout",
     "output_type": "stream",
     "text": [
      "[0]\tvalidation-auc:0.5\n",
      "[1]\tvalidation-auc:0.5\n",
      "[2]\tvalidation-auc:0.5\n",
      "[3]\tvalidation-auc:0.5\n",
      "[4]\tvalidation-auc:0.926535\n",
      "[5]\tvalidation-auc:0.926535\n",
      "[6]\tvalidation-auc:0.916118\n",
      "[7]\tvalidation-auc:0.916118\n",
      "[8]\tvalidation-auc:0.941776\n",
      "[9]\tvalidation-auc:0.941776\n"
     ]
    },
    {
     "name": "stderr",
     "output_type": "stream",
     "text": [
      "[I 2019-11-01 16:17:40,716] Finished trial#37 resulted in value: 0.9300699300699301. Current best value is 0.3076923076923077 with parameters: {'booster': 'gblinear', 'lambda': 0.00015485220426779127, 'alpha': 0.0007396787639305519}.\n"
     ]
    },
    {
     "name": "stdout",
     "output_type": "stream",
     "text": [
      "[0]\tvalidation-auc:0.623899\n",
      "[1]\tvalidation-auc:0.70608\n",
      "[2]\tvalidation-auc:0.269811\n",
      "[3]\tvalidation-auc:0.679874\n",
      "[4]\tvalidation-auc:0.581551\n",
      "[5]\tvalidation-auc:0.804193\n",
      "[6]\tvalidation-auc:0.54717\n",
      "[7]\tvalidation-auc:0.5\n",
      "[8]\tvalidation-auc:0.5\n",
      "[9]\tvalidation-auc:0.5\n"
     ]
    },
    {
     "name": "stderr",
     "output_type": "stream",
     "text": [
      "[I 2019-11-01 16:17:40,880] Finished trial#38 resulted in value: 0.3706293706293706. Current best value is 0.3076923076923077 with parameters: {'booster': 'gblinear', 'lambda': 0.00015485220426779127, 'alpha': 0.0007396787639305519}.\n"
     ]
    },
    {
     "name": "stdout",
     "output_type": "stream",
     "text": [
      "[0]\tvalidation-auc:0.369376\n",
      "[1]\tvalidation-auc:0.721993\n",
      "[2]\tvalidation-auc:0.734389\n",
      "[3]\tvalidation-auc:0.761249\n",
      "[4]\tvalidation-auc:0.805326\n",
      "[5]\tvalidation-auc:0.849403\n",
      "[6]\tvalidation-auc:0.896235\n",
      "[7]\tvalidation-auc:0.901974\n",
      "[8]\tvalidation-auc:0.927916\n",
      "[9]\tvalidation-auc:0.931589\n"
     ]
    },
    {
     "name": "stderr",
     "output_type": "stream",
     "text": [
      "[I 2019-11-01 16:17:41,045] Finished trial#39 resulted in value: 0.8881118881118881. Current best value is 0.3076923076923077 with parameters: {'booster': 'gblinear', 'lambda': 0.00015485220426779127, 'alpha': 0.0007396787639305519}.\n"
     ]
    },
    {
     "name": "stdout",
     "output_type": "stream",
     "text": [
      "[0]\tvalidation-auc:0.896171\n",
      "[1]\tvalidation-auc:0.207033\n",
      "[2]\tvalidation-auc:0.454432\n",
      "[3]\tvalidation-auc:0.707865\n",
      "[4]\tvalidation-auc:0.590512\n",
      "[5]\tvalidation-auc:0.5\n",
      "[6]\tvalidation-auc:0.5\n",
      "[7]\tvalidation-auc:0.5\n",
      "[8]\tvalidation-auc:0.5\n",
      "[9]\tvalidation-auc:0.5\n"
     ]
    },
    {
     "name": "stderr",
     "output_type": "stream",
     "text": [
      "[I 2019-11-01 16:17:41,210] Finished trial#40 resulted in value: 0.3776223776223776. Current best value is 0.3076923076923077 with parameters: {'booster': 'gblinear', 'lambda': 0.00015485220426779127, 'alpha': 0.0007396787639305519}.\n"
     ]
    },
    {
     "name": "stdout",
     "output_type": "stream",
     "text": [
      "[0]\tvalidation-auc:0.581628\n",
      "[1]\tvalidation-auc:0.076744\n",
      "[2]\tvalidation-auc:0.781047\n",
      "[3]\tvalidation-auc:0.518372\n",
      "[4]\tvalidation-auc:0.768837\n",
      "[5]\tvalidation-auc:0.968605\n",
      "[6]\tvalidation-auc:0.95686\n",
      "[7]\tvalidation-auc:0.950581\n",
      "[8]\tvalidation-auc:0.959186\n",
      "[9]\tvalidation-auc:0.936163\n"
     ]
    },
    {
     "name": "stderr",
     "output_type": "stream",
     "text": [
      "[I 2019-11-01 16:17:41,378] Finished trial#41 resulted in value: 0.9230769230769231. Current best value is 0.3076923076923077 with parameters: {'booster': 'gblinear', 'lambda': 0.00015485220426779127, 'alpha': 0.0007396787639305519}.\n"
     ]
    },
    {
     "name": "stdout",
     "output_type": "stream",
     "text": [
      "[0]\tvalidation-auc:0.603829\n",
      "[1]\tvalidation-auc:0.155223\n",
      "[2]\tvalidation-auc:0.906679\n",
      "[3]\tvalidation-auc:0.867769\n",
      "[4]\tvalidation-auc:0.906471\n",
      "[5]\tvalidation-auc:0.925822\n",
      "[6]\tvalidation-auc:0.962547\n",
      "[7]\tvalidation-auc:0.954432\n",
      "[8]\tvalidation-auc:0.751769\n",
      "[9]\tvalidation-auc:0.941115\n"
     ]
    },
    {
     "name": "stderr",
     "output_type": "stream",
     "text": [
      "[I 2019-11-01 16:17:41,549] Finished trial#42 resulted in value: 0.8811188811188811. Current best value is 0.3076923076923077 with parameters: {'booster': 'gblinear', 'lambda': 0.00015485220426779127, 'alpha': 0.0007396787639305519}.\n"
     ]
    },
    {
     "name": "stdout",
     "output_type": "stream",
     "text": [
      "[0]\tvalidation-auc:0.91954\n"
     ]
    },
    {
     "name": "stderr",
     "output_type": "stream",
     "text": [
      "[I 2019-11-01 16:17:41,585] Setting status of trial#43 as TrialState.PRUNED. Trial was pruned at iteration 1.\n"
     ]
    },
    {
     "name": "stdout",
     "output_type": "stream",
     "text": [
      "[0]\tvalidation-auc:0.951446\n"
     ]
    },
    {
     "name": "stderr",
     "output_type": "stream",
     "text": [
      "[I 2019-11-01 16:17:41,709] Setting status of trial#44 as TrialState.PRUNED. Trial was pruned at iteration 1.\n"
     ]
    },
    {
     "name": "stdout",
     "output_type": "stream",
     "text": [
      "[0]\tvalidation-auc:0.908553\n"
     ]
    },
    {
     "name": "stderr",
     "output_type": "stream",
     "text": [
      "[I 2019-11-01 16:17:41,868] Setting status of trial#45 as TrialState.PRUNED. Trial was pruned at iteration 1.\n"
     ]
    },
    {
     "name": "stdout",
     "output_type": "stream",
     "text": [
      "[0]\tvalidation-auc:0.979762\n"
     ]
    },
    {
     "name": "stderr",
     "output_type": "stream",
     "text": [
      "[I 2019-11-01 16:17:41,993] Setting status of trial#46 as TrialState.PRUNED. Trial was pruned at iteration 1.\n"
     ]
    },
    {
     "name": "stdout",
     "output_type": "stream",
     "text": [
      "[0]\tvalidation-auc:0.958539\n"
     ]
    },
    {
     "name": "stderr",
     "output_type": "stream",
     "text": [
      "[I 2019-11-01 16:17:42,121] Setting status of trial#47 as TrialState.PRUNED. Trial was pruned at iteration 1.\n"
     ]
    },
    {
     "name": "stdout",
     "output_type": "stream",
     "text": [
      "[0]\tvalidation-auc:0.821398\n"
     ]
    },
    {
     "name": "stderr",
     "output_type": "stream",
     "text": [
      "[I 2019-11-01 16:17:42,267] Setting status of trial#48 as TrialState.PRUNED. Trial was pruned at iteration 1.\n"
     ]
    },
    {
     "name": "stdout",
     "output_type": "stream",
     "text": [
      "[0]\tvalidation-auc:0.916562\n"
     ]
    },
    {
     "name": "stderr",
     "output_type": "stream",
     "text": [
      "[I 2019-11-01 16:17:42,390] Setting status of trial#49 as TrialState.PRUNED. Trial was pruned at iteration 1.\n"
     ]
    },
    {
     "name": "stdout",
     "output_type": "stream",
     "text": [
      "[0]\tvalidation-auc:0.842493\n",
      "[1]\tvalidation-auc:0.188172\n",
      "[2]\tvalidation-auc:0.800279\n",
      "[3]\tvalidation-auc:0.776583\n",
      "[4]\tvalidation-auc:0.868877\n",
      "[5]\tvalidation-auc:0.907607\n",
      "[6]\tvalidation-auc:0.747511\n",
      "[7]\tvalidation-auc:0.855834\n",
      "[8]\tvalidation-auc:0.530765\n",
      "[9]\tvalidation-auc:0.473915\n"
     ]
    },
    {
     "name": "stderr",
     "output_type": "stream",
     "text": [
      "[I 2019-11-01 16:17:42,658] Finished trial#50 resulted in value: 0.4125874125874126. Current best value is 0.3076923076923077 with parameters: {'booster': 'gblinear', 'lambda': 0.00015485220426779127, 'alpha': 0.0007396787639305519}.\n"
     ]
    },
    {
     "name": "stdout",
     "output_type": "stream",
     "text": [
      "[0]\tvalidation-auc:0.89101\n",
      "[1]\tvalidation-auc:0.412972\n",
      "[2]\tvalidation-auc:0.546901\n",
      "[3]\tvalidation-auc:0.849446\n",
      "[4]\tvalidation-auc:0.86053\n",
      "[5]\tvalidation-auc:0.853756\n",
      "[6]\tvalidation-auc:0.869663\n",
      "[7]\tvalidation-auc:0.903325\n",
      "[8]\tvalidation-auc:0.916051\n",
      "[9]\tvalidation-auc:0.94961\n"
     ]
    },
    {
     "name": "stderr",
     "output_type": "stream",
     "text": [
      "[I 2019-11-01 16:17:42,836] Finished trial#51 resulted in value: 0.7762237762237763. Current best value is 0.3076923076923077 with parameters: {'booster': 'gblinear', 'lambda': 0.00015485220426779127, 'alpha': 0.0007396787639305519}.\n"
     ]
    },
    {
     "name": "stdout",
     "output_type": "stream",
     "text": [
      "[0]\tvalidation-auc:0.949603\n"
     ]
    },
    {
     "name": "stderr",
     "output_type": "stream",
     "text": [
      "[I 2019-11-01 16:17:42,875] Setting status of trial#52 as TrialState.PRUNED. Trial was pruned at iteration 1.\n"
     ]
    },
    {
     "name": "stdout",
     "output_type": "stream",
     "text": [
      "[0]\tvalidation-auc:0.952738\n"
     ]
    },
    {
     "name": "stderr",
     "output_type": "stream",
     "text": [
      "[I 2019-11-01 16:17:42,997] Setting status of trial#53 as TrialState.PRUNED. Trial was pruned at iteration 1.\n"
     ]
    },
    {
     "name": "stdout",
     "output_type": "stream",
     "text": [
      "[0]\tvalidation-auc:0.603154\n",
      "[1]\tvalidation-auc:0.815857\n",
      "[2]\tvalidation-auc:0.886189\n",
      "[3]\tvalidation-auc:0.926684\n",
      "[4]\tvalidation-auc:0.942455\n",
      "[5]\tvalidation-auc:0.952899\n",
      "[6]\tvalidation-auc:0.962489\n",
      "[7]\tvalidation-auc:0.964194\n",
      "[8]\tvalidation-auc:0.938193\n",
      "[9]\tvalidation-auc:0.775575\n"
     ]
    },
    {
     "name": "stderr",
     "output_type": "stream",
     "text": [
      "[I 2019-11-01 16:17:43,259] Finished trial#54 resulted in value: 0.6293706293706294. Current best value is 0.3076923076923077 with parameters: {'booster': 'gblinear', 'lambda': 0.00015485220426779127, 'alpha': 0.0007396787639305519}.\n"
     ]
    },
    {
     "name": "stdout",
     "output_type": "stream",
     "text": [
      "[0]\tvalidation-auc:0.633978\n",
      "[1]\tvalidation-auc:0.664946\n",
      "[2]\tvalidation-auc:0.102581\n",
      "[3]\tvalidation-auc:0.473333\n",
      "[4]\tvalidation-auc:0.355699\n",
      "[5]\tvalidation-auc:0.743441\n",
      "[6]\tvalidation-auc:0.807957\n",
      "[7]\tvalidation-auc:0.868602\n",
      "[8]\tvalidation-auc:0.725806\n",
      "[9]\tvalidation-auc:0.52\n"
     ]
    },
    {
     "name": "stderr",
     "output_type": "stream",
     "text": [
      "[I 2019-11-01 16:17:43,443] Finished trial#55 resulted in value: 0.6643356643356644. Current best value is 0.3076923076923077 with parameters: {'booster': 'gblinear', 'lambda': 0.00015485220426779127, 'alpha': 0.0007396787639305519}.\n"
     ]
    },
    {
     "name": "stdout",
     "output_type": "stream",
     "text": [
      "[0]\tvalidation-auc:0.666667\n",
      "[1]\tvalidation-auc:0.792738\n",
      "[2]\tvalidation-auc:0.4949\n",
      "[3]\tvalidation-auc:0.792024\n",
      "[4]\tvalidation-auc:0.71736\n",
      "[5]\tvalidation-auc:0.563545\n",
      "[6]\tvalidation-auc:0.76785\n",
      "[7]\tvalidation-auc:0.636781\n",
      "[8]\tvalidation-auc:0.488474\n",
      "[9]\tvalidation-auc:0.5\n"
     ]
    },
    {
     "name": "stderr",
     "output_type": "stream",
     "text": [
      "[I 2019-11-01 16:17:43,633] Finished trial#56 resulted in value: 0.3986013986013986. Current best value is 0.3076923076923077 with parameters: {'booster': 'gblinear', 'lambda': 0.00015485220426779127, 'alpha': 0.0007396787639305519}.\n"
     ]
    },
    {
     "name": "stdout",
     "output_type": "stream",
     "text": [
      "[0]\tvalidation-auc:0.907439\n",
      "[1]\tvalidation-auc:0.117075\n",
      "[2]\tvalidation-auc:0.2015\n",
      "[3]\tvalidation-auc:0.642857\n",
      "[4]\tvalidation-auc:0.483516\n",
      "[5]\tvalidation-auc:0.5\n",
      "[6]\tvalidation-auc:0.5\n",
      "[7]\tvalidation-auc:0.5\n",
      "[8]\tvalidation-auc:0.5\n",
      "[9]\tvalidation-auc:0.5\n"
     ]
    },
    {
     "name": "stderr",
     "output_type": "stream",
     "text": [
      "[I 2019-11-01 16:17:43,819] Finished trial#57 resulted in value: 0.6363636363636364. Current best value is 0.3076923076923077 with parameters: {'booster': 'gblinear', 'lambda': 0.00015485220426779127, 'alpha': 0.0007396787639305519}.\n"
     ]
    },
    {
     "name": "stdout",
     "output_type": "stream",
     "text": [
      "[0]\tvalidation-auc:0.55984\n",
      "[1]\tvalidation-auc:0.520058\n",
      "[2]\tvalidation-auc:0.346853\n",
      "[3]\tvalidation-auc:0.489583\n",
      "[4]\tvalidation-auc:0.5\n",
      "[5]\tvalidation-auc:0.5\n",
      "[6]\tvalidation-auc:0.5\n",
      "[7]\tvalidation-auc:0.5\n",
      "[8]\tvalidation-auc:0.5\n",
      "[9]\tvalidation-auc:0.5\n"
     ]
    },
    {
     "name": "stderr",
     "output_type": "stream",
     "text": [
      "[I 2019-11-01 16:17:44,005] Finished trial#58 resulted in value: 0.32867132867132864. Current best value is 0.3076923076923077 with parameters: {'booster': 'gblinear', 'lambda': 0.00015485220426779127, 'alpha': 0.0007396787639305519}.\n"
     ]
    },
    {
     "name": "stdout",
     "output_type": "stream",
     "text": [
      "[0]\tvalidation-auc:0.904038\n",
      "[1]\tvalidation-auc:0.276489\n",
      "[2]\tvalidation-auc:0.072771\n",
      "[3]\tvalidation-auc:0.493902\n",
      "[4]\tvalidation-auc:0.5\n",
      "[5]\tvalidation-auc:0.5\n",
      "[6]\tvalidation-auc:0.5\n",
      "[7]\tvalidation-auc:0.5\n",
      "[8]\tvalidation-auc:0.5\n",
      "[9]\tvalidation-auc:0.5\n"
     ]
    },
    {
     "name": "stderr",
     "output_type": "stream",
     "text": [
      "[I 2019-11-01 16:17:44,191] Finished trial#59 resulted in value: 0.5734265734265734. Current best value is 0.3076923076923077 with parameters: {'booster': 'gblinear', 'lambda': 0.00015485220426779127, 'alpha': 0.0007396787639305519}.\n"
     ]
    },
    {
     "name": "stdout",
     "output_type": "stream",
     "text": [
      "[0]\tvalidation-auc:0.961258\n"
     ]
    },
    {
     "name": "stderr",
     "output_type": "stream",
     "text": [
      "[I 2019-11-01 16:17:44,259] Setting status of trial#60 as TrialState.PRUNED. Trial was pruned at iteration 1.\n"
     ]
    },
    {
     "name": "stdout",
     "output_type": "stream",
     "text": [
      "[0]\tvalidation-auc:0.818864\n",
      "[1]\tvalidation-auc:0.590061\n",
      "[2]\tvalidation-auc:0.829716\n",
      "[3]\tvalidation-auc:0.908519\n",
      "[4]\tvalidation-auc:0.883469\n",
      "[5]\tvalidation-auc:0.782657\n",
      "[6]\tvalidation-auc:0.619168\n",
      "[7]\tvalidation-auc:0.878905\n",
      "[8]\tvalidation-auc:0.892495\n",
      "[9]\tvalidation-auc:0.832049\n"
     ]
    },
    {
     "name": "stderr",
     "output_type": "stream",
     "text": [
      "[I 2019-11-01 16:17:44,541] Finished trial#61 resulted in value: 0.8041958041958042. Current best value is 0.3076923076923077 with parameters: {'booster': 'gblinear', 'lambda': 0.00015485220426779127, 'alpha': 0.0007396787639305519}.\n"
     ]
    },
    {
     "name": "stdout",
     "output_type": "stream",
     "text": [
      "[0]\tvalidation-auc:0.929803\n",
      "[1]\tvalidation-auc:0.1172\n",
      "[2]\tvalidation-auc:0.895115\n",
      "[3]\tvalidation-auc:0.952381\n",
      "[4]\tvalidation-auc:0.369048\n",
      "[5]\tvalidation-auc:0.526786\n",
      "[6]\tvalidation-auc:0.695402\n",
      "[7]\tvalidation-auc:0.5\n",
      "[8]\tvalidation-auc:0.5\n",
      "[9]\tvalidation-auc:0.5\n"
     ]
    },
    {
     "name": "stderr",
     "output_type": "stream",
     "text": [
      "[I 2019-11-01 16:17:44,732] Finished trial#62 resulted in value: 0.3916083916083916. Current best value is 0.3076923076923077 with parameters: {'booster': 'gblinear', 'lambda': 0.00015485220426779127, 'alpha': 0.0007396787639305519}.\n"
     ]
    },
    {
     "name": "stdout",
     "output_type": "stream",
     "text": [
      "[0]\tvalidation-auc:0.935209\n"
     ]
    },
    {
     "name": "stderr",
     "output_type": "stream",
     "text": [
      "[I 2019-11-01 16:17:44,775] Setting status of trial#63 as TrialState.PRUNED. Trial was pruned at iteration 1.\n"
     ]
    },
    {
     "name": "stdout",
     "output_type": "stream",
     "text": [
      "[0]\tvalidation-auc:0.434624\n",
      "[1]\tvalidation-auc:0.80043\n",
      "[2]\tvalidation-auc:0.355376\n",
      "[3]\tvalidation-auc:0.416021\n",
      "[4]\tvalidation-auc:0.480215\n",
      "[5]\tvalidation-auc:0.51\n",
      "[6]\tvalidation-auc:0.5\n",
      "[7]\tvalidation-auc:0.5\n",
      "[8]\tvalidation-auc:0.5\n",
      "[9]\tvalidation-auc:0.5\n"
     ]
    },
    {
     "name": "stderr",
     "output_type": "stream",
     "text": [
      "[I 2019-11-01 16:17:45,049] Finished trial#64 resulted in value: 0.6503496503496503. Current best value is 0.3076923076923077 with parameters: {'booster': 'gblinear', 'lambda': 0.00015485220426779127, 'alpha': 0.0007396787639305519}.\n"
     ]
    },
    {
     "name": "stdout",
     "output_type": "stream",
     "text": [
      "[0]\tvalidation-auc:0.963361\n"
     ]
    },
    {
     "name": "stderr",
     "output_type": "stream",
     "text": [
      "[I 2019-11-01 16:17:45,092] Setting status of trial#65 as TrialState.PRUNED. Trial was pruned at iteration 1.\n"
     ]
    },
    {
     "name": "stdout",
     "output_type": "stream",
     "text": [
      "[0]\tvalidation-auc:0.953508\n",
      "[1]\tvalidation-auc:0.538462\n",
      "[2]\tvalidation-auc:0.811074\n",
      "[3]\tvalidation-auc:0.556636\n",
      "[4]\tvalidation-auc:0.828825\n",
      "[5]\tvalidation-auc:0.921598\n",
      "[6]\tvalidation-auc:0.950127\n",
      "[7]\tvalidation-auc:0.979713\n",
      "[8]\tvalidation-auc:0.97612\n",
      "[9]\tvalidation-auc:0.970309\n"
     ]
    },
    {
     "name": "stderr",
     "output_type": "stream",
     "text": [
      "[I 2019-11-01 16:17:45,372] Finished trial#66 resulted in value: 0.8741258741258742. Current best value is 0.3076923076923077 with parameters: {'booster': 'gblinear', 'lambda': 0.00015485220426779127, 'alpha': 0.0007396787639305519}.\n"
     ]
    },
    {
     "name": "stdout",
     "output_type": "stream",
     "text": [
      "[0]\tvalidation-auc:0.939763\n"
     ]
    },
    {
     "name": "stderr",
     "output_type": "stream",
     "text": [
      "[I 2019-11-01 16:17:45,470] Setting status of trial#67 as TrialState.PRUNED. Trial was pruned at iteration 1.\n"
     ]
    },
    {
     "name": "stdout",
     "output_type": "stream",
     "text": [
      "[0]\tvalidation-auc:0.959404\n"
     ]
    },
    {
     "name": "stderr",
     "output_type": "stream",
     "text": [
      "[I 2019-11-01 16:17:45,599] Setting status of trial#68 as TrialState.PRUNED. Trial was pruned at iteration 1.\n"
     ]
    },
    {
     "name": "stdout",
     "output_type": "stream",
     "text": [
      "[0]\tvalidation-auc:0.933417\n"
     ]
    },
    {
     "name": "stderr",
     "output_type": "stream",
     "text": [
      "[I 2019-11-01 16:17:45,727] Setting status of trial#69 as TrialState.PRUNED. Trial was pruned at iteration 1.\n"
     ]
    },
    {
     "name": "stdout",
     "output_type": "stream",
     "text": [
      "[0]\tvalidation-auc:0.926684\n"
     ]
    },
    {
     "name": "stderr",
     "output_type": "stream",
     "text": [
      "[I 2019-11-01 16:17:45,854] Setting status of trial#70 as TrialState.PRUNED. Trial was pruned at iteration 1.\n"
     ]
    },
    {
     "name": "stdout",
     "output_type": "stream",
     "text": [
      "[0]\tvalidation-auc:0.889265\n"
     ]
    },
    {
     "name": "stderr",
     "output_type": "stream",
     "text": [
      "[I 2019-11-01 16:17:45,981] Setting status of trial#71 as TrialState.PRUNED. Trial was pruned at iteration 1.\n"
     ]
    },
    {
     "name": "stdout",
     "output_type": "stream",
     "text": [
      "[0]\tvalidation-auc:0.959763\n",
      "[1]\tvalidation-auc:0.324852\n",
      "[2]\tvalidation-auc:0.455325\n",
      "[3]\tvalidation-auc:0.803452\n",
      "[4]\tvalidation-auc:0.868639\n",
      "[5]\tvalidation-auc:0.698028\n",
      "[6]\tvalidation-auc:0.896252\n",
      "[7]\tvalidation-auc:0.67071\n",
      "[8]\tvalidation-auc:0.639744\n",
      "[9]\tvalidation-auc:0.5\n"
     ]
    },
    {
     "name": "stderr",
     "output_type": "stream",
     "text": [
      "[I 2019-11-01 16:17:46,264] Finished trial#72 resulted in value: 0.5454545454545454. Current best value is 0.3076923076923077 with parameters: {'booster': 'gblinear', 'lambda': 0.00015485220426779127, 'alpha': 0.0007396787639305519}.\n"
     ]
    },
    {
     "name": "stdout",
     "output_type": "stream",
     "text": [
      "[0]\tvalidation-auc:0.807758\n",
      "[1]\tvalidation-auc:0.570332\n",
      "[2]\tvalidation-auc:0.784314\n",
      "[3]\tvalidation-auc:0.274723\n",
      "[4]\tvalidation-auc:0.896952\n",
      "[5]\tvalidation-auc:0.487212\n",
      "[6]\tvalidation-auc:0.780371\n",
      "[7]\tvalidation-auc:0.5065\n",
      "[8]\tvalidation-auc:0.5\n",
      "[9]\tvalidation-auc:0.5\n"
     ]
    },
    {
     "name": "stderr",
     "output_type": "stream",
     "text": [
      "[I 2019-11-01 16:17:46,471] Finished trial#73 resulted in value: 0.6433566433566433. Current best value is 0.3076923076923077 with parameters: {'booster': 'gblinear', 'lambda': 0.00015485220426779127, 'alpha': 0.0007396787639305519}.\n"
     ]
    },
    {
     "name": "stdout",
     "output_type": "stream",
     "text": [
      "[0]\tvalidation-auc:0.961879\n"
     ]
    },
    {
     "name": "stderr",
     "output_type": "stream",
     "text": [
      "[I 2019-11-01 16:17:46,519] Setting status of trial#74 as TrialState.PRUNED. Trial was pruned at iteration 1.\n"
     ]
    },
    {
     "name": "stdout",
     "output_type": "stream",
     "text": [
      "[0]\tvalidation-auc:0.966228\n",
      "[1]\tvalidation-auc:0.319079\n",
      "[2]\tvalidation-auc:0.783114\n",
      "[3]\tvalidation-auc:0.939693\n",
      "[4]\tvalidation-auc:0.867544\n",
      "[5]\tvalidation-auc:0.192325\n",
      "[6]\tvalidation-auc:0.398465\n",
      "[7]\tvalidation-auc:0.792982\n",
      "[8]\tvalidation-auc:0.635636\n",
      "[9]\tvalidation-auc:0.514583\n"
     ]
    },
    {
     "name": "stderr",
     "output_type": "stream",
     "text": [
      "[I 2019-11-01 16:17:46,806] Finished trial#75 resulted in value: 0.34965034965034963. Current best value is 0.3076923076923077 with parameters: {'booster': 'gblinear', 'lambda': 0.00015485220426779127, 'alpha': 0.0007396787639305519}.\n"
     ]
    },
    {
     "name": "stdout",
     "output_type": "stream",
     "text": [
      "[0]\tvalidation-auc:0.706522\n",
      "[1]\tvalidation-auc:0.29497\n",
      "[2]\tvalidation-auc:0.750426\n",
      "[3]\tvalidation-auc:0.756181\n",
      "[4]\tvalidation-auc:0.946185\n",
      "[5]\tvalidation-auc:0.938086\n",
      "[6]\tvalidation-auc:0.957694\n",
      "[7]\tvalidation-auc:0.96526\n",
      "[8]\tvalidation-auc:0.966432\n",
      "[9]\tvalidation-auc:0.973466\n"
     ]
    },
    {
     "name": "stderr",
     "output_type": "stream",
     "text": [
      "[I 2019-11-01 16:17:47,011] Finished trial#76 resulted in value: 0.916083916083916. Current best value is 0.3076923076923077 with parameters: {'booster': 'gblinear', 'lambda': 0.00015485220426779127, 'alpha': 0.0007396787639305519}.\n"
     ]
    },
    {
     "name": "stdout",
     "output_type": "stream",
     "text": [
      "[0]\tvalidation-auc:0.795464\n",
      "[1]\tvalidation-auc:0.477736\n",
      "[2]\tvalidation-auc:0.741989\n",
      "[3]\tvalidation-auc:0.846026\n",
      "[4]\tvalidation-auc:0.880774\n",
      "[5]\tvalidation-auc:0.903454\n",
      "[6]\tvalidation-auc:0.920932\n",
      "[7]\tvalidation-auc:0.932376\n",
      "[8]\tvalidation-auc:0.944861\n",
      "[9]\tvalidation-auc:0.951727\n"
     ]
    },
    {
     "name": "stderr",
     "output_type": "stream",
     "text": [
      "[I 2019-11-01 16:17:47,234] Finished trial#77 resulted in value: 0.8811188811188811. Current best value is 0.3076923076923077 with parameters: {'booster': 'gblinear', 'lambda': 0.00015485220426779127, 'alpha': 0.0007396787639305519}.\n"
     ]
    },
    {
     "name": "stdout",
     "output_type": "stream",
     "text": [
      "[0]\tvalidation-auc:0.968344\n"
     ]
    },
    {
     "name": "stderr",
     "output_type": "stream",
     "text": [
      "[I 2019-11-01 16:17:47,289] Setting status of trial#78 as TrialState.PRUNED. Trial was pruned at iteration 1.\n"
     ]
    },
    {
     "name": "stdout",
     "output_type": "stream",
     "text": [
      "[0]\tvalidation-auc:0.95439\n"
     ]
    },
    {
     "name": "stderr",
     "output_type": "stream",
     "text": [
      "[I 2019-11-01 16:17:47,443] Setting status of trial#79 as TrialState.PRUNED. Trial was pruned at iteration 1.\n"
     ]
    },
    {
     "name": "stdout",
     "output_type": "stream",
     "text": [
      "[0]\tvalidation-auc:0.880448\n"
     ]
    },
    {
     "name": "stderr",
     "output_type": "stream",
     "text": [
      "[I 2019-11-01 16:17:47,656] Setting status of trial#80 as TrialState.PRUNED. Trial was pruned at iteration 1.\n"
     ]
    },
    {
     "name": "stdout",
     "output_type": "stream",
     "text": [
      "[0]\tvalidation-auc:0.945988\n"
     ]
    },
    {
     "name": "stderr",
     "output_type": "stream",
     "text": [
      "[I 2019-11-01 16:17:47,796] Setting status of trial#81 as TrialState.PRUNED. Trial was pruned at iteration 1.\n"
     ]
    },
    {
     "name": "stdout",
     "output_type": "stream",
     "text": [
      "[0]\tvalidation-auc:0.468763\n",
      "[1]\tvalidation-auc:0.645912\n",
      "[2]\tvalidation-auc:0.39434\n",
      "[3]\tvalidation-auc:0.781027\n",
      "[4]\tvalidation-auc:0.5\n",
      "[5]\tvalidation-auc:0.490566\n",
      "[6]\tvalidation-auc:0.5\n",
      "[7]\tvalidation-auc:0.5\n",
      "[8]\tvalidation-auc:0.5\n",
      "[9]\tvalidation-auc:0.5\n"
     ]
    },
    {
     "name": "stderr",
     "output_type": "stream",
     "text": [
      "[I 2019-11-01 16:17:48,110] Finished trial#82 resulted in value: 0.6293706293706294. Current best value is 0.3076923076923077 with parameters: {'booster': 'gblinear', 'lambda': 0.00015485220426779127, 'alpha': 0.0007396787639305519}.\n"
     ]
    },
    {
     "name": "stdout",
     "output_type": "stream",
     "text": [
      "[0]\tvalidation-auc:0.397295\n",
      "[1]\tvalidation-auc:0.387997\n",
      "[2]\tvalidation-auc:0.377219\n",
      "[3]\tvalidation-auc:0.692942\n",
      "[4]\tvalidation-auc:0.480558\n",
      "[5]\tvalidation-auc:0.587806\n",
      "[6]\tvalidation-auc:0.51511\n",
      "[7]\tvalidation-auc:0.5\n",
      "[8]\tvalidation-auc:0.5\n",
      "[9]\tvalidation-auc:0.5\n"
     ]
    },
    {
     "name": "stderr",
     "output_type": "stream",
     "text": [
      "[I 2019-11-01 16:17:48,340] Finished trial#83 resulted in value: 0.36363636363636365. Current best value is 0.3076923076923077 with parameters: {'booster': 'gblinear', 'lambda': 0.00015485220426779127, 'alpha': 0.0007396787639305519}.\n"
     ]
    },
    {
     "name": "stdout",
     "output_type": "stream",
     "text": [
      "[0]\tvalidation-auc:0.860427\n"
     ]
    },
    {
     "name": "stderr",
     "output_type": "stream",
     "text": [
      "[I 2019-11-01 16:17:48,394] Setting status of trial#84 as TrialState.PRUNED. Trial was pruned at iteration 1.\n"
     ]
    },
    {
     "name": "stdout",
     "output_type": "stream",
     "text": [
      "[0]\tvalidation-auc:0.983135\n"
     ]
    },
    {
     "name": "stderr",
     "output_type": "stream",
     "text": [
      "[I 2019-11-01 16:17:48,534] Setting status of trial#85 as TrialState.PRUNED. Trial was pruned at iteration 1.\n"
     ]
    },
    {
     "name": "stdout",
     "output_type": "stream",
     "text": [
      "[0]\tvalidation-auc:0.735837\n",
      "[1]\tvalidation-auc:0.392241\n",
      "[2]\tvalidation-auc:0.291359\n",
      "[3]\tvalidation-auc:0.574713\n",
      "[4]\tvalidation-auc:0.511494\n",
      "[5]\tvalidation-auc:0.5\n",
      "[6]\tvalidation-auc:0.5\n",
      "[7]\tvalidation-auc:0.5\n",
      "[8]\tvalidation-auc:0.5\n",
      "[9]\tvalidation-auc:0.5\n"
     ]
    },
    {
     "name": "stderr",
     "output_type": "stream",
     "text": [
      "[I 2019-11-01 16:17:48,853] Finished trial#86 resulted in value: 0.6083916083916084. Current best value is 0.3076923076923077 with parameters: {'booster': 'gblinear', 'lambda': 0.00015485220426779127, 'alpha': 0.0007396787639305519}.\n"
     ]
    },
    {
     "name": "stdout",
     "output_type": "stream",
     "text": [
      "[0]\tvalidation-auc:0.986157\n"
     ]
    },
    {
     "name": "stderr",
     "output_type": "stream",
     "text": [
      "[I 2019-11-01 16:17:48,948] Setting status of trial#87 as TrialState.PRUNED. Trial was pruned at iteration 1.\n"
     ]
    },
    {
     "name": "stdout",
     "output_type": "stream",
     "text": [
      "[0]\tvalidation-auc:0.95261\n"
     ]
    },
    {
     "name": "stderr",
     "output_type": "stream",
     "text": [
      "[I 2019-11-01 16:17:49,091] Setting status of trial#88 as TrialState.PRUNED. Trial was pruned at iteration 1.\n"
     ]
    },
    {
     "name": "stdout",
     "output_type": "stream",
     "text": [
      "[0]\tvalidation-auc:0.92944\n"
     ]
    },
    {
     "name": "stderr",
     "output_type": "stream",
     "text": [
      "[I 2019-11-01 16:17:49,236] Setting status of trial#89 as TrialState.PRUNED. Trial was pruned at iteration 1.\n"
     ]
    },
    {
     "name": "stdout",
     "output_type": "stream",
     "text": [
      "[0]\tvalidation-auc:0.941268\n"
     ]
    },
    {
     "name": "stderr",
     "output_type": "stream",
     "text": [
      "[I 2019-11-01 16:17:49,388] Setting status of trial#90 as TrialState.PRUNED. Trial was pruned at iteration 1.\n"
     ]
    },
    {
     "name": "stdout",
     "output_type": "stream",
     "text": [
      "[0]\tvalidation-auc:0.953692\n"
     ]
    },
    {
     "name": "stderr",
     "output_type": "stream",
     "text": [
      "[I 2019-11-01 16:17:49,538] Setting status of trial#91 as TrialState.PRUNED. Trial was pruned at iteration 1.\n"
     ]
    },
    {
     "name": "stdout",
     "output_type": "stream",
     "text": [
      "[0]\tvalidation-auc:0.807442\n",
      "[1]\tvalidation-auc:0.164767\n",
      "[2]\tvalidation-auc:0.861744\n",
      "[3]\tvalidation-auc:0.534884\n",
      "[4]\tvalidation-auc:0.5\n",
      "[5]\tvalidation-auc:0.5\n",
      "[6]\tvalidation-auc:0.5\n",
      "[7]\tvalidation-auc:0.5\n",
      "[8]\tvalidation-auc:0.5\n",
      "[9]\tvalidation-auc:0.5\n"
     ]
    },
    {
     "name": "stderr",
     "output_type": "stream",
     "text": [
      "[I 2019-11-01 16:17:49,868] Finished trial#92 resulted in value: 0.3006993006993007. Current best value is 0.3006993006993007 with parameters: {'booster': 'gblinear', 'lambda': 1.730669410884869e-07, 'alpha': 1.1351103845586497e-05}.\n"
     ]
    },
    {
     "name": "stdout",
     "output_type": "stream",
     "text": [
      "[0]\tvalidation-auc:0.882439\n",
      "[1]\tvalidation-auc:0.322722\n",
      "[2]\tvalidation-auc:0.809197\n",
      "[3]\tvalidation-auc:0.865585\n",
      "[4]\tvalidation-auc:0.877445\n",
      "[5]\tvalidation-auc:0.883479\n",
      "[6]\tvalidation-auc:0.911777\n",
      "[7]\tvalidation-auc:0.926966\n",
      "[8]\tvalidation-auc:0.938826\n",
      "[9]\tvalidation-auc:0.933625\n"
     ]
    },
    {
     "name": "stderr",
     "output_type": "stream",
     "text": [
      "[I 2019-11-01 16:17:50,116] Finished trial#93 resulted in value: 0.8741258741258742. Current best value is 0.3006993006993007 with parameters: {'booster': 'gblinear', 'lambda': 1.730669410884869e-07, 'alpha': 1.1351103845586497e-05}.\n"
     ]
    },
    {
     "name": "stdout",
     "output_type": "stream",
     "text": [
      "[0]\tvalidation-auc:0.879785\n"
     ]
    },
    {
     "name": "stderr",
     "output_type": "stream",
     "text": [
      "[I 2019-11-01 16:17:50,174] Setting status of trial#94 as TrialState.PRUNED. Trial was pruned at iteration 1.\n"
     ]
    },
    {
     "name": "stdout",
     "output_type": "stream",
     "text": [
      "[0]\tvalidation-auc:0.634951\n"
     ]
    },
    {
     "name": "stderr",
     "output_type": "stream",
     "text": [
      "[I 2019-11-01 16:17:50,319] Setting status of trial#95 as TrialState.PRUNED. Trial was pruned at iteration 1.\n"
     ]
    },
    {
     "name": "stdout",
     "output_type": "stream",
     "text": [
      "[0]\tvalidation-auc:0.881885\n"
     ]
    },
    {
     "name": "stderr",
     "output_type": "stream",
     "text": [
      "[I 2019-11-01 16:17:50,464] Setting status of trial#96 as TrialState.PRUNED. Trial was pruned at iteration 1.\n"
     ]
    },
    {
     "name": "stdout",
     "output_type": "stream",
     "text": [
      "[0]\tvalidation-auc:0.967503\n"
     ]
    },
    {
     "name": "stderr",
     "output_type": "stream",
     "text": [
      "[I 2019-11-01 16:17:50,614] Setting status of trial#97 as TrialState.PRUNED. Trial was pruned at iteration 1.\n"
     ]
    },
    {
     "name": "stdout",
     "output_type": "stream",
     "text": [
      "[0]\tvalidation-auc:0.900726\n"
     ]
    },
    {
     "name": "stderr",
     "output_type": "stream",
     "text": [
      "[I 2019-11-01 16:17:50,770] Setting status of trial#98 as TrialState.PRUNED. Trial was pruned at iteration 1.\n"
     ]
    },
    {
     "name": "stdout",
     "output_type": "stream",
     "text": [
      "[0]\tvalidation-auc:0.932341\n"
     ]
    },
    {
     "name": "stderr",
     "output_type": "stream",
     "text": [
      "[I 2019-11-01 16:17:50,921] Setting status of trial#99 as TrialState.PRUNED. Trial was pruned at iteration 1.\n"
     ]
    }
   ],
   "source": [
    "study.optimize(objective, n_trials=100)"
   ]
  },
  {
   "cell_type": "code",
   "execution_count": 21,
   "metadata": {},
   "outputs": [
    {
     "data": {
      "text/plain": [
       "{'booster': 'gblinear',\n",
       " 'lambda': 1.730669410884869e-07,\n",
       " 'alpha': 1.1351103845586497e-05}"
      ]
     },
     "execution_count": 21,
     "metadata": {},
     "output_type": "execute_result"
    }
   ],
   "source": [
    "study.best_params"
   ]
  },
  {
   "cell_type": "code",
   "execution_count": null,
   "metadata": {},
   "outputs": [],
   "source": []
  },
  {
   "cell_type": "code",
   "execution_count": null,
   "metadata": {},
   "outputs": [],
   "source": []
  },
  {
   "cell_type": "code",
   "execution_count": null,
   "metadata": {},
   "outputs": [],
   "source": []
  },
  {
   "cell_type": "code",
   "execution_count": null,
   "metadata": {},
   "outputs": [],
   "source": []
  },
  {
   "cell_type": "code",
   "execution_count": null,
   "metadata": {},
   "outputs": [],
   "source": []
  },
  {
   "cell_type": "code",
   "execution_count": null,
   "metadata": {},
   "outputs": [],
   "source": []
  },
  {
   "cell_type": "code",
   "execution_count": null,
   "metadata": {},
   "outputs": [],
   "source": []
  }
 ],
 "metadata": {
  "kernelspec": {
   "display_name": "Python 3",
   "language": "python",
   "name": "python3"
  },
  "language_info": {
   "codemirror_mode": {
    "name": "ipython",
    "version": 3
   },
   "file_extension": ".py",
   "mimetype": "text/x-python",
   "name": "python",
   "nbconvert_exporter": "python",
   "pygments_lexer": "ipython3",
   "version": "3.7.4"
  }
 },
 "nbformat": 4,
 "nbformat_minor": 2
}
