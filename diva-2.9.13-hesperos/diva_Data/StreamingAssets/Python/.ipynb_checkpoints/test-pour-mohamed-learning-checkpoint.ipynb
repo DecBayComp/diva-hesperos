{
 "cells": [
  {
   "cell_type": "code",
   "execution_count": 181,
   "metadata": {},
   "outputs": [
    {
     "name": "stdout",
     "output_type": "stream",
     "text": [
      "The autoreload extension is already loaded. To reload it, use:\n",
      "  %reload_ext autoreload\n"
     ]
    }
   ],
   "source": [
    "# test \n",
    "\n",
    "%load_ext autoreload\n",
    "%autoreload 2\n",
    "\n",
    "import warnings\n",
    "warnings.filterwarnings('ignore')\n",
    "\n"
   ]
  },
  {
   "cell_type": "code",
   "execution_count": 184,
   "metadata": {},
   "outputs": [],
   "source": [
    "import pandas as pd\n",
    "import numpy  as np\n",
    "import matplotlib.pyplot as plt\n",
    "import os\n",
    "import sys\n",
    "\n",
    "#print(sys.path)\n",
    "\n",
    "#cwd = os.getcwd()\n",
    "#print(cwd)\n",
    "\n",
    "from src.utilities import *\n",
    "from src.quick_learning import *\n",
    "from src.plot_confusion_matrix import *\n",
    "from src.dummy_learner import *\n",
    "from src.classifier_utilities import *\n",
    "#from src.train import *\n",
    "\n",
    "\n",
    "#from Users/jbmasson/Desktop/projets-gitlab/diva-python/utilities/utilities import *\n",
    "#from src.classifier_utilities import *\n",
    "#from src.quick_learning import *\n",
    "#from src.plot_confusion_matrix import *\n",
    "\n"
   ]
  },
  {
   "cell_type": "code",
   "execution_count": 172,
   "metadata": {},
   "outputs": [],
   "source": [
    "path_to_data = \"/Users/jbmasson/Desktop/projets-gitlab/diva-python/raw-data-tests/second/\"\n",
    "name_test    = \"image-features.csv\"\n",
    "name_train   = \"tag-features.csv\"  \n",
    "name_tag     = \"tag-features.csv\"\n",
    "#features = pd.read_csv(path_to_data+name_features, header=None)\n",
    "features_test   = pd.read_csv(path_to_data+name_test, header=None)\n",
    "data_train      = pd.read_csv(path_to_data+name_tag, header=None)\n",
    "\n",
    "#features_test   = pd.read_csv(path_to_data+name_test)\n",
    "#data_train      = pd.read_csv(path_to_data+name_tag)\n",
    "\n",
    "#data = pd.read_csv(\"features.csv\", header=None)\n"
   ]
  },
  {
   "cell_type": "code",
   "execution_count": 143,
   "metadata": {},
   "outputs": [
    {
     "data": {
      "text/html": [
       "<div>\n",
       "<style scoped>\n",
       "    .dataframe tbody tr th:only-of-type {\n",
       "        vertical-align: middle;\n",
       "    }\n",
       "\n",
       "    .dataframe tbody tr th {\n",
       "        vertical-align: top;\n",
       "    }\n",
       "\n",
       "    .dataframe thead th {\n",
       "        text-align: right;\n",
       "    }\n",
       "</style>\n",
       "<table border=\"1\" class=\"dataframe\">\n",
       "  <thead>\n",
       "    <tr style=\"text-align: right;\">\n",
       "      <th></th>\n",
       "      <th>0</th>\n",
       "      <th>1</th>\n",
       "      <th>2</th>\n",
       "      <th>3</th>\n",
       "      <th>4</th>\n",
       "      <th>5</th>\n",
       "      <th>6</th>\n",
       "      <th>7</th>\n",
       "      <th>8</th>\n",
       "      <th>9</th>\n",
       "      <th>...</th>\n",
       "      <th>16</th>\n",
       "      <th>17</th>\n",
       "      <th>18</th>\n",
       "      <th>19</th>\n",
       "      <th>20</th>\n",
       "      <th>21</th>\n",
       "      <th>22</th>\n",
       "      <th>23</th>\n",
       "      <th>24</th>\n",
       "      <th>25</th>\n",
       "    </tr>\n",
       "  </thead>\n",
       "  <tbody>\n",
       "    <tr>\n",
       "      <td>0</td>\n",
       "      <td>0</td>\n",
       "      <td>112</td>\n",
       "      <td>29</td>\n",
       "      <td>2</td>\n",
       "      <td>2</td>\n",
       "      <td>126</td>\n",
       "      <td>198</td>\n",
       "      <td>207</td>\n",
       "      <td>90</td>\n",
       "      <td>69</td>\n",
       "      <td>...</td>\n",
       "      <td>94</td>\n",
       "      <td>25</td>\n",
       "      <td>55</td>\n",
       "      <td>91</td>\n",
       "      <td>202</td>\n",
       "      <td>218</td>\n",
       "      <td>164</td>\n",
       "      <td>84</td>\n",
       "      <td>76</td>\n",
       "      <td>94</td>\n",
       "    </tr>\n",
       "    <tr>\n",
       "      <td>1</td>\n",
       "      <td>0</td>\n",
       "      <td>107</td>\n",
       "      <td>84</td>\n",
       "      <td>9</td>\n",
       "      <td>2</td>\n",
       "      <td>126</td>\n",
       "      <td>184</td>\n",
       "      <td>207</td>\n",
       "      <td>110</td>\n",
       "      <td>94</td>\n",
       "      <td>...</td>\n",
       "      <td>113</td>\n",
       "      <td>6</td>\n",
       "      <td>45</td>\n",
       "      <td>74</td>\n",
       "      <td>117</td>\n",
       "      <td>127</td>\n",
       "      <td>135</td>\n",
       "      <td>106</td>\n",
       "      <td>100</td>\n",
       "      <td>113</td>\n",
       "    </tr>\n",
       "    <tr>\n",
       "      <td>2</td>\n",
       "      <td>0</td>\n",
       "      <td>91</td>\n",
       "      <td>84</td>\n",
       "      <td>3</td>\n",
       "      <td>2</td>\n",
       "      <td>122</td>\n",
       "      <td>207</td>\n",
       "      <td>207</td>\n",
       "      <td>103</td>\n",
       "      <td>107</td>\n",
       "      <td>...</td>\n",
       "      <td>121</td>\n",
       "      <td>7</td>\n",
       "      <td>51</td>\n",
       "      <td>55</td>\n",
       "      <td>86</td>\n",
       "      <td>74</td>\n",
       "      <td>119</td>\n",
       "      <td>107</td>\n",
       "      <td>107</td>\n",
       "      <td>121</td>\n",
       "    </tr>\n",
       "    <tr>\n",
       "      <td>3</td>\n",
       "      <td>0</td>\n",
       "      <td>122</td>\n",
       "      <td>91</td>\n",
       "      <td>3</td>\n",
       "      <td>2</td>\n",
       "      <td>139</td>\n",
       "      <td>183</td>\n",
       "      <td>207</td>\n",
       "      <td>112</td>\n",
       "      <td>83</td>\n",
       "      <td>...</td>\n",
       "      <td>106</td>\n",
       "      <td>4</td>\n",
       "      <td>46</td>\n",
       "      <td>85</td>\n",
       "      <td>160</td>\n",
       "      <td>179</td>\n",
       "      <td>155</td>\n",
       "      <td>104</td>\n",
       "      <td>92</td>\n",
       "      <td>106</td>\n",
       "    </tr>\n",
       "    <tr>\n",
       "      <td>4</td>\n",
       "      <td>0</td>\n",
       "      <td>111</td>\n",
       "      <td>50</td>\n",
       "      <td>3</td>\n",
       "      <td>2</td>\n",
       "      <td>122</td>\n",
       "      <td>139</td>\n",
       "      <td>207</td>\n",
       "      <td>95</td>\n",
       "      <td>62</td>\n",
       "      <td>...</td>\n",
       "      <td>97</td>\n",
       "      <td>23</td>\n",
       "      <td>45</td>\n",
       "      <td>79</td>\n",
       "      <td>183</td>\n",
       "      <td>199</td>\n",
       "      <td>161</td>\n",
       "      <td>88</td>\n",
       "      <td>74</td>\n",
       "      <td>97</td>\n",
       "    </tr>\n",
       "    <tr>\n",
       "      <td>5</td>\n",
       "      <td>0</td>\n",
       "      <td>139</td>\n",
       "      <td>70</td>\n",
       "      <td>3</td>\n",
       "      <td>2</td>\n",
       "      <td>139</td>\n",
       "      <td>188</td>\n",
       "      <td>207</td>\n",
       "      <td>102</td>\n",
       "      <td>68</td>\n",
       "      <td>...</td>\n",
       "      <td>95</td>\n",
       "      <td>18</td>\n",
       "      <td>52</td>\n",
       "      <td>91</td>\n",
       "      <td>254</td>\n",
       "      <td>255</td>\n",
       "      <td>186</td>\n",
       "      <td>93</td>\n",
       "      <td>80</td>\n",
       "      <td>95</td>\n",
       "    </tr>\n",
       "    <tr>\n",
       "      <td>6</td>\n",
       "      <td>0</td>\n",
       "      <td>108</td>\n",
       "      <td>86</td>\n",
       "      <td>13</td>\n",
       "      <td>2</td>\n",
       "      <td>122</td>\n",
       "      <td>174</td>\n",
       "      <td>207</td>\n",
       "      <td>106</td>\n",
       "      <td>94</td>\n",
       "      <td>...</td>\n",
       "      <td>110</td>\n",
       "      <td>3</td>\n",
       "      <td>39</td>\n",
       "      <td>76</td>\n",
       "      <td>134</td>\n",
       "      <td>140</td>\n",
       "      <td>138</td>\n",
       "      <td>103</td>\n",
       "      <td>99</td>\n",
       "      <td>110</td>\n",
       "    </tr>\n",
       "    <tr>\n",
       "      <td>7</td>\n",
       "      <td>0</td>\n",
       "      <td>70</td>\n",
       "      <td>9</td>\n",
       "      <td>2</td>\n",
       "      <td>2</td>\n",
       "      <td>139</td>\n",
       "      <td>207</td>\n",
       "      <td>207</td>\n",
       "      <td>67</td>\n",
       "      <td>53</td>\n",
       "      <td>...</td>\n",
       "      <td>78</td>\n",
       "      <td>31</td>\n",
       "      <td>55</td>\n",
       "      <td>88</td>\n",
       "      <td>137</td>\n",
       "      <td>154</td>\n",
       "      <td>139</td>\n",
       "      <td>60</td>\n",
       "      <td>57</td>\n",
       "      <td>78</td>\n",
       "    </tr>\n",
       "    <tr>\n",
       "      <td>8</td>\n",
       "      <td>0</td>\n",
       "      <td>111</td>\n",
       "      <td>85</td>\n",
       "      <td>2</td>\n",
       "      <td>2</td>\n",
       "      <td>144</td>\n",
       "      <td>207</td>\n",
       "      <td>207</td>\n",
       "      <td>106</td>\n",
       "      <td>90</td>\n",
       "      <td>...</td>\n",
       "      <td>110</td>\n",
       "      <td>15</td>\n",
       "      <td>63</td>\n",
       "      <td>73</td>\n",
       "      <td>143</td>\n",
       "      <td>146</td>\n",
       "      <td>145</td>\n",
       "      <td>105</td>\n",
       "      <td>96</td>\n",
       "      <td>110</td>\n",
       "    </tr>\n",
       "    <tr>\n",
       "      <td>9</td>\n",
       "      <td>0</td>\n",
       "      <td>90</td>\n",
       "      <td>37</td>\n",
       "      <td>3</td>\n",
       "      <td>2</td>\n",
       "      <td>139</td>\n",
       "      <td>144</td>\n",
       "      <td>207</td>\n",
       "      <td>78</td>\n",
       "      <td>51</td>\n",
       "      <td>...</td>\n",
       "      <td>85</td>\n",
       "      <td>27</td>\n",
       "      <td>46</td>\n",
       "      <td>75</td>\n",
       "      <td>167</td>\n",
       "      <td>187</td>\n",
       "      <td>153</td>\n",
       "      <td>71</td>\n",
       "      <td>61</td>\n",
       "      <td>85</td>\n",
       "    </tr>\n",
       "  </tbody>\n",
       "</table>\n",
       "<p>10 rows × 26 columns</p>\n",
       "</div>"
      ],
      "text/plain": [
       "   0    1   2   3   4    5    6    7    8    9   ...   16  17  18  19   20  \\\n",
       "0   0  112  29   2   2  126  198  207   90   69  ...   94  25  55  91  202   \n",
       "1   0  107  84   9   2  126  184  207  110   94  ...  113   6  45  74  117   \n",
       "2   0   91  84   3   2  122  207  207  103  107  ...  121   7  51  55   86   \n",
       "3   0  122  91   3   2  139  183  207  112   83  ...  106   4  46  85  160   \n",
       "4   0  111  50   3   2  122  139  207   95   62  ...   97  23  45  79  183   \n",
       "5   0  139  70   3   2  139  188  207  102   68  ...   95  18  52  91  254   \n",
       "6   0  108  86  13   2  122  174  207  106   94  ...  110   3  39  76  134   \n",
       "7   0   70   9   2   2  139  207  207   67   53  ...   78  31  55  88  137   \n",
       "8   0  111  85   2   2  144  207  207  106   90  ...  110  15  63  73  143   \n",
       "9   0   90  37   3   2  139  144  207   78   51  ...   85  27  46  75  167   \n",
       "\n",
       "    21   22   23   24   25  \n",
       "0  218  164   84   76   94  \n",
       "1  127  135  106  100  113  \n",
       "2   74  119  107  107  121  \n",
       "3  179  155  104   92  106  \n",
       "4  199  161   88   74   97  \n",
       "5  255  186   93   80   95  \n",
       "6  140  138  103   99  110  \n",
       "7  154  139   60   57   78  \n",
       "8  146  145  105   96  110  \n",
       "9  187  153   71   61   85  \n",
       "\n",
       "[10 rows x 26 columns]"
      ]
     },
     "execution_count": 143,
     "metadata": {},
     "output_type": "execute_result"
    }
   ],
   "source": [
    "data_train.head(10)"
   ]
  },
  {
   "cell_type": "code",
   "execution_count": 144,
   "metadata": {},
   "outputs": [],
   "source": [
    "liste = data_train.columns.tolist()"
   ]
  },
  {
   "cell_type": "code",
   "execution_count": null,
   "metadata": {},
   "outputs": [],
   "source": []
  },
  {
   "cell_type": "code",
   "execution_count": 145,
   "metadata": {},
   "outputs": [
    {
     "data": {
      "text/plain": [
       "[0,\n",
       " 1,\n",
       " 2,\n",
       " 3,\n",
       " 4,\n",
       " 5,\n",
       " 6,\n",
       " 7,\n",
       " 8,\n",
       " 9,\n",
       " 10,\n",
       " 11,\n",
       " 12,\n",
       " 13,\n",
       " 14,\n",
       " 15,\n",
       " 16,\n",
       " 17,\n",
       " 18,\n",
       " 19,\n",
       " 20,\n",
       " 21,\n",
       " 22,\n",
       " 23,\n",
       " 24,\n",
       " 25]"
      ]
     },
     "execution_count": 145,
     "metadata": {},
     "output_type": "execute_result"
    }
   ],
   "source": [
    "liste"
   ]
  },
  {
   "cell_type": "code",
   "execution_count": 131,
   "metadata": {},
   "outputs": [
    {
     "data": {
      "text/plain": [
       "0        0\n",
       "1        0\n",
       "2        0\n",
       "3        0\n",
       "4        0\n",
       "        ..\n",
       "14738    1\n",
       "14739    1\n",
       "14740    1\n",
       "14741    1\n",
       "14742    1\n",
       "Name: 0, Length: 14743, dtype: int64"
      ]
     },
     "execution_count": 131,
     "metadata": {},
     "output_type": "execute_result"
    }
   ],
   "source": [
    "data_train.iloc[:,0]"
   ]
  },
  {
   "cell_type": "code",
   "execution_count": 132,
   "metadata": {},
   "outputs": [
    {
     "data": {
      "text/html": [
       "<div>\n",
       "<style scoped>\n",
       "    .dataframe tbody tr th:only-of-type {\n",
       "        vertical-align: middle;\n",
       "    }\n",
       "\n",
       "    .dataframe tbody tr th {\n",
       "        vertical-align: top;\n",
       "    }\n",
       "\n",
       "    .dataframe thead th {\n",
       "        text-align: right;\n",
       "    }\n",
       "</style>\n",
       "<table border=\"1\" class=\"dataframe\">\n",
       "  <thead>\n",
       "    <tr style=\"text-align: right;\">\n",
       "      <th></th>\n",
       "      <th>0</th>\n",
       "      <th>1</th>\n",
       "      <th>2</th>\n",
       "      <th>3</th>\n",
       "      <th>4</th>\n",
       "      <th>5</th>\n",
       "      <th>6</th>\n",
       "      <th>7</th>\n",
       "      <th>8</th>\n",
       "      <th>9</th>\n",
       "      <th>...</th>\n",
       "      <th>16</th>\n",
       "      <th>17</th>\n",
       "      <th>18</th>\n",
       "      <th>19</th>\n",
       "      <th>20</th>\n",
       "      <th>21</th>\n",
       "      <th>22</th>\n",
       "      <th>23</th>\n",
       "      <th>24</th>\n",
       "      <th>25</th>\n",
       "    </tr>\n",
       "  </thead>\n",
       "  <tbody>\n",
       "    <tr>\n",
       "      <td>0</td>\n",
       "      <td>0</td>\n",
       "      <td>112</td>\n",
       "      <td>29</td>\n",
       "      <td>2</td>\n",
       "      <td>2</td>\n",
       "      <td>126</td>\n",
       "      <td>198</td>\n",
       "      <td>207</td>\n",
       "      <td>90</td>\n",
       "      <td>69</td>\n",
       "      <td>...</td>\n",
       "      <td>94</td>\n",
       "      <td>25</td>\n",
       "      <td>55</td>\n",
       "      <td>91</td>\n",
       "      <td>202</td>\n",
       "      <td>218</td>\n",
       "      <td>164</td>\n",
       "      <td>84</td>\n",
       "      <td>76</td>\n",
       "      <td>94</td>\n",
       "    </tr>\n",
       "    <tr>\n",
       "      <td>1</td>\n",
       "      <td>0</td>\n",
       "      <td>107</td>\n",
       "      <td>84</td>\n",
       "      <td>9</td>\n",
       "      <td>2</td>\n",
       "      <td>126</td>\n",
       "      <td>184</td>\n",
       "      <td>207</td>\n",
       "      <td>110</td>\n",
       "      <td>94</td>\n",
       "      <td>...</td>\n",
       "      <td>113</td>\n",
       "      <td>6</td>\n",
       "      <td>45</td>\n",
       "      <td>74</td>\n",
       "      <td>117</td>\n",
       "      <td>127</td>\n",
       "      <td>135</td>\n",
       "      <td>106</td>\n",
       "      <td>100</td>\n",
       "      <td>113</td>\n",
       "    </tr>\n",
       "    <tr>\n",
       "      <td>2</td>\n",
       "      <td>0</td>\n",
       "      <td>91</td>\n",
       "      <td>84</td>\n",
       "      <td>3</td>\n",
       "      <td>2</td>\n",
       "      <td>122</td>\n",
       "      <td>207</td>\n",
       "      <td>207</td>\n",
       "      <td>103</td>\n",
       "      <td>107</td>\n",
       "      <td>...</td>\n",
       "      <td>121</td>\n",
       "      <td>7</td>\n",
       "      <td>51</td>\n",
       "      <td>55</td>\n",
       "      <td>86</td>\n",
       "      <td>74</td>\n",
       "      <td>119</td>\n",
       "      <td>107</td>\n",
       "      <td>107</td>\n",
       "      <td>121</td>\n",
       "    </tr>\n",
       "    <tr>\n",
       "      <td>3</td>\n",
       "      <td>0</td>\n",
       "      <td>122</td>\n",
       "      <td>91</td>\n",
       "      <td>3</td>\n",
       "      <td>2</td>\n",
       "      <td>139</td>\n",
       "      <td>183</td>\n",
       "      <td>207</td>\n",
       "      <td>112</td>\n",
       "      <td>83</td>\n",
       "      <td>...</td>\n",
       "      <td>106</td>\n",
       "      <td>4</td>\n",
       "      <td>46</td>\n",
       "      <td>85</td>\n",
       "      <td>160</td>\n",
       "      <td>179</td>\n",
       "      <td>155</td>\n",
       "      <td>104</td>\n",
       "      <td>92</td>\n",
       "      <td>106</td>\n",
       "    </tr>\n",
       "    <tr>\n",
       "      <td>4</td>\n",
       "      <td>0</td>\n",
       "      <td>111</td>\n",
       "      <td>50</td>\n",
       "      <td>3</td>\n",
       "      <td>2</td>\n",
       "      <td>122</td>\n",
       "      <td>139</td>\n",
       "      <td>207</td>\n",
       "      <td>95</td>\n",
       "      <td>62</td>\n",
       "      <td>...</td>\n",
       "      <td>97</td>\n",
       "      <td>23</td>\n",
       "      <td>45</td>\n",
       "      <td>79</td>\n",
       "      <td>183</td>\n",
       "      <td>199</td>\n",
       "      <td>161</td>\n",
       "      <td>88</td>\n",
       "      <td>74</td>\n",
       "      <td>97</td>\n",
       "    </tr>\n",
       "  </tbody>\n",
       "</table>\n",
       "<p>5 rows × 26 columns</p>\n",
       "</div>"
      ],
      "text/plain": [
       "   0    1   2   3   4    5    6    7    8    9   ...   16  17  18  19   20  \\\n",
       "0   0  112  29   2   2  126  198  207   90   69  ...   94  25  55  91  202   \n",
       "1   0  107  84   9   2  126  184  207  110   94  ...  113   6  45  74  117   \n",
       "2   0   91  84   3   2  122  207  207  103  107  ...  121   7  51  55   86   \n",
       "3   0  122  91   3   2  139  183  207  112   83  ...  106   4  46  85  160   \n",
       "4   0  111  50   3   2  122  139  207   95   62  ...   97  23  45  79  183   \n",
       "\n",
       "    21   22   23   24   25  \n",
       "0  218  164   84   76   94  \n",
       "1  127  135  106  100  113  \n",
       "2   74  119  107  107  121  \n",
       "3  179  155  104   92  106  \n",
       "4  199  161   88   74   97  \n",
       "\n",
       "[5 rows x 26 columns]"
      ]
     },
     "execution_count": 132,
     "metadata": {},
     "output_type": "execute_result"
    }
   ],
   "source": [
    "data_train.head()"
   ]
  },
  {
   "cell_type": "code",
   "execution_count": null,
   "metadata": {},
   "outputs": [],
   "source": []
  },
  {
   "cell_type": "code",
   "execution_count": null,
   "metadata": {},
   "outputs": [],
   "source": []
  },
  {
   "cell_type": "code",
   "execution_count": null,
   "metadata": {},
   "outputs": [],
   "source": []
  },
  {
   "cell_type": "code",
   "execution_count": null,
   "metadata": {},
   "outputs": [],
   "source": []
  },
  {
   "cell_type": "code",
   "execution_count": null,
   "metadata": {},
   "outputs": [],
   "source": []
  },
  {
   "cell_type": "code",
   "execution_count": null,
   "metadata": {},
   "outputs": [],
   "source": []
  },
  {
   "cell_type": "code",
   "execution_count": 137,
   "metadata": {},
   "outputs": [
    {
     "name": "stdout",
     "output_type": "stream",
     "text": [
      "0\n",
      "here\n"
     ]
    }
   ],
   "source": []
  },
  {
   "cell_type": "code",
   "execution_count": 102,
   "metadata": {},
   "outputs": [],
   "source": []
  },
  {
   "cell_type": "code",
   "execution_count": null,
   "metadata": {},
   "outputs": [],
   "source": []
  },
  {
   "cell_type": "code",
   "execution_count": null,
   "metadata": {},
   "outputs": [],
   "source": []
  },
  {
   "cell_type": "code",
   "execution_count": null,
   "metadata": {},
   "outputs": [],
   "source": []
  },
  {
   "cell_type": "code",
   "execution_count": null,
   "metadata": {},
   "outputs": [],
   "source": []
  },
  {
   "cell_type": "code",
   "execution_count": null,
   "metadata": {},
   "outputs": [],
   "source": []
  },
  {
   "cell_type": "code",
   "execution_count": 158,
   "metadata": {},
   "outputs": [],
   "source": [
    "state, features = prepare_data_equalize_state(path_to_tagged_data = path_to_data, name_train   = name_train)"
   ]
  },
  {
   "cell_type": "code",
   "execution_count": 166,
   "metadata": {},
   "outputs": [],
   "source": [
    "classifier_, score     = create_the_random_forest_classifier(state, features)"
   ]
  },
  {
   "cell_type": "code",
   "execution_count": 167,
   "metadata": {},
   "outputs": [],
   "source": [
    "#confusion = generate_confusion_matrix(state_out,state_raw)\n",
    "#generate_confusion_matrix_and_plot(state_true,state_predict)"
   ]
  },
  {
   "cell_type": "code",
   "execution_count": 169,
   "metadata": {},
   "outputs": [
    {
     "data": {
      "text/plain": [
       "numpy.float64"
      ]
     },
     "execution_count": 169,
     "metadata": {},
     "output_type": "execute_result"
    }
   ],
   "source": [
    "type(score)"
   ]
  },
  {
   "cell_type": "code",
   "execution_count": null,
   "metadata": {},
   "outputs": [],
   "source": []
  },
  {
   "cell_type": "code",
   "execution_count": 161,
   "metadata": {},
   "outputs": [
    {
     "data": {
      "text/html": [
       "<div>\n",
       "<style scoped>\n",
       "    .dataframe tbody tr th:only-of-type {\n",
       "        vertical-align: middle;\n",
       "    }\n",
       "\n",
       "    .dataframe tbody tr th {\n",
       "        vertical-align: top;\n",
       "    }\n",
       "\n",
       "    .dataframe thead th {\n",
       "        text-align: right;\n",
       "    }\n",
       "</style>\n",
       "<table border=\"1\" class=\"dataframe\">\n",
       "  <thead>\n",
       "    <tr style=\"text-align: right;\">\n",
       "      <th></th>\n",
       "      <th>0</th>\n",
       "      <th>1</th>\n",
       "      <th>2</th>\n",
       "      <th>3</th>\n",
       "      <th>4</th>\n",
       "      <th>5</th>\n",
       "      <th>6</th>\n",
       "      <th>7</th>\n",
       "      <th>8</th>\n",
       "      <th>9</th>\n",
       "      <th>...</th>\n",
       "      <th>15</th>\n",
       "      <th>16</th>\n",
       "      <th>17</th>\n",
       "      <th>18</th>\n",
       "      <th>19</th>\n",
       "      <th>20</th>\n",
       "      <th>21</th>\n",
       "      <th>22</th>\n",
       "      <th>23</th>\n",
       "      <th>24</th>\n",
       "    </tr>\n",
       "  </thead>\n",
       "  <tbody>\n",
       "    <tr>\n",
       "      <td>0</td>\n",
       "      <td>11</td>\n",
       "      <td>11</td>\n",
       "      <td>9</td>\n",
       "      <td>8</td>\n",
       "      <td>19</td>\n",
       "      <td>35</td>\n",
       "      <td>37</td>\n",
       "      <td>13</td>\n",
       "      <td>16</td>\n",
       "      <td>14</td>\n",
       "      <td>...</td>\n",
       "      <td>0</td>\n",
       "      <td>3</td>\n",
       "      <td>5</td>\n",
       "      <td>7</td>\n",
       "      <td>140</td>\n",
       "      <td>145</td>\n",
       "      <td>133</td>\n",
       "      <td>5</td>\n",
       "      <td>5</td>\n",
       "      <td>0</td>\n",
       "    </tr>\n",
       "    <tr>\n",
       "      <td>1</td>\n",
       "      <td>11</td>\n",
       "      <td>11</td>\n",
       "      <td>9</td>\n",
       "      <td>8</td>\n",
       "      <td>13</td>\n",
       "      <td>35</td>\n",
       "      <td>37</td>\n",
       "      <td>11</td>\n",
       "      <td>14</td>\n",
       "      <td>14</td>\n",
       "      <td>...</td>\n",
       "      <td>0</td>\n",
       "      <td>4</td>\n",
       "      <td>5</td>\n",
       "      <td>7</td>\n",
       "      <td>137</td>\n",
       "      <td>140</td>\n",
       "      <td>132</td>\n",
       "      <td>6</td>\n",
       "      <td>5</td>\n",
       "      <td>0</td>\n",
       "    </tr>\n",
       "    <tr>\n",
       "      <td>2</td>\n",
       "      <td>11</td>\n",
       "      <td>11</td>\n",
       "      <td>9</td>\n",
       "      <td>8</td>\n",
       "      <td>11</td>\n",
       "      <td>35</td>\n",
       "      <td>37</td>\n",
       "      <td>11</td>\n",
       "      <td>13</td>\n",
       "      <td>13</td>\n",
       "      <td>...</td>\n",
       "      <td>0</td>\n",
       "      <td>2</td>\n",
       "      <td>7</td>\n",
       "      <td>8</td>\n",
       "      <td>139</td>\n",
       "      <td>143</td>\n",
       "      <td>133</td>\n",
       "      <td>6</td>\n",
       "      <td>5</td>\n",
       "      <td>0</td>\n",
       "    </tr>\n",
       "    <tr>\n",
       "      <td>3</td>\n",
       "      <td>11</td>\n",
       "      <td>9</td>\n",
       "      <td>9</td>\n",
       "      <td>8</td>\n",
       "      <td>11</td>\n",
       "      <td>22</td>\n",
       "      <td>37</td>\n",
       "      <td>10</td>\n",
       "      <td>11</td>\n",
       "      <td>13</td>\n",
       "      <td>...</td>\n",
       "      <td>0</td>\n",
       "      <td>2</td>\n",
       "      <td>5</td>\n",
       "      <td>9</td>\n",
       "      <td>140</td>\n",
       "      <td>143</td>\n",
       "      <td>133</td>\n",
       "      <td>6</td>\n",
       "      <td>5</td>\n",
       "      <td>0</td>\n",
       "    </tr>\n",
       "    <tr>\n",
       "      <td>4</td>\n",
       "      <td>11</td>\n",
       "      <td>11</td>\n",
       "      <td>9</td>\n",
       "      <td>8</td>\n",
       "      <td>12</td>\n",
       "      <td>13</td>\n",
       "      <td>35</td>\n",
       "      <td>11</td>\n",
       "      <td>11</td>\n",
       "      <td>12</td>\n",
       "      <td>...</td>\n",
       "      <td>0</td>\n",
       "      <td>2</td>\n",
       "      <td>5</td>\n",
       "      <td>8</td>\n",
       "      <td>138</td>\n",
       "      <td>143</td>\n",
       "      <td>133</td>\n",
       "      <td>6</td>\n",
       "      <td>5</td>\n",
       "      <td>0</td>\n",
       "    </tr>\n",
       "    <tr>\n",
       "      <td>5</td>\n",
       "      <td>12</td>\n",
       "      <td>11</td>\n",
       "      <td>9</td>\n",
       "      <td>8</td>\n",
       "      <td>13</td>\n",
       "      <td>13</td>\n",
       "      <td>39</td>\n",
       "      <td>11</td>\n",
       "      <td>11</td>\n",
       "      <td>11</td>\n",
       "      <td>...</td>\n",
       "      <td>0</td>\n",
       "      <td>2</td>\n",
       "      <td>4</td>\n",
       "      <td>7</td>\n",
       "      <td>140</td>\n",
       "      <td>145</td>\n",
       "      <td>133</td>\n",
       "      <td>6</td>\n",
       "      <td>5</td>\n",
       "      <td>0</td>\n",
       "    </tr>\n",
       "    <tr>\n",
       "      <td>6</td>\n",
       "      <td>13</td>\n",
       "      <td>12</td>\n",
       "      <td>9</td>\n",
       "      <td>8</td>\n",
       "      <td>13</td>\n",
       "      <td>13</td>\n",
       "      <td>70</td>\n",
       "      <td>12</td>\n",
       "      <td>11</td>\n",
       "      <td>12</td>\n",
       "      <td>...</td>\n",
       "      <td>0</td>\n",
       "      <td>2</td>\n",
       "      <td>5</td>\n",
       "      <td>7</td>\n",
       "      <td>142</td>\n",
       "      <td>147</td>\n",
       "      <td>134</td>\n",
       "      <td>6</td>\n",
       "      <td>5</td>\n",
       "      <td>0</td>\n",
       "    </tr>\n",
       "    <tr>\n",
       "      <td>7</td>\n",
       "      <td>13</td>\n",
       "      <td>11</td>\n",
       "      <td>8</td>\n",
       "      <td>6</td>\n",
       "      <td>13</td>\n",
       "      <td>14</td>\n",
       "      <td>144</td>\n",
       "      <td>12</td>\n",
       "      <td>11</td>\n",
       "      <td>15</td>\n",
       "      <td>...</td>\n",
       "      <td>0</td>\n",
       "      <td>2</td>\n",
       "      <td>4</td>\n",
       "      <td>7</td>\n",
       "      <td>143</td>\n",
       "      <td>148</td>\n",
       "      <td>134</td>\n",
       "      <td>6</td>\n",
       "      <td>5</td>\n",
       "      <td>0</td>\n",
       "    </tr>\n",
       "    <tr>\n",
       "      <td>8</td>\n",
       "      <td>11</td>\n",
       "      <td>11</td>\n",
       "      <td>8</td>\n",
       "      <td>6</td>\n",
       "      <td>13</td>\n",
       "      <td>70</td>\n",
       "      <td>144</td>\n",
       "      <td>11</td>\n",
       "      <td>12</td>\n",
       "      <td>17</td>\n",
       "      <td>...</td>\n",
       "      <td>0</td>\n",
       "      <td>2</td>\n",
       "      <td>5</td>\n",
       "      <td>9</td>\n",
       "      <td>138</td>\n",
       "      <td>142</td>\n",
       "      <td>132</td>\n",
       "      <td>6</td>\n",
       "      <td>5</td>\n",
       "      <td>0</td>\n",
       "    </tr>\n",
       "    <tr>\n",
       "      <td>9</td>\n",
       "      <td>11</td>\n",
       "      <td>9</td>\n",
       "      <td>7</td>\n",
       "      <td>6</td>\n",
       "      <td>13</td>\n",
       "      <td>144</td>\n",
       "      <td>144</td>\n",
       "      <td>11</td>\n",
       "      <td>20</td>\n",
       "      <td>18</td>\n",
       "      <td>...</td>\n",
       "      <td>0</td>\n",
       "      <td>2</td>\n",
       "      <td>8</td>\n",
       "      <td>9</td>\n",
       "      <td>139</td>\n",
       "      <td>142</td>\n",
       "      <td>131</td>\n",
       "      <td>6</td>\n",
       "      <td>7</td>\n",
       "      <td>0</td>\n",
       "    </tr>\n",
       "  </tbody>\n",
       "</table>\n",
       "<p>10 rows × 25 columns</p>\n",
       "</div>"
      ],
      "text/plain": [
       "   0   1   2   3   4    5    6   7   8   9   ...  15  16  17  18   19   20  \\\n",
       "0  11  11   9   8  19   35   37  13  16  14  ...   0   3   5   7  140  145   \n",
       "1  11  11   9   8  13   35   37  11  14  14  ...   0   4   5   7  137  140   \n",
       "2  11  11   9   8  11   35   37  11  13  13  ...   0   2   7   8  139  143   \n",
       "3  11   9   9   8  11   22   37  10  11  13  ...   0   2   5   9  140  143   \n",
       "4  11  11   9   8  12   13   35  11  11  12  ...   0   2   5   8  138  143   \n",
       "5  12  11   9   8  13   13   39  11  11  11  ...   0   2   4   7  140  145   \n",
       "6  13  12   9   8  13   13   70  12  11  12  ...   0   2   5   7  142  147   \n",
       "7  13  11   8   6  13   14  144  12  11  15  ...   0   2   4   7  143  148   \n",
       "8  11  11   8   6  13   70  144  11  12  17  ...   0   2   5   9  138  142   \n",
       "9  11   9   7   6  13  144  144  11  20  18  ...   0   2   8   9  139  142   \n",
       "\n",
       "    21  22  23  24  \n",
       "0  133   5   5   0  \n",
       "1  132   6   5   0  \n",
       "2  133   6   5   0  \n",
       "3  133   6   5   0  \n",
       "4  133   6   5   0  \n",
       "5  133   6   5   0  \n",
       "6  134   6   5   0  \n",
       "7  134   6   5   0  \n",
       "8  132   6   5   0  \n",
       "9  131   6   7   0  \n",
       "\n",
       "[10 rows x 25 columns]"
      ]
     },
     "execution_count": 161,
     "metadata": {},
     "output_type": "execute_result"
    }
   ],
   "source": [
    "features_test.head(10)"
   ]
  },
  {
   "cell_type": "code",
   "execution_count": null,
   "metadata": {},
   "outputs": [],
   "source": []
  },
  {
   "cell_type": "code",
   "execution_count": null,
   "metadata": {},
   "outputs": [],
   "source": []
  },
  {
   "cell_type": "code",
   "execution_count": 173,
   "metadata": {},
   "outputs": [],
   "source": [
    "state_test, log_proba  = perform_inference_RF_sklearn(classifier_, features_test)"
   ]
  },
  {
   "cell_type": "code",
   "execution_count": null,
   "metadata": {},
   "outputs": [],
   "source": [
    "state_test"
   ]
  },
  {
   "cell_type": "code",
   "execution_count": 8,
   "metadata": {},
   "outputs": [
    {
     "ename": "NameError",
     "evalue": "name 'log_proba' is not defined",
     "output_type": "error",
     "traceback": [
      "\u001b[0;31m---------------------------------------------------------------------------\u001b[0m",
      "\u001b[0;31mNameError\u001b[0m                                 Traceback (most recent call last)",
      "\u001b[0;32m<ipython-input-8-aef4d965bb0c>\u001b[0m in \u001b[0;36m<module>\u001b[0;34m\u001b[0m\n\u001b[0;32m----> 1\u001b[0;31m \u001b[0mlog_proba\u001b[0m\u001b[0;34m\u001b[0m\u001b[0;34m\u001b[0m\u001b[0m\n\u001b[0m",
      "\u001b[0;31mNameError\u001b[0m: name 'log_proba' is not defined"
     ]
    }
   ],
   "source": [
    "log_proba"
   ]
  },
  {
   "cell_type": "code",
   "execution_count": 9,
   "metadata": {},
   "outputs": [
    {
     "ename": "NameError",
     "evalue": "name 'state_test' is not defined",
     "output_type": "error",
     "traceback": [
      "\u001b[0;31m---------------------------------------------------------------------------\u001b[0m",
      "\u001b[0;31mNameError\u001b[0m                                 Traceback (most recent call last)",
      "\u001b[0;32m<ipython-input-9-767b24762a6a>\u001b[0m in \u001b[0;36m<module>\u001b[0;34m\u001b[0m\n\u001b[0;32m----> 1\u001b[0;31m \u001b[0mnp\u001b[0m\u001b[0;34m.\u001b[0m\u001b[0msavetxt\u001b[0m\u001b[0;34m(\u001b[0m\u001b[0;34m\"state_test.csv\"\u001b[0m\u001b[0;34m,\u001b[0m \u001b[0mstate_test\u001b[0m\u001b[0;34m,\u001b[0m \u001b[0mdelimiter\u001b[0m\u001b[0;34m=\u001b[0m\u001b[0;34m\",\"\u001b[0m\u001b[0;34m)\u001b[0m\u001b[0;34m\u001b[0m\u001b[0;34m\u001b[0m\u001b[0m\n\u001b[0m",
      "\u001b[0;31mNameError\u001b[0m: name 'state_test' is not defined"
     ]
    }
   ],
   "source": [
    "np.savetxt(\"state_test.csv\", state_test, delimiter=\",\")"
   ]
  },
  {
   "cell_type": "code",
   "execution_count": 126,
   "metadata": {},
   "outputs": [],
   "source": [
    "np.savetxt(\"log_proba_state_test.csv\",log_proba, delimiter=\",\")"
   ]
  },
  {
   "cell_type": "code",
   "execution_count": 19,
   "metadata": {},
   "outputs": [
    {
     "name": "stdout",
     "output_type": "stream",
     "text": [
      "r2: 1.0\n"
     ]
    },
    {
     "data": {
      "image/png": "[encoded data removed]",
      "text/plain": [
       "<Figure size 432x288 with 4 Axes>"
      ]
     },
     "metadata": {
      "needs_background": "light"
     },
     "output_type": "display_data"
    }
   ],
   "source": [
    "state , features                  = prepare_data_raw_state(path_to_tagged_data = path_to_data, name_train   = name_train)\n",
    "classifier_ ,r2                      = create_the_random_forest_classifier(state, features)\n",
    "state_train_predicted, log_proba  = perform_inference_RF_sklearn(classifier_, features)\n",
    "confusion                         = generate_confusion_matrix_and_plot(state, state_train_predicted)\n",
    "fig, ax1, ax2                     = plot_confusion_matrix(confusion)\n",
    "\n",
    "print(\"r2:\", r2)\n",
    "state_test, log_proba  = perform_inference_RF_sklearn(classifier_, features_test)"
   ]
  },
  {
   "cell_type": "code",
   "execution_count": 128,
   "metadata": {},
   "outputs": [
    {
     "data": {
      "text/plain": [
       "array([1, 1, 1, ..., 0, 0, 0])"
      ]
     },
     "execution_count": 128,
     "metadata": {},
     "output_type": "execute_result"
    }
   ],
   "source": [
    "state_test"
   ]
  },
  {
   "cell_type": "code",
   "execution_count": 129,
   "metadata": {},
   "outputs": [],
   "source": [
    "np.savetxt(\"state_test_from_raw_data.csv\", state_test, delimiter=\",\")"
   ]
  },
  {
   "cell_type": "code",
   "execution_count": 130,
   "metadata": {},
   "outputs": [],
   "source": [
    "np.savetxt(\"log_proba_state_test_from_raw_data.csv\",log_proba, delimiter=\",\")"
   ]
  },
  {
   "cell_type": "code",
   "execution_count": null,
   "metadata": {},
   "outputs": [],
   "source": []
  },
  {
   "cell_type": "code",
   "execution_count": null,
   "metadata": {
    "slideshow": {
     "slide_type": ""
    }
   },
   "outputs": [],
   "source": []
  },
  {
   "cell_type": "code",
   "execution_count": null,
   "metadata": {},
   "outputs": [],
   "source": [
    "\n"
   ]
  },
  {
   "cell_type": "code",
   "execution_count": null,
   "metadata": {},
   "outputs": [],
   "source": [
    "\n"
   ]
  },
  {
   "cell_type": "code",
   "execution_count": null,
   "metadata": {},
   "outputs": [],
   "source": []
  },
  {
   "cell_type": "code",
   "execution_count": null,
   "metadata": {},
   "outputs": [],
   "source": []
  },
  {
   "cell_type": "code",
   "execution_count": 202,
   "metadata": {},
   "outputs": [],
   "source": [
    "classifier_1, score  = create_the_random_forest_classifier(state, features)\n",
    "classifier_2, score  = create_adaboost_classifier_tree(state,features)\n",
    "classifier_3, score  = create_adaboost_classifier_SGD(state, features)"
   ]
  },
  {
   "cell_type": "code",
   "execution_count": 174,
   "metadata": {},
   "outputs": [
    {
     "data": {
      "text/plain": [
       "numpy.ndarray"
      ]
     },
     "execution_count": 174,
     "metadata": {},
     "output_type": "execute_result"
    }
   ],
   "source": []
  },
  {
   "cell_type": "code",
   "execution_count": 203,
   "metadata": {},
   "outputs": [],
   "source": [
    "junk, log_proba_out      = perform_inference_RF_sklearn(classifier_1, features)"
   ]
  },
  {
   "cell_type": "code",
   "execution_count": 204,
   "metadata": {},
   "outputs": [
    {
     "data": {
      "text/plain": [
       "(14742, 2)"
      ]
     },
     "execution_count": 204,
     "metadata": {},
     "output_type": "execute_result"
    }
   ],
   "source": [
    "log_proba_out.shape"
   ]
  },
  {
   "cell_type": "code",
   "execution_count": 205,
   "metadata": {},
   "outputs": [
    {
     "data": {
      "text/plain": [
       "3.720075976020836e-44"
      ]
     },
     "execution_count": 205,
     "metadata": {},
     "output_type": "execute_result"
    }
   ],
   "source": [
    "np.exp(-100)"
   ]
  },
  {
   "cell_type": "code",
   "execution_count": 199,
   "metadata": {},
   "outputs": [],
   "source": [
    "classifier_2, score  = create_adaboost_classifier_tree(state,features)"
   ]
  },
  {
   "cell_type": "code",
   "execution_count": 200,
   "metadata": {},
   "outputs": [],
   "source": [
    "state_out, log_proba  =perform_inference_ada_tree(classifier_2, features)"
   ]
  },
  {
   "cell_type": "code",
   "execution_count": 201,
   "metadata": {},
   "outputs": [
    {
     "data": {
      "text/plain": [
       "(14742, 2)"
      ]
     },
     "execution_count": 201,
     "metadata": {},
     "output_type": "execute_result"
    }
   ],
   "source": [
    "log_proba.shape\n"
   ]
  },
  {
   "cell_type": "code",
   "execution_count": null,
   "metadata": {},
   "outputs": [],
   "source": []
  },
  {
   "cell_type": "code",
   "execution_count": 197,
   "metadata": {},
   "outputs": [],
   "source": [
    "test = []"
   ]
  },
  {
   "cell_type": "code",
   "execution_count": 198,
   "metadata": {},
   "outputs": [
    {
     "ename": "TypeError",
     "evalue": "'list' object cannot be interpreted as an integer",
     "output_type": "error",
     "traceback": [
      "\u001b[0;31m---------------------------------------------------------------------------\u001b[0m",
      "\u001b[0;31mTypeError\u001b[0m                                 Traceback (most recent call last)",
      "\u001b[0;32m<ipython-input-198-d53310ea9e2f>\u001b[0m in \u001b[0;36m<module>\u001b[0;34m\u001b[0m\n\u001b[0;32m----> 1\u001b[0;31m \u001b[0mtest\u001b[0m \u001b[0;34m=\u001b[0m \u001b[0mnp\u001b[0m\u001b[0;34m.\u001b[0m\u001b[0mconcatenate\u001b[0m\u001b[0;34m(\u001b[0m\u001b[0mtest\u001b[0m\u001b[0;34m,\u001b[0m \u001b[0;34m[\u001b[0m\u001b[0;36m10\u001b[0m\u001b[0;34m,\u001b[0m\u001b[0;36m10\u001b[0m\u001b[0;34m,\u001b[0m\u001b[0;36m10\u001b[0m\u001b[0;34m]\u001b[0m\u001b[0;34m)\u001b[0m\u001b[0;34m\u001b[0m\u001b[0;34m\u001b[0m\u001b[0m\n\u001b[0m",
      "\u001b[0;32m<__array_function__ internals>\u001b[0m in \u001b[0;36mconcatenate\u001b[0;34m(*args, **kwargs)\u001b[0m\n",
      "\u001b[0;31mTypeError\u001b[0m: 'list' object cannot be interpreted as an integer"
     ]
    }
   ],
   "source": [
    "test = np.concatenate(test, [10,10,10])"
   ]
  },
  {
   "cell_type": "code",
   "execution_count": 131,
   "metadata": {},
   "outputs": [],
   "source": [
    "\n",
    "\n",
    "\n",
    "\n",
    "from sklearn.datasets import load_iris"
   ]
  },
  {
   "cell_type": "code",
   "execution_count": 132,
   "metadata": {},
   "outputs": [],
   "source": [
    "#kernel = 1.0 * RBF(1.0)\n"
   ]
  },
  {
   "cell_type": "code",
   "execution_count": 133,
   "metadata": {},
   "outputs": [],
   "source": [
    "#kernel.get_params()"
   ]
  },
  {
   "cell_type": "code",
   "execution_count": null,
   "metadata": {},
   "outputs": [],
   "source": []
  },
  {
   "cell_type": "code",
   "execution_count": 20,
   "metadata": {},
   "outputs": [
    {
     "data": {
      "image/png": "[encoded data removed]",
      "text/plain": [
       "<Figure size 432x288 with 4 Axes>"
      ]
     },
     "metadata": {
      "needs_background": "light"
     },
     "output_type": "display_data"
    }
   ],
   "source": [
    "state, features       = prepare_data_equalize_state(path_to_tagged_data = path_to_data, name_train   = name_train)\n",
    "classifier  ,r2           = create_Nearest_Neighbors_classifier(state, features)\n",
    "state_train_predicted = classifier.predict(features)\n",
    "confusion             = generate_confusion_matrix_and_plot(state, state_train_predicted)\n",
    "\n",
    "fig, ax1, ax2         = plot_confusion_matrix(confusion)\n",
    "\n",
    "\n",
    "#features_test         = pd.read_csv(path_to_data+name_test)\n",
    "#state_test            = classifier.predict(features_test)"
   ]
  },
  {
   "cell_type": "code",
   "execution_count": 135,
   "metadata": {},
   "outputs": [],
   "source": []
  },
  {
   "cell_type": "code",
   "execution_count": 21,
   "metadata": {},
   "outputs": [
    {
     "name": "stdout",
     "output_type": "stream",
     "text": [
      "r2: 1.0\n"
     ]
    },
    {
     "data": {
      "image/png": "[encoded data removed]",
      "text/plain": [
       "<Figure size 432x288 with 4 Axes>"
      ]
     },
     "metadata": {
      "needs_background": "light"
     },
     "output_type": "display_data"
    }
   ],
   "source": [
    "state, features        = prepare_data_equalize_state(path_to_tagged_data = path_to_data, name_train   = name_train)\n",
    "scaler, features_white = features_whitening(features)\n",
    "classifier  ,r2            = create_Nearest_Neighbors_classifier(state, features_white)\n",
    "state_train_predicted  = classifier.predict(features_white)\n",
    "confusion              = generate_confusion_matrix_and_plot(state, state_train_predicted)\n",
    "\n",
    "fig, ax1, ax2          = plot_confusion_matrix(confusion)\n",
    "print(\"r2:\", r2)\n",
    "\n",
    "\n",
    "\n",
    "features_test          = pd.read_csv(path_to_data+name_test)\n",
    "features_test_white    = scaler.transform(features_test)\n",
    "state_test             = classifier.predict(features_test_white)"
   ]
  },
  {
   "cell_type": "code",
   "execution_count": 137,
   "metadata": {},
   "outputs": [
    {
     "data": {
      "text/plain": [
       "array([1, 1, 1, ..., 0, 0, 1])"
      ]
     },
     "execution_count": 137,
     "metadata": {},
     "output_type": "execute_result"
    }
   ],
   "source": [
    "state_test"
   ]
  },
  {
   "cell_type": "code",
   "execution_count": null,
   "metadata": {},
   "outputs": [],
   "source": []
  },
  {
   "cell_type": "code",
   "execution_count": null,
   "metadata": {},
   "outputs": [],
   "source": []
  },
  {
   "cell_type": "code",
   "execution_count": 22,
   "metadata": {},
   "outputs": [
    {
     "name": "stdout",
     "output_type": "stream",
     "text": [
      "r2: 1.0\n"
     ]
    },
    {
     "data": {
      "image/png": "[encoded data removed]",
      "text/plain": [
       "<Figure size 432x288 with 4 Axes>"
      ]
     },
     "metadata": {
      "needs_background": "light"
     },
     "output_type": "display_data"
    }
   ],
   "source": [
    "state, features        = prepare_data_raw_state(path_to_tagged_data = path_to_data, name_train   = name_train)\n",
    "scaler, features_white = features_whitening(features)\n",
    "classifier  ,r2            = create_adaboost_classifier_tree(state, features_white)\n",
    "state_train_predicted  = classifier.predict(features_white)\n",
    "confusion              = generate_confusion_matrix_and_plot(state, state_train_predicted)\n",
    "\n",
    "fig, ax1, ax2          = plot_confusion_matrix(confusion)\n",
    "\n",
    "print(\"r2:\", r2)\n",
    "\n",
    "\n",
    "features_test          = pd.read_csv(path_to_data+name_test)\n",
    "features_test_white    = scaler.transform(features_test)\n",
    "state_test             = classifier.predict(features_test_white)"
   ]
  },
  {
   "cell_type": "code",
   "execution_count": null,
   "metadata": {},
   "outputs": [],
   "source": []
  },
  {
   "cell_type": "code",
   "execution_count": 23,
   "metadata": {},
   "outputs": [
    {
     "name": "stdout",
     "output_type": "stream",
     "text": [
      "r2: 1.0\n"
     ]
    },
    {
     "data": {
      "image/png": "[encoded data removed]",
      "text/plain": [
       "<Figure size 432x288 with 4 Axes>"
      ]
     },
     "metadata": {
      "needs_background": "light"
     },
     "output_type": "display_data"
    }
   ],
   "source": [
    "state, features        = prepare_data_raw_state(path_to_tagged_data = path_to_data, name_train   = name_train)\n",
    "scaler, features_white = features_whitening(features)\n",
    "classifier  ,r2            = create_adaboost_classifier_SVM(state, features_white)\n",
    "state_train_predicted  = classifier.predict(features_white)\n",
    "confusion              = generate_confusion_matrix_and_plot(state, state_train_predicted)\n",
    "\n",
    "fig, ax1, ax2          = plot_confusion_matrix(confusion)\n",
    "print(\"r2:\", r2)\n",
    "\n",
    "\n",
    "\n",
    "features_test          = pd.read_csv(path_to_data+name_test)\n",
    "features_test_white    = scaler.transform(features_test)\n",
    "state_test             = classifier.predict(features_test_white)"
   ]
  },
  {
   "cell_type": "code",
   "execution_count": null,
   "metadata": {},
   "outputs": [],
   "source": []
  },
  {
   "cell_type": "code",
   "execution_count": 24,
   "metadata": {},
   "outputs": [
    {
     "name": "stdout",
     "output_type": "stream",
     "text": [
      "r2: 1.0\n"
     ]
    },
    {
     "data": {
      "image/png": "[encoded data removed]",
      "text/plain": [
       "<Figure size 432x288 with 4 Axes>"
      ]
     },
     "metadata": {
      "needs_background": "light"
     },
     "output_type": "display_data"
    }
   ],
   "source": [
    "state, features        = prepare_data_raw_state(path_to_tagged_data = path_to_data, name_train   = name_train)\n",
    "scaler, features_white = features_whitening(features)\n",
    "classifier  ,r2           = create_adaboost_classifier_SGD(state, features_white)\n",
    "state_train_predicted  = classifier.predict(features_white)\n",
    "confusion              = generate_confusion_matrix_and_plot(state, state_train_predicted)\n",
    "print('r2:', r2)\n",
    "fig, ax1, ax2          = plot_confusion_matrix(confusion)\n",
    "\n",
    "\n",
    "\n",
    "\n",
    "features_test          = pd.read_csv(path_to_data+name_test)\n",
    "features_test_white    = scaler.transform(features_test)\n",
    "state_test             = classifier.predict(features_test_white)"
   ]
  },
  {
   "cell_type": "code",
   "execution_count": 174,
   "metadata": {},
   "outputs": [],
   "source": [
    "dirpath = os.getcwd()"
   ]
  },
  {
   "cell_type": "code",
   "execution_count": 175,
   "metadata": {},
   "outputs": [
    {
     "name": "stdout",
     "output_type": "stream",
     "text": [
      "dirpath: /Users/jbmasson/Dropbox (HHMI)/DIVA_ML\n"
     ]
    }
   ],
   "source": [
    "print(\"dirpath:\", dirpath)"
   ]
  },
  {
   "cell_type": "code",
   "execution_count": null,
   "metadata": {},
   "outputs": [],
   "source": []
  },
  {
   "cell_type": "code",
   "execution_count": null,
   "metadata": {},
   "outputs": [],
   "source": []
  },
  {
   "cell_type": "code",
   "execution_count": 25,
   "metadata": {},
   "outputs": [
    {
     "ename": "NameError",
     "evalue": "name 'score' is not defined",
     "output_type": "error",
     "traceback": [
      "\u001b[0;31m---------------------------------------------------------------------------\u001b[0m",
      "\u001b[0;31mNameError\u001b[0m                                 Traceback (most recent call last)",
      "\u001b[0;32m<ipython-input-25-45a4bc3f4799>\u001b[0m in \u001b[0;36m<module>\u001b[0;34m\u001b[0m\n\u001b[1;32m      1\u001b[0m \u001b[0mstate\u001b[0m\u001b[0;34m,\u001b[0m \u001b[0mfeatures\u001b[0m\u001b[0;34m,\u001b[0m \u001b[0mdtrain\u001b[0m  \u001b[0;34m=\u001b[0m \u001b[0mprepare_data_raw_state_Dmatrix\u001b[0m\u001b[0;34m(\u001b[0m\u001b[0mpath_to_tagged_data\u001b[0m \u001b[0;34m=\u001b[0m \u001b[0mpath_to_data\u001b[0m\u001b[0;34m,\u001b[0m \u001b[0mname_train\u001b[0m   \u001b[0;34m=\u001b[0m \u001b[0mname_train\u001b[0m\u001b[0;34m)\u001b[0m\u001b[0;34m\u001b[0m\u001b[0;34m\u001b[0m\u001b[0m\n\u001b[0;32m----> 2\u001b[0;31m \u001b[0mclassifier\u001b[0m\u001b[0;34m,\u001b[0m \u001b[0mr2\u001b[0m           \u001b[0;34m=\u001b[0m \u001b[0mcreate_xgboost_classifier\u001b[0m\u001b[0;34m(\u001b[0m\u001b[0mstate\u001b[0m\u001b[0;34m,\u001b[0m \u001b[0mfeatures\u001b[0m\u001b[0;34m)\u001b[0m\u001b[0;34m\u001b[0m\u001b[0;34m\u001b[0m\u001b[0m\n\u001b[0m\u001b[1;32m      3\u001b[0m \u001b[0;31m#classifier  ,r2           = create_adaboost_classifier_SGD(state, features_white)\u001b[0m\u001b[0;34m\u001b[0m\u001b[0;34m\u001b[0m\u001b[0;34m\u001b[0m\u001b[0m\n\u001b[1;32m      4\u001b[0m \u001b[0;31m#state_train_predicted  = classifier.predict(features_white)\u001b[0m\u001b[0;34m\u001b[0m\u001b[0;34m\u001b[0m\u001b[0;34m\u001b[0m\u001b[0m\n\u001b[1;32m      5\u001b[0m \u001b[0;31m#confusion              = generate_confusion_matrix_and_plot(state, state_train_predicted)\u001b[0m\u001b[0;34m\u001b[0m\u001b[0;34m\u001b[0m\u001b[0;34m\u001b[0m\u001b[0m\n",
      "\u001b[0;32m~/Dropbox (HHMI)/DIVA_ML/src/classifier_utilities.py\u001b[0m in \u001b[0;36mcreate_xgboost_classifier\u001b[0;34m(state, features)\u001b[0m\n\u001b[1;32m    214\u001b[0m         \u001b[0mclassifier\u001b[0m\u001b[0;34m.\u001b[0m\u001b[0mfit\u001b[0m\u001b[0;34m(\u001b[0m\u001b[0mfeatures\u001b[0m\u001b[0;34m,\u001b[0m \u001b[0mstate\u001b[0m\u001b[0;34m)\u001b[0m\u001b[0;34m\u001b[0m\u001b[0;34m\u001b[0m\u001b[0m\n\u001b[1;32m    215\u001b[0m \u001b[0;34m\u001b[0m\u001b[0m\n\u001b[0;32m--> 216\u001b[0;31m         \u001b[0;32mreturn\u001b[0m \u001b[0mclassifier\u001b[0m\u001b[0;34m,\u001b[0m \u001b[0mscore\u001b[0m\u001b[0;34m\u001b[0m\u001b[0;34m\u001b[0m\u001b[0m\n\u001b[0m\u001b[1;32m    217\u001b[0m \u001b[0;34m\u001b[0m\u001b[0m\n\u001b[1;32m    218\u001b[0m \u001b[0;34m\u001b[0m\u001b[0m\n",
      "\u001b[0;31mNameError\u001b[0m: name 'score' is not defined"
     ]
    }
   ],
   "source": [
    "state, features, dtrain  = prepare_data_raw_state_Dmatrix(path_to_tagged_data = path_to_data, name_train   = name_train)\n",
    "classifier, r2           = create_xgboost_classifier(state, features) \n",
    "#classifier  ,r2           = create_adaboost_classifier_SGD(state, features_white)\n",
    "#state_train_predicted  = classifier.predict(features_white)\n",
    "#confusion              = generate_confusion_matrix_and_plot(state, state_train_predicted)\n",
    "#print('r2:', r2)\n",
    "#fig, ax1, ax2          = plot_confusion_matrix(confusion)\n",
    "\n",
    "\n",
    "\n",
    "\n",
    "#features_test          = pd.read_csv(path_to_data+name_test)\n",
    "#features_test_white    = scaler.transform(features_test)\n",
    "#state_test             = classifier.predict(features_test_white)"
   ]
  },
  {
   "cell_type": "code",
   "execution_count": null,
   "metadata": {},
   "outputs": [],
   "source": []
  },
  {
   "cell_type": "code",
   "execution_count": null,
   "metadata": {},
   "outputs": [],
   "source": []
  },
  {
   "cell_type": "code",
   "execution_count": null,
   "metadata": {},
   "outputs": [],
   "source": []
  },
  {
   "cell_type": "code",
   "execution_count": 183,
   "metadata": {},
   "outputs": [
    {
     "name": "stdout",
     "output_type": "stream",
     "text": [
      "range(1, 11, 2)\n"
     ]
    }
   ],
   "source": [
    "max_depth = range(1, 11, 2)\n",
    "print(max_depth)"
   ]
  },
  {
   "cell_type": "markdown",
   "metadata": {},
   "source": []
  },
  {
   "cell_type": "code",
   "execution_count": 187,
   "metadata": {},
   "outputs": [
    {
     "data": {
      "text/plain": [
       "9"
      ]
     },
     "execution_count": 187,
     "metadata": {},
     "output_type": "execute_result"
    }
   ],
   "source": [
    "max_depth[4]"
   ]
  },
  {
   "cell_type": "code",
   "execution_count": null,
   "metadata": {},
   "outputs": [],
   "source": []
  },
  {
   "cell_type": "code",
   "execution_count": null,
   "metadata": {},
   "outputs": [],
   "source": []
  },
  {
   "cell_type": "code",
   "execution_count": null,
   "metadata": {},
   "outputs": [],
   "source": []
  },
  {
   "cell_type": "code",
   "execution_count": null,
   "metadata": {},
   "outputs": [],
   "source": []
  },
  {
   "cell_type": "code",
   "execution_count": null,
   "metadata": {},
   "outputs": [],
   "source": []
  },
  {
   "cell_type": "code",
   "execution_count": null,
   "metadata": {},
   "outputs": [],
   "source": []
  },
  {
   "cell_type": "code",
   "execution_count": null,
   "metadata": {},
   "outputs": [],
   "source": []
  }
 ],
 "metadata": {
  "kernelspec": {
   "display_name": "Python 3",
   "language": "python",
   "name": "python3"
  },
  "language_info": {
   "codemirror_mode": {
    "name": "ipython",
    "version": 3
   },
   "file_extension": ".py",
   "mimetype": "text/x-python",
   "name": "python",
   "nbconvert_exporter": "python",
   "pygments_lexer": "ipython3",
   "version": "3.7.4"
  }
 },
 "nbformat": 4,
 "nbformat_minor": 2
}
