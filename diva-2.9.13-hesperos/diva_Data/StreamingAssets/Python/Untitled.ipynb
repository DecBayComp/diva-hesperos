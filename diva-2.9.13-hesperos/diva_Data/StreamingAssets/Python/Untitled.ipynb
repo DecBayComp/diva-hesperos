{
 "cells": [
  {
   "cell_type": "code",
   "execution_count": 3,
   "metadata": {},
   "outputs": [
    {
     "ename": "SyntaxError",
     "evalue": "from __future__ imports must occur at the beginning of the file (<ipython-input-3-4891011c440b>, line 6)",
     "output_type": "error",
     "traceback": [
      "\u001b[0;36m  File \u001b[0;32m\"<ipython-input-3-4891011c440b>\"\u001b[0;36m, line \u001b[0;32m6\u001b[0m\n\u001b[0;31mSyntaxError\u001b[0m\u001b[0;31m:\u001b[0m from __future__ imports must occur at the beginning of the file\n"
     ]
    }
   ],
   "source": [
    "import optuna\n",
    "import numpy as np\n",
    "import "
   ]
  },
  {
   "cell_type": "code",
   "execution_count": 4,
   "metadata": {},
   "outputs": [],
   "source": [
    "from __future__ import division"
   ]
  },
  {
   "cell_type": "code",
   "execution_count": 5,
   "metadata": {},
   "outputs": [],
   "source": [
    "def objective(trial):\n",
    "    x = trial.suggest_uniform('x', -10, 10)\n",
    "    return (x - 2) ** 2"
   ]
  },
  {
   "cell_type": "code",
   "execution_count": 6,
   "metadata": {},
   "outputs": [],
   "source": [
    "study = optuna.create_study()"
   ]
  },
  {
   "cell_type": "code",
   "execution_count": 7,
   "metadata": {},
   "outputs": [
    {
     "name": "stderr",
     "output_type": "stream",
     "text": [
      "[I 2019-11-01 16:20:15,463] Finished trial#0 resulted in value: 63.02226098595497. Current best value is 63.02226098595497 with parameters: {'x': -5.938656119643612}.\n",
      "[I 2019-11-01 16:20:15,503] Finished trial#1 resulted in value: 52.604372748379404. Current best value is 52.604372748379404 with parameters: {'x': 9.252887200858662}.\n",
      "[I 2019-11-01 16:20:15,544] Finished trial#2 resulted in value: 2.4402191502038977. Current best value is 2.4402191502038977 with parameters: {'x': 0.4378799181228423}.\n",
      "[I 2019-11-01 16:20:15,585] Finished trial#3 resulted in value: 13.161505528501461. Current best value is 2.4402191502038977 with parameters: {'x': 0.4378799181228423}.\n",
      "[I 2019-11-01 16:20:15,627] Finished trial#4 resulted in value: 46.49188702736654. Current best value is 2.4402191502038977 with parameters: {'x': 0.4378799181228423}.\n",
      "[I 2019-11-01 16:20:15,668] Finished trial#5 resulted in value: 45.28005088839822. Current best value is 2.4402191502038977 with parameters: {'x': 0.4378799181228423}.\n",
      "[I 2019-11-01 16:20:15,710] Finished trial#6 resulted in value: 12.06238972902717. Current best value is 2.4402191502038977 with parameters: {'x': 0.4378799181228423}.\n",
      "[I 2019-11-01 16:20:15,752] Finished trial#7 resulted in value: 0.000558948368520462. Current best value is 0.000558948368520462 with parameters: {'x': 2.0236420889204076}.\n",
      "[I 2019-11-01 16:20:15,793] Finished trial#8 resulted in value: 37.26875381511347. Current best value is 0.000558948368520462 with parameters: {'x': 2.0236420889204076}.\n",
      "[I 2019-11-01 16:20:15,836] Finished trial#9 resulted in value: 2.296111304865967. Current best value is 0.000558948368520462 with parameters: {'x': 2.0236420889204076}.\n",
      "[I 2019-11-01 16:20:15,882] Finished trial#10 resulted in value: 0.4920985519009911. Current best value is 0.000558948368520462 with parameters: {'x': 2.0236420889204076}.\n",
      "[I 2019-11-01 16:20:15,927] Finished trial#11 resulted in value: 1.2766345426044652. Current best value is 0.000558948368520462 with parameters: {'x': 2.0236420889204076}.\n",
      "[I 2019-11-01 16:20:15,971] Finished trial#12 resulted in value: 3.352401742262827. Current best value is 0.000558948368520462 with parameters: {'x': 2.0236420889204076}.\n",
      "[I 2019-11-01 16:20:16,016] Finished trial#13 resulted in value: 132.3275641101895. Current best value is 0.000558948368520462 with parameters: {'x': 2.0236420889204076}.\n",
      "[I 2019-11-01 16:20:16,061] Finished trial#14 resulted in value: 14.781129471811637. Current best value is 0.000558948368520462 with parameters: {'x': 2.0236420889204076}.\n",
      "[I 2019-11-01 16:20:16,108] Finished trial#15 resulted in value: 0.05002321932104118. Current best value is 0.000558948368520462 with parameters: {'x': 2.0236420889204076}.\n",
      "[I 2019-11-01 16:20:16,153] Finished trial#16 resulted in value: 14.8886265770044. Current best value is 0.000558948368520462 with parameters: {'x': 2.0236420889204076}.\n",
      "[I 2019-11-01 16:20:16,198] Finished trial#17 resulted in value: 24.792397770212727. Current best value is 0.000558948368520462 with parameters: {'x': 2.0236420889204076}.\n",
      "[I 2019-11-01 16:20:16,243] Finished trial#18 resulted in value: 0.7547463678068466. Current best value is 0.000558948368520462 with parameters: {'x': 2.0236420889204076}.\n",
      "[I 2019-11-01 16:20:16,289] Finished trial#19 resulted in value: 17.670100894330446. Current best value is 0.000558948368520462 with parameters: {'x': 2.0236420889204076}.\n",
      "[I 2019-11-01 16:20:16,335] Finished trial#20 resulted in value: 0.10347370743169428. Current best value is 0.000558948368520462 with parameters: {'x': 2.0236420889204076}.\n",
      "[I 2019-11-01 16:20:16,380] Finished trial#21 resulted in value: 0.28585955408455127. Current best value is 0.000558948368520462 with parameters: {'x': 2.0236420889204076}.\n",
      "[I 2019-11-01 16:20:16,425] Finished trial#22 resulted in value: 9.22970958774519. Current best value is 0.000558948368520462 with parameters: {'x': 2.0236420889204076}.\n",
      "[I 2019-11-01 16:20:16,469] Finished trial#23 resulted in value: 5.457247167925296. Current best value is 0.000558948368520462 with parameters: {'x': 2.0236420889204076}.\n",
      "[I 2019-11-01 16:20:16,514] Finished trial#24 resulted in value: 0.061266171548851354. Current best value is 0.000558948368520462 with parameters: {'x': 2.0236420889204076}.\n",
      "[I 2019-11-01 16:20:16,559] Finished trial#25 resulted in value: 5.7591002627175945. Current best value is 0.000558948368520462 with parameters: {'x': 2.0236420889204076}.\n",
      "[I 2019-11-01 16:20:16,606] Finished trial#26 resulted in value: 0.20961880022472096. Current best value is 0.000558948368520462 with parameters: {'x': 2.0236420889204076}.\n",
      "[I 2019-11-01 16:20:16,650] Finished trial#27 resulted in value: 30.56909980864168. Current best value is 0.000558948368520462 with parameters: {'x': 2.0236420889204076}.\n",
      "[I 2019-11-01 16:20:16,698] Finished trial#28 resulted in value: 26.734941432281225. Current best value is 0.000558948368520462 with parameters: {'x': 2.0236420889204076}.\n",
      "[I 2019-11-01 16:20:16,744] Finished trial#29 resulted in value: 91.09969865467912. Current best value is 0.000558948368520462 with parameters: {'x': 2.0236420889204076}.\n",
      "[I 2019-11-01 16:20:16,787] Finished trial#30 resulted in value: 6.127374369131368. Current best value is 0.000558948368520462 with parameters: {'x': 2.0236420889204076}.\n",
      "[I 2019-11-01 16:20:16,832] Finished trial#31 resulted in value: 0.0018639874062834527. Current best value is 0.000558948368520462 with parameters: {'x': 2.0236420889204076}.\n",
      "[I 2019-11-01 16:20:16,878] Finished trial#32 resulted in value: 8.877199976358025. Current best value is 0.000558948368520462 with parameters: {'x': 2.0236420889204076}.\n",
      "[I 2019-11-01 16:20:16,927] Finished trial#33 resulted in value: 0.006404092836349899. Current best value is 0.000558948368520462 with parameters: {'x': 2.0236420889204076}.\n",
      "[I 2019-11-01 16:20:16,974] Finished trial#34 resulted in value: 1.8490066607365272. Current best value is 0.000558948368520462 with parameters: {'x': 2.0236420889204076}.\n",
      "[I 2019-11-01 16:20:17,020] Finished trial#35 resulted in value: 1.00659398350992. Current best value is 0.000558948368520462 with parameters: {'x': 2.0236420889204076}.\n",
      "[I 2019-11-01 16:20:17,065] Finished trial#36 resulted in value: 19.453689448710456. Current best value is 0.000558948368520462 with parameters: {'x': 2.0236420889204076}.\n",
      "[I 2019-11-01 16:20:17,109] Finished trial#37 resulted in value: 2.920744673183337. Current best value is 0.000558948368520462 with parameters: {'x': 2.0236420889204076}.\n",
      "[I 2019-11-01 16:20:17,153] Finished trial#38 resulted in value: 6.924224548516933. Current best value is 0.000558948368520462 with parameters: {'x': 2.0236420889204076}.\n",
      "[I 2019-11-01 16:20:17,198] Finished trial#39 resulted in value: 3.680589852522515. Current best value is 0.000558948368520462 with parameters: {'x': 2.0236420889204076}.\n",
      "[I 2019-11-01 16:20:17,243] Finished trial#40 resulted in value: 23.853628634976186. Current best value is 0.000558948368520462 with parameters: {'x': 2.0236420889204076}.\n",
      "[I 2019-11-01 16:20:17,288] Finished trial#41 resulted in value: 0.017534612465016988. Current best value is 0.000558948368520462 with parameters: {'x': 2.0236420889204076}.\n",
      "[I 2019-11-01 16:20:17,335] Finished trial#42 resulted in value: 0.029923755879679288. Current best value is 0.000558948368520462 with parameters: {'x': 2.0236420889204076}.\n",
      "[I 2019-11-01 16:20:17,380] Finished trial#43 resulted in value: 0.8932763450508688. Current best value is 0.000558948368520462 with parameters: {'x': 2.0236420889204076}.\n",
      "[I 2019-11-01 16:20:17,425] Finished trial#44 resulted in value: 3.8363400993781074. Current best value is 0.000558948368520462 with parameters: {'x': 2.0236420889204076}.\n",
      "[I 2019-11-01 16:20:17,471] Finished trial#45 resulted in value: 1.0235239536995318. Current best value is 0.000558948368520462 with parameters: {'x': 2.0236420889204076}.\n",
      "[I 2019-11-01 16:20:17,522] Finished trial#46 resulted in value: 0.15479278482384423. Current best value is 0.000558948368520462 with parameters: {'x': 2.0236420889204076}.\n"
     ]
    },
    {
     "name": "stderr",
     "output_type": "stream",
     "text": [
      "[I 2019-11-01 16:20:17,570] Finished trial#47 resulted in value: 2.8185089774557563. Current best value is 0.000558948368520462 with parameters: {'x': 2.0236420889204076}.\n",
      "[I 2019-11-01 16:20:17,617] Finished trial#48 resulted in value: 10.70019345697711. Current best value is 0.000558948368520462 with parameters: {'x': 2.0236420889204076}.\n",
      "[I 2019-11-01 16:20:17,665] Finished trial#49 resulted in value: 9.625758083688295. Current best value is 0.000558948368520462 with parameters: {'x': 2.0236420889204076}.\n",
      "[I 2019-11-01 16:20:17,713] Finished trial#50 resulted in value: 1.8833871117188883. Current best value is 0.000558948368520462 with parameters: {'x': 2.0236420889204076}.\n",
      "[I 2019-11-01 16:20:17,762] Finished trial#51 resulted in value: 0.14982197092926833. Current best value is 0.000558948368520462 with parameters: {'x': 2.0236420889204076}.\n",
      "[I 2019-11-01 16:20:17,811] Finished trial#52 resulted in value: 0.00014727096816957892. Current best value is 0.00014727096816957892 with parameters: {'x': 1.9878644749528676}.\n",
      "[I 2019-11-01 16:20:17,861] Finished trial#53 resulted in value: 1.432230803979842. Current best value is 0.00014727096816957892 with parameters: {'x': 1.9878644749528676}.\n",
      "[I 2019-11-01 16:20:17,910] Finished trial#54 resulted in value: 0.21076180070176914. Current best value is 0.00014727096816957892 with parameters: {'x': 1.9878644749528676}.\n",
      "[I 2019-11-01 16:20:17,960] Finished trial#55 resulted in value: 0.017645481509836528. Current best value is 0.00014727096816957892 with parameters: {'x': 1.9878644749528676}.\n",
      "[I 2019-11-01 16:20:18,010] Finished trial#56 resulted in value: 6.772928422867721. Current best value is 0.00014727096816957892 with parameters: {'x': 1.9878644749528676}.\n",
      "[I 2019-11-01 16:20:18,060] Finished trial#57 resulted in value: 4.030161936477385. Current best value is 0.00014727096816957892 with parameters: {'x': 1.9878644749528676}.\n",
      "[I 2019-11-01 16:20:18,110] Finished trial#58 resulted in value: 3.384292242066009. Current best value is 0.00014727096816957892 with parameters: {'x': 1.9878644749528676}.\n",
      "[I 2019-11-01 16:20:18,161] Finished trial#59 resulted in value: 14.803048024003145. Current best value is 0.00014727096816957892 with parameters: {'x': 1.9878644749528676}.\n",
      "[I 2019-11-01 16:20:18,209] Finished trial#60 resulted in value: 1.299760482039918. Current best value is 0.00014727096816957892 with parameters: {'x': 1.9878644749528676}.\n",
      "[I 2019-11-01 16:20:18,258] Finished trial#61 resulted in value: 0.009523252326069157. Current best value is 0.00014727096816957892 with parameters: {'x': 1.9878644749528676}.\n",
      "[I 2019-11-01 16:20:18,306] Finished trial#62 resulted in value: 0.015086894778218155. Current best value is 0.00014727096816957892 with parameters: {'x': 1.9878644749528676}.\n",
      "[I 2019-11-01 16:20:18,355] Finished trial#63 resulted in value: 0.49769547302687056. Current best value is 0.00014727096816957892 with parameters: {'x': 1.9878644749528676}.\n",
      "[I 2019-11-01 16:20:18,405] Finished trial#64 resulted in value: 1.2412701457106523. Current best value is 0.00014727096816957892 with parameters: {'x': 1.9878644749528676}.\n",
      "[I 2019-11-01 16:20:18,453] Finished trial#65 resulted in value: 0.35770717891064374. Current best value is 0.00014727096816957892 with parameters: {'x': 1.9878644749528676}.\n",
      "[I 2019-11-01 16:20:18,502] Finished trial#66 resulted in value: 15.219014678712869. Current best value is 0.00014727096816957892 with parameters: {'x': 1.9878644749528676}.\n",
      "[I 2019-11-01 16:20:18,551] Finished trial#67 resulted in value: 5.980945963172828. Current best value is 0.00014727096816957892 with parameters: {'x': 1.9878644749528676}.\n",
      "[I 2019-11-01 16:20:18,601] Finished trial#68 resulted in value: 0.005747842017156391. Current best value is 0.00014727096816957892 with parameters: {'x': 1.9878644749528676}.\n",
      "[I 2019-11-01 16:20:18,651] Finished trial#69 resulted in value: 2.150530980063339. Current best value is 0.00014727096816957892 with parameters: {'x': 1.9878644749528676}.\n",
      "[I 2019-11-01 16:20:18,700] Finished trial#70 resulted in value: 2.0532428594234737. Current best value is 0.00014727096816957892 with parameters: {'x': 1.9878644749528676}.\n",
      "[I 2019-11-01 16:20:18,751] Finished trial#71 resulted in value: 0.017620841427888893. Current best value is 0.00014727096816957892 with parameters: {'x': 1.9878644749528676}.\n",
      "[I 2019-11-01 16:20:18,800] Finished trial#72 resulted in value: 0.1763946829479059. Current best value is 0.00014727096816957892 with parameters: {'x': 1.9878644749528676}.\n",
      "[I 2019-11-01 16:20:18,849] Finished trial#73 resulted in value: 0.4060918330893832. Current best value is 0.00014727096816957892 with parameters: {'x': 1.9878644749528676}.\n",
      "[I 2019-11-01 16:20:18,899] Finished trial#74 resulted in value: 4.985538550174288. Current best value is 0.00014727096816957892 with parameters: {'x': 1.9878644749528676}.\n",
      "[I 2019-11-01 16:20:18,949] Finished trial#75 resulted in value: 0.8367558600373352. Current best value is 0.00014727096816957892 with parameters: {'x': 1.9878644749528676}.\n",
      "[I 2019-11-01 16:20:18,999] Finished trial#76 resulted in value: 0.010632696513042354. Current best value is 0.00014727096816957892 with parameters: {'x': 1.9878644749528676}.\n",
      "[I 2019-11-01 16:20:19,049] Finished trial#77 resulted in value: 4.887660487888068. Current best value is 0.00014727096816957892 with parameters: {'x': 1.9878644749528676}.\n",
      "[I 2019-11-01 16:20:19,101] Finished trial#78 resulted in value: 8.778590768892263. Current best value is 0.00014727096816957892 with parameters: {'x': 1.9878644749528676}.\n",
      "[I 2019-11-01 16:20:19,152] Finished trial#79 resulted in value: 3.2310554790017885. Current best value is 0.00014727096816957892 with parameters: {'x': 1.9878644749528676}.\n",
      "[I 2019-11-01 16:20:19,202] Finished trial#80 resulted in value: 0.5875705641757293. Current best value is 0.00014727096816957892 with parameters: {'x': 1.9878644749528676}.\n",
      "[I 2019-11-01 16:20:19,252] Finished trial#81 resulted in value: 0.002401476515583393. Current best value is 0.00014727096816957892 with parameters: {'x': 1.9878644749528676}.\n",
      "[I 2019-11-01 16:20:19,303] Finished trial#82 resulted in value: 0.0030538092433831546. Current best value is 0.00014727096816957892 with parameters: {'x': 1.9878644749528676}.\n",
      "[I 2019-11-01 16:20:19,355] Finished trial#83 resulted in value: 2.448237357192491. Current best value is 0.00014727096816957892 with parameters: {'x': 1.9878644749528676}.\n",
      "[I 2019-11-01 16:20:19,405] Finished trial#84 resulted in value: 0.5783715947717425. Current best value is 0.00014727096816957892 with parameters: {'x': 1.9878644749528676}.\n",
      "[I 2019-11-01 16:20:19,456] Finished trial#85 resulted in value: 60.237119144873155. Current best value is 0.00014727096816957892 with parameters: {'x': 1.9878644749528676}.\n",
      "[I 2019-11-01 16:20:19,507] Finished trial#86 resulted in value: 1.737403866733075. Current best value is 0.00014727096816957892 with parameters: {'x': 1.9878644749528676}.\n",
      "[I 2019-11-01 16:20:19,558] Finished trial#87 resulted in value: 0.05578811191004054. Current best value is 0.00014727096816957892 with parameters: {'x': 1.9878644749528676}.\n",
      "[I 2019-11-01 16:20:19,608] Finished trial#88 resulted in value: 7.337136064204295. Current best value is 0.00014727096816957892 with parameters: {'x': 1.9878644749528676}.\n",
      "[I 2019-11-01 16:20:19,659] Finished trial#89 resulted in value: 0.4035833152181828. Current best value is 0.00014727096816957892 with parameters: {'x': 1.9878644749528676}.\n",
      "[I 2019-11-01 16:20:19,710] Finished trial#90 resulted in value: 0.8346991227495821. Current best value is 0.00014727096816957892 with parameters: {'x': 1.9878644749528676}.\n",
      "[I 2019-11-01 16:20:19,761] Finished trial#91 resulted in value: 0.014102473086409079. Current best value is 0.00014727096816957892 with parameters: {'x': 1.9878644749528676}.\n",
      "[I 2019-11-01 16:20:19,813] Finished trial#92 resulted in value: 0.00019882779590623062. Current best value is 0.00014727096816957892 with parameters: {'x': 1.9878644749528676}.\n",
      "[I 2019-11-01 16:20:19,865] Finished trial#93 resulted in value: 2.3919951063812466. Current best value is 0.00014727096816957892 with parameters: {'x': 1.9878644749528676}.\n"
     ]
    },
    {
     "name": "stderr",
     "output_type": "stream",
     "text": [
      "[I 2019-11-01 16:20:19,917] Finished trial#94 resulted in value: 0.09623488318054538. Current best value is 0.00014727096816957892 with parameters: {'x': 1.9878644749528676}.\n",
      "[I 2019-11-01 16:20:19,972] Finished trial#95 resulted in value: 0.8671756792943243. Current best value is 0.00014727096816957892 with parameters: {'x': 1.9878644749528676}.\n",
      "[I 2019-11-01 16:20:20,026] Finished trial#96 resulted in value: 0.9209313580146876. Current best value is 0.00014727096816957892 with parameters: {'x': 1.9878644749528676}.\n",
      "[I 2019-11-01 16:20:20,079] Finished trial#97 resulted in value: 0.008234269658764417. Current best value is 0.00014727096816957892 with parameters: {'x': 1.9878644749528676}.\n",
      "[I 2019-11-01 16:20:20,130] Finished trial#98 resulted in value: 2.4568436118610193. Current best value is 0.00014727096816957892 with parameters: {'x': 1.9878644749528676}.\n",
      "[I 2019-11-01 16:20:20,182] Finished trial#99 resulted in value: 4.108720961438605. Current best value is 0.00014727096816957892 with parameters: {'x': 1.9878644749528676}.\n"
     ]
    }
   ],
   "source": [
    "study.optimize(objective, n_trials=100)"
   ]
  },
  {
   "cell_type": "code",
   "execution_count": 8,
   "metadata": {},
   "outputs": [
    {
     "data": {
      "text/plain": [
       "{'x': 1.9878644749528676}"
      ]
     },
     "execution_count": 8,
     "metadata": {},
     "output_type": "execute_result"
    }
   ],
   "source": [
    "study.best_params"
   ]
  },
  {
   "cell_type": "code",
   "execution_count": null,
   "metadata": {},
   "outputs": [],
   "source": []
  },
  {
   "cell_type": "code",
   "execution_count": null,
   "metadata": {},
   "outputs": [],
   "source": []
  },
  {
   "cell_type": "code",
   "execution_count": null,
   "metadata": {},
   "outputs": [],
   "source": []
  }
 ],
 "metadata": {
  "kernelspec": {
   "display_name": "Python 3",
   "language": "python",
   "name": "python3"
  },
  "language_info": {
   "codemirror_mode": {
    "name": "ipython",
    "version": 3
   },
   "file_extension": ".py",
   "mimetype": "text/x-python",
   "name": "python",
   "nbconvert_exporter": "python",
   "pygments_lexer": "ipython3",
   "version": "3.7.4"
  }
 },
 "nbformat": 4,
 "nbformat_minor": 2
}
